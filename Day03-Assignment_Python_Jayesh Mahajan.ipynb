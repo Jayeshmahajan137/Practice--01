{
 "cells": [
  {
   "cell_type": "markdown",
   "id": "20387363",
   "metadata": {},
   "source": [
    "# Assignment-Day03-Python\n",
    "Jayesh Mahajan"
   ]
  },
  {
   "cell_type": "markdown",
   "id": "01ae6fd0",
   "metadata": {},
   "source": [
    "# Q1. Write a Python program to replace the last element in a list with another list. \n",
    "Sample data : [1, 3, 5, 7, 9, 10], [2, 4, 6, 8] \n",
    "Expected Output: [1, 3, 5, 7, 9, 2, 4, 6, 8] \n"
   ]
  },
  {
   "cell_type": "code",
   "execution_count": 3,
   "id": "7e50e6a7",
   "metadata": {},
   "outputs": [
    {
     "name": "stdout",
     "output_type": "stream",
     "text": [
      "[1, 3, 5, 7, 9, 2, 4, 6, 8]\n"
     ]
    }
   ],
   "source": [
    "l1=[1,3,5,7,9,10]\n",
    "l2=[2,4,6,8]\n",
    "l1[-1:]=l2\n",
    "print(l1)"
   ]
  },
  {
   "cell_type": "markdown",
   "id": "729f5523",
   "metadata": {},
   "source": [
    "# Q2.Write a Python program to reverse a tuple.(String and Numeric values)\n"
   ]
  },
  {
   "cell_type": "code",
   "execution_count": 6,
   "id": "a75d86fe",
   "metadata": {},
   "outputs": [
    {
     "name": "stdout",
     "output_type": "stream",
     "text": [
      "Reverse of tup1 is: ((6+5j), True, 2.3, 'Jayesh', 1)\n"
     ]
    }
   ],
   "source": [
    "tup1=(1,\"Jayesh\",2.3,True,6+5j)\n",
    "reverse=tuple(list(tup1)[::-1])\n",
    "print(\"Reverse of tup1 is:\", reverse)"
   ]
  },
  {
   "cell_type": "markdown",
   "id": "a449c3cd",
   "metadata": {},
   "source": [
    "# Q3.Write a Python program that prints each item and its corresponding type from the following list.\n",
    " Sample List : datalist = [1452, 11.23, 1+2j, True, 'Atgeir', (0, -1), [5, 12], {\"class\":'V', \"section\":'A'}]\n"
   ]
  },
  {
   "cell_type": "code",
   "execution_count": 7,
   "id": "2c507e72",
   "metadata": {},
   "outputs": [
    {
     "name": "stdout",
     "output_type": "stream",
     "text": [
      "Data type of 1452 is <class 'int'>\n",
      "Data type of 11.23 is <class 'float'>\n",
      "Data type of (1+2j) is <class 'complex'>\n",
      "Data type of True is <class 'bool'>\n",
      "Data type of Atgeir is <class 'str'>\n",
      "Data type of (0, -1) is <class 'tuple'>\n",
      "Data type of [5, 12] is <class 'list'>\n",
      "Data type of {'class': 'V', 'section': 'A'} is <class 'dict'>\n"
     ]
    }
   ],
   "source": [
    "datalist = [1452, 11.23, 1+2j, True, 'Atgeir', (0, -1), [5, 12], {\"class\":'V', \"section\":'A'}]\n",
    "for i in datalist:\n",
    "    print(\"Data type of\", i, \"is\", type(i))"
   ]
  },
  {
   "cell_type": "markdown",
   "id": "a42d4000",
   "metadata": {},
   "source": [
    "# Q4.Write a Python program to display the middle two colors from the following list.\n",
    "color_list = [\"Red\",\"Green\",\"White\" ,\"Black\"]\n"
   ]
  },
  {
   "cell_type": "code",
   "execution_count": 9,
   "id": "fa919810",
   "metadata": {},
   "outputs": [
    {
     "data": {
      "text/plain": [
       "['Green', 'White']"
      ]
     },
     "execution_count": 9,
     "metadata": {},
     "output_type": "execute_result"
    }
   ],
   "source": [
    "color_list = [\"Red\",\"Green\",\"White\" ,\"Black\"]\n",
    "color_list[1:3]"
   ]
  },
  {
   "cell_type": "code",
   "execution_count": 10,
   "id": "bfffc202",
   "metadata": {},
   "outputs": [
    {
     "name": "stdout",
     "output_type": "stream",
     "text": [
      "Middle colors: ['Green', 'White']\n"
     ]
    }
   ],
   "source": [
    "color_list = [\"Red\", \"Green\", \"White\", \"Black\"]\n",
    "\n",
    "# Finding the middle index/indices based on the length of the list\n",
    "middle_index = len(color_list) // 2\n",
    "if len(color_list) % 2 == 0:\n",
    "    middle_index1 = middle_index - 1\n",
    "else:\n",
    "    middle_index1 = middle_index\n",
    "\n",
    "# Getting the middle two colors from the list using the middle indices\n",
    "middle_colors = color_list[middle_index1:middle_index+1]\n",
    "\n",
    "print(\"Middle colors:\", middle_colors)\n"
   ]
  },
  {
   "cell_type": "markdown",
   "id": "1b32bff1",
   "metadata": {},
   "source": [
    "# Q5. Write a Python program to calculate the number of days between two dates. \n",
    "\n",
    "Note:from datetime import date\n",
    "\n",
    "Sample dates : (2014, 7, 2), (2014, 7, 11)\n",
    "\n",
    "Expected output : 9 days\n"
   ]
  },
  {
   "cell_type": "code",
   "execution_count": 14,
   "id": "80c49935",
   "metadata": {},
   "outputs": [
    {
     "name": "stdout",
     "output_type": "stream",
     "text": [
      "Number of days: 31\n"
     ]
    }
   ],
   "source": [
    "from datetime import date\n",
    "\n",
    "date1 = date(2023, 1, 18)\n",
    "date2 = date(2023, 2, 18)\n",
    "\n",
    "# Calculating the number of days between two dates using the date delta\n",
    "delta = date2 - date1\n",
    "num_days = delta.days\n",
    "\n",
    "print(\"Number of days:\", num_days)\n"
   ]
  },
  {
   "cell_type": "markdown",
   "id": "2064da2e",
   "metadata": {},
   "source": [
    "# Q6. Write a Python program to get the difference between a given number and 17, if the number is greater than 17 then return double of the difference.(Print Absolute value of output)\n",
    "Sample Output1:\n",
    "\n",
    "Enter number :22\n",
    "\n",
    "Answer:10\n",
    "\n",
    "Sample Output2:\n",
    "\n",
    "Enter number :14\n",
    "\n",
    "Answer:3\n",
    "\n"
   ]
  },
  {
   "cell_type": "code",
   "execution_count": 20,
   "id": "c195273c",
   "metadata": {},
   "outputs": [
    {
     "name": "stdout",
     "output_type": "stream",
     "text": [
      "Enter number: 19\n",
      "Answer: 4\n"
     ]
    }
   ],
   "source": [
    "number = int(input(\"Enter number: \"))\n",
    "\n",
    "if number > 17:\n",
    "    diff = (number - 17) * 2\n",
    "else:\n",
    "    diff = 17 - number\n",
    "\n",
    "# Taking absolute value of the difference using the abs() function\n",
    "abs_diff = abs(diff)\n",
    "\n",
    "print(\"Answer:\", abs_diff)\n"
   ]
  },
  {
   "cell_type": "markdown",
   "id": "70e67292",
   "metadata": {},
   "source": [
    "# Q7. Write a Python program to shuffle and print a list entered by the user\n"
   ]
  },
  {
   "cell_type": "code",
   "execution_count": 23,
   "id": "09d628cc",
   "metadata": {},
   "outputs": [
    {
     "name": "stdout",
     "output_type": "stream",
     "text": [
      "Enter a list of elements separated by space: 1,Jayesh,Atgeir,True, 100\n",
      "Shuffled list: ['100', '1,Jayesh,Atgeir,True,']\n"
     ]
    }
   ],
   "source": [
    "import random\n",
    "\n",
    "# Taking user input for a list of elements\n",
    "elements = input(\"Enter a list of elements separated by space: \").split()\n",
    "\n",
    "# Shuffling the list using the random.shuffle() function\n",
    "random.shuffle(elements)\n",
    "\n",
    "# Printing the shuffled list\n",
    "print(\"Shuffled list:\", elements)\n"
   ]
  },
  {
   "cell_type": "markdown",
   "id": "45440970",
   "metadata": {},
   "source": [
    "# Q8. Write a Python program to get unique values from a list.\n"
   ]
  },
  {
   "cell_type": "code",
   "execution_count": 24,
   "id": "66077edb",
   "metadata": {},
   "outputs": [
    {
     "name": "stdout",
     "output_type": "stream",
     "text": [
      "Original list is: [11, 20, 2, 3, 4, 4, 5, 6, 6, 11, 20, 2, 3]\n",
      "Unique list is: [2, 3, 4, 5, 6, 11, 20]\n"
     ]
    }
   ],
   "source": [
    "# Defining a list with duplicate values\n",
    "l1 = [11, 20, 2, 3, 4, 4, 5, 6, 6,11,20,2,3]\n",
    "\n",
    "# Converting the list to a set to remove duplicates\n",
    "unique_list = list(set(l1))\n",
    "\n",
    "print(\"Original list is:\", l1)\n",
    "print(\"Unique list is:\", unique_list)\n"
   ]
  },
  {
   "cell_type": "markdown",
   "id": "bb797232",
   "metadata": {},
   "source": [
    "# Q9. \n",
    "\n",
    "Input : test_list = [(25, 6), (34, 7), (214, 235), (12, 45), (78, ),(111,22),[356,729]]\n",
    "\n",
    "Output : [(214, 235)] \n",
    "\n",
    "Explanation : Extract tuples having 3 digit elements.\n",
    "\n"
   ]
  },
  {
   "cell_type": "code",
   "execution_count": 25,
   "id": "a6a28445",
   "metadata": {},
   "outputs": [
    {
     "name": "stdout",
     "output_type": "stream",
     "text": [
      "Input list: [(25, 6), (34, 7), (214, 235), (12, 45), (78,), (111, 22), [356, 729]]\n",
      "Output list: [(214, 235), [356, 729]]\n"
     ]
    }
   ],
   "source": [
    "# Defining the test list of tuples\n",
    "test_list = [(25, 6), (34, 7), (214, 235), (12, 45), (78,), (111, 22), [356, 729]]\n",
    "\n",
    "# Using list comprehension to extract tuples with 3-digit elements\n",
    "result_list = [tup for tup in test_list if all(isinstance(num, int) and len(str(num)) == 3 for num in tup)]\n",
    "\n",
    "print(\"Input list:\", test_list)\n",
    "print(\"Output list:\", result_list)\n"
   ]
  },
  {
   "cell_type": "markdown",
   "id": "707b02fb",
   "metadata": {},
   "source": [
    "# Q10. Given a list with multiple sub list inside it. Convert it into flat list.\n",
    "\n",
    "Ex:\n",
    "\n",
    "x=[[1,2,3],[10,[4,6,7]],8]\n",
    "\n",
    "Output:\n",
    "\n",
    "[1,2,3,10,4,6,7,8]\n"
   ]
  },
  {
   "cell_type": "code",
   "execution_count": 31,
   "id": "d4cb9799",
   "metadata": {},
   "outputs": [
    {
     "name": "stdout",
     "output_type": "stream",
     "text": [
      "Input list: [[1, 2, 3], [10, [4, 6, 7]], 8]\n",
      "Output list: [1, 2, 3, 10, 4, 6, 7, 8]\n"
     ]
    }
   ],
   "source": [
    "# Defining the input list with multiple sub-lists\n",
    "l = [[1, 2, 3], [10, [4, 6, 7]], 8]\n",
    "\n",
    "# Using a recursive function to flatten the list\n",
    "def list1(l):\n",
    "    l2 = []\n",
    "    for i in l:\n",
    "        if isinstance(i, list):\n",
    "            l2.extend(list1(i))\n",
    "        else:\n",
    "            l2.append(i)\n",
    "    return l2\n",
    "\n",
    "# Calling the flatten() function on the input list to get the flat list\n",
    "l2 = list1(x)\n",
    "\n",
    "print(\"Input list:\", l)\n",
    "print(\"Output list:\", l2)\n"
   ]
  }
 ],
 "metadata": {
  "kernelspec": {
   "display_name": "Python 3 (ipykernel)",
   "language": "python",
   "name": "python3"
  },
  "language_info": {
   "codemirror_mode": {
    "name": "ipython",
    "version": 3
   },
   "file_extension": ".py",
   "mimetype": "text/x-python",
   "name": "python",
   "nbconvert_exporter": "python",
   "pygments_lexer": "ipython3",
   "version": "3.9.13"
  }
 },
 "nbformat": 4,
 "nbformat_minor": 5
}
