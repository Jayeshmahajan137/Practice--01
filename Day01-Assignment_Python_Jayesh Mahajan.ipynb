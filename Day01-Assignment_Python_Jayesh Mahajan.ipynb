{
  "nbformat": 4,
  "nbformat_minor": 0,
  "metadata": {
    "colab": {
      "provenance": []
    },
    "kernelspec": {
      "name": "python3",
      "display_name": "Python 3"
    },
    "language_info": {
      "name": "python"
    }
  },
  "cells": [
    {
      "cell_type": "code",
      "source": [
        "#Q2.Using platform module Write a Python program to get the Python version you are using\n",
        "#Ans:-\n",
        "\n",
        "import platform\n",
        "\n",
        "print(\"Python version:\", platform.python_version())\n"
      ],
      "metadata": {
        "colab": {
          "base_uri": "https://localhost:8080/"
        },
        "id": "-adYFqfz8Yxf",
        "outputId": "b83b8409-7e38-4286-cac8-a3d842320b2d"
      },
      "execution_count": null,
      "outputs": [
        {
          "output_type": "stream",
          "name": "stdout",
          "text": [
            "Python version: 3.8.10\n"
          ]
        }
      ]
    },
    {
      "cell_type": "code",
      "source": [
        "#Q3.Using datetime module Display the current date and time\n",
        "#Ans:-\n",
        "\n",
        "import datetime\n",
        "current_datetime=datetime.datetime.now()\n",
        "print('Current date and time is',current_datetime)"
      ],
      "metadata": {
        "colab": {
          "base_uri": "https://localhost:8080/"
        },
        "id": "BWYqdcWO9Zvj",
        "outputId": "67e75080-82ad-496b-d201-0181dc334052"
      },
      "execution_count": null,
      "outputs": [
        {
          "output_type": "stream",
          "name": "stdout",
          "text": [
            "Current date and time is 2023-02-15 12:07:35.719083\n"
          ]
        }
      ]
    },
    {
      "cell_type": "code",
      "source": [
        "\n",
        "#Q4. \n",
        "#Ans:-\n",
        "print((help(sum)))"
      ],
      "metadata": {
        "colab": {
          "base_uri": "https://localhost:8080/"
        },
        "id": "2mf-ELuG9Xrc",
        "outputId": "5b2089be-99a9-443c-c27d-0206d7b79dab"
      },
      "execution_count": null,
      "outputs": [
        {
          "output_type": "stream",
          "name": "stdout",
          "text": [
            "Help on built-in function sum in module builtins:\n",
            "\n",
            "sum(iterable, /, start=0)\n",
            "    Return the sum of a 'start' value (default: 0) plus an iterable of numbers\n",
            "    \n",
            "    When the iterable is empty, return the start value.\n",
            "    This function is intended specifically for use with numeric values and may\n",
            "    reject non-numeric types.\n",
            "\n",
            "None\n"
          ]
        }
      ]
    },
    {
      "cell_type": "markdown",
      "source": [
        "A docstring is a string literal that appears as the first statement in a module, class, or function definition. It is used to document the purpose, usage, and behavior of the module, class, or function.\n",
        "In Python, the help() function can be used to print the docstring of any built-in function. "
      ],
      "metadata": {
        "id": "XMYKmw8A--_E"
      }
    },
    {
      "cell_type": "code",
      "source": [
        "#Q5. Write a Python program to print the calendar of a given month and year.Note : Use 'calendar' module.\n",
        "#Ans:-\n",
        "\n",
        "import calendar\n",
        "year=2023\n",
        "month=2\n",
        "\n",
        "cal=calendar.monthcalendar(year,month)\n",
        "print(calendar.month_name[month],year)\n",
        "print('Mo Tu Wd Th Fr Sat Su')\n",
        "\n",
        "for week in cal:\n",
        "    week_str = \"\"\n",
        "    for day in week:\n",
        "        if day == 0:\n",
        "            week_str += \"   \"\n",
        "        else:\n",
        "            week_str += f\"{day:2d} \"\n",
        "    print(week_str)\n"
      ],
      "metadata": {
        "colab": {
          "base_uri": "https://localhost:8080/"
        },
        "id": "LHqJIV8m_4B7",
        "outputId": "cfca7660-3a10-4b6a-970f-099484775fcf"
      },
      "execution_count": null,
      "outputs": [
        {
          "output_type": "stream",
          "name": "stdout",
          "text": [
            "February 2023\n",
            "Mo Tu Wd Th Fr Sat Su\n",
            "       1  2  3  4  5 \n",
            " 6  7  8  9 10 11 12 \n",
            "13 14 15 16 17 18 19 \n",
            "20 21 22 23 24 25 26 \n",
            "27 28                \n"
          ]
        }
      ]
    },
    {
      "cell_type": "code",
      "source": [
        "#Q6.Print a random number using random module\n",
        "#Ans:-\n",
        "import random\n",
        "random_number=random.randint(1, 10)\n",
        "print(\"Random Number is:\", random_number)"
      ],
      "metadata": {
        "colab": {
          "base_uri": "https://localhost:8080/"
        },
        "id": "xuvqucrlEgVS",
        "outputId": "82d1b771-1f18-4715-d28e-29a97ad22c2b"
      },
      "execution_count": null,
      "outputs": [
        {
          "output_type": "stream",
          "name": "stdout",
          "text": [
            "Random Number is: 6\n"
          ]
        }
      ]
    },
    {
      "cell_type": "code",
      "source": [
        "#Q7.Write a Python program to calculate the sum of three given numbers, if the values are equal then return three times of their sum.\n",
        "#Ans:-\n",
        "\n",
        "def sum_or_triple(x, y, z):\n",
        "    if x == y == z:\n",
        "        return 3 * (x + y + z)\n",
        "    else:\n",
        "        return x + y + z\n",
        "\n",
        "sum_or_triple(1,2,3)"
      ],
      "metadata": {
        "colab": {
          "base_uri": "https://localhost:8080/"
        },
        "id": "4iBzT_gZF5n8",
        "outputId": "f1fc1371-4748-40a9-c3e7-b39eb1ea5bb7"
      },
      "execution_count": null,
      "outputs": [
        {
          "output_type": "execute_result",
          "data": {
            "text/plain": [
              "6"
            ]
          },
          "metadata": {},
          "execution_count": 19
        }
      ]
    },
    {
      "cell_type": "code",
      "source": [
        "sum_or_triple(4,4,4)"
      ],
      "metadata": {
        "colab": {
          "base_uri": "https://localhost:8080/"
        },
        "id": "VYCJbW-IGj5-",
        "outputId": "909147a8-76d3-48f5-9734-d0857fd310a1"
      },
      "execution_count": null,
      "outputs": [
        {
          "output_type": "execute_result",
          "data": {
            "text/plain": [
              "36"
            ]
          },
          "metadata": {},
          "execution_count": 20
        }
      ]
    },
    {
      "cell_type": "code",
      "source": [
        "#Q8.To print different kinds of variables and their types like float,int,string,boolean\n",
        "#Ans:-\n",
        "\n",
        "float_variable=1.2\n",
        "integer=23\n",
        "string=\"Jayesh\"\n",
        "Boolean=True\n",
        "\n",
        "print(\"Float variable is:\",float_variable,type(float_variable))\n",
        "print(\"Integer Variable is :\",integer,type(integer))\n",
        "print(\"String Variable is:\",string,type(string))\n",
        "print(\"Boolean variable is:\",Boolean, type(Boolean))\n",
        "\n"
      ],
      "metadata": {
        "colab": {
          "base_uri": "https://localhost:8080/"
        },
        "id": "rmIGquD-GvMk",
        "outputId": "dcf4f37c-3cc1-4224-970f-27a6e8b1f439"
      },
      "execution_count": null,
      "outputs": [
        {
          "output_type": "stream",
          "name": "stdout",
          "text": [
            "Float variable is: 1.2 <class 'float'>\n",
            "Integer Variable is : 23 <class 'int'>\n",
            "String Variable is: Jayesh <class 'str'>\n",
            "Boolean variable is: True <class 'bool'>\n"
          ]
        }
      ]
    },
    {
      "cell_type": "code",
      "source": [
        "#Q9.Write a program which can add two complex numbers.\n",
        "#Ans:-\n",
        "\n",
        "complex_number1=5+6j\n",
        "complex_number2=2+3j\n",
        "\n",
        "result= complex_number1 + complex_number2\n",
        "print(\"Addition of \", complex_number1,complex_number2 , \"is:\",result)"
      ],
      "metadata": {
        "colab": {
          "base_uri": "https://localhost:8080/"
        },
        "id": "2lhLXnfzIdhQ",
        "outputId": "b26ecbb6-6c1c-4ea2-c4bf-63ecdb2720fe"
      },
      "execution_count": null,
      "outputs": [
        {
          "output_type": "stream",
          "name": "stdout",
          "text": [
            "Addition of  (5+6j) (2+3j) is: (7+9j)\n"
          ]
        }
      ]
    },
    {
      "cell_type": "code",
      "source": [
        "#Q10.Write a program to swap two numbers without using third variable\n",
        "#Ans:-\n",
        "\n",
        "# Define two variables\n",
        "x = 10\n",
        "y = 20\n",
        "\n",
        "# Print the initial values of x and y\n",
        "print(\" Value of x and y before swap:\")\n",
        "print(\"x =\", x)\n",
        "print(\"y =\", y)\n",
        "\n",
        "# Swap the values of x and y without using a third variable\n",
        "x = x + y\n",
        "y = x - y\n",
        "x = x - y\n",
        "\n",
        "# Print the new values of x and y\n",
        "print(\" value of x and y after swap:\")\n",
        "print(\"x =\", x)\n",
        "print(\"y =\", y)\n"
      ],
      "metadata": {
        "colab": {
          "base_uri": "https://localhost:8080/"
        },
        "id": "Fuf28lslKIaR",
        "outputId": "49270a99-49df-4928-e3bd-da88ec02eff0"
      },
      "execution_count": null,
      "outputs": [
        {
          "output_type": "stream",
          "name": "stdout",
          "text": [
            " Value of x and y before swap:\n",
            "x = 10\n",
            "y = 20\n",
            " value of x and y after swap:\n",
            "x = 20\n",
            "y = 10\n"
          ]
        }
      ]
    },
    {
      "cell_type": "code",
      "source": [
        "#Q11.Write a program to print message on single line  print(Hello),print(World)\n",
        "#Ans:-\n",
        "print(\"Hello\", end=\" \")\n",
        "print(\"World\")\n"
      ],
      "metadata": {
        "colab": {
          "base_uri": "https://localhost:8080/"
        },
        "id": "PdWZBaZxLUrR",
        "outputId": "0c41c72d-b405-4bc8-9d3b-46d1407c1353"
      },
      "execution_count": null,
      "outputs": [
        {
          "output_type": "stream",
          "name": "stdout",
          "text": [
            "Hello World\n"
          ]
        }
      ]
    },
    {
      "cell_type": "code",
      "source": [
        "#Q12.List out the different types of type casting in python (e.g. int to float)\n",
        "#Ans:-\n",
        "# Integer to str\n",
        "# Integer to float\n",
        "# Integer to string\n",
        "# String to Integer\n",
        "\n",
        "\n",
        "\n"
      ],
      "metadata": {
        "id": "r6rdsAEDM317"
      },
      "execution_count": null,
      "outputs": []
    },
    {
      "cell_type": "code",
      "source": [],
      "metadata": {
        "id": "kRf9P09qmKqi"
      },
      "execution_count": null,
      "outputs": []
    },
    {
      "cell_type": "code",
      "source": [
        "#Q13. Program to calculate area of circle by using math module function \n",
        "#Ans:-\n",
        "import math\n",
        "\n",
        "radius = float(input(\"Enter the radius of the circle: \"))\n",
        "\n",
        "# A = pi*r^2\n",
        "area = math.pi * radius**2\n",
        "\n",
        "print(\"The area of the circle is:\", area)\n"
      ],
      "metadata": {
        "id": "LvkWbyhrdkZX"
      },
      "execution_count": null,
      "outputs": []
    },
    {
      "cell_type": "code",
      "source": [
        "#Q14. Assume suitable value for Ramesh's basic salary. His dearness allowance is 40% of basic salary and house rent allowance is 20% of basic salary. Calculte his gross salary (basic+dearness+hra=gross)\n",
        "\n",
        "#Ans:-\n",
        "# assume Ramesh's basic salary is 50000\n",
        "basic_salary = 50000\n",
        "\n",
        "# calculate dearness allowance and house rent allowance\n",
        "da = 0.4 * basic_salary\n",
        "hra = 0.2 * basic_salary\n",
        "\n",
        "# calculate gross salary\n",
        "gross_salary = basic_salary + da + hra\n",
        "\n",
        "# print the result\n",
        "print(\"Ramesh's basic salary is:\", basic_salary)\n",
        "print(\"Ramesh's dearness allowance is:\", da)\n",
        "print(\"Ramesh's house rent allowance is:\", hra)\n",
        "print(\"Ramesh's gross salary is:\", gross_salary)\n"
      ],
      "metadata": {
        "id": "z34k-NTJo-h9"
      },
      "execution_count": null,
      "outputs": []
    },
    {
      "cell_type": "code",
      "source": [
        "#Q15.Take input of distance between two cities in Km convert this value in meters, feet, inches and centimeters\n",
        "#Ans:-\n",
        "distance_km = float(input(\"Enter the distance between two cities in kilometers: \"))\n",
        "\n",
        "# convert distance to meters\n",
        "distance_m = distance_km * 1000\n",
        "\n",
        "# convert distance to feet\n",
        "distance_ft = distance_km * 3280.84\n",
        "\n",
        "# convert distance to inches\n",
        "distance_in = distance_km * 39370.1\n",
        "\n",
        "# convert distance to centimeters\n",
        "distance_cm = distance_km * 100000\n",
        "\n",
        "# print the result\n",
        "print(\"Distance in meters:\", distance_m)\n",
        "print(\"Distance in feet:\", distance_ft)\n",
        "print(\"Distance in inches:\", distance_in)\n",
        "print(\"Distance in centimeters:\", distance_cm)\n"
      ],
      "metadata": {
        "id": "aI9Lit0emiv0"
      },
      "execution_count": null,
      "outputs": []
    },
    {
      "cell_type": "code",
      "source": [
        "#Q16. Display float number with 2 decimal places using print().\n",
        "#Ans:-\n",
        "num = 3.14159\n",
        "# Display the float number with 2 decimal places\n",
        "print(\"The float number is: {:.2f}\".format(num))\n"
      ],
      "metadata": {
        "id": "ZfDNhC0AoMnT"
      },
      "execution_count": null,
      "outputs": []
    },
    {
      "cell_type": "code",
      "source": [],
      "metadata": {
        "id": "OQo2hdt4m8_T"
      },
      "execution_count": null,
      "outputs": []
    }
  ]
}