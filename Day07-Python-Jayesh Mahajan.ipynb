{
 "cells": [
  {
   "cell_type": "markdown",
   "id": "1587b944",
   "metadata": {},
   "source": [
    "Q1.Write a Python program to generate a random alphabetical string, random value between two integers (inclusive) and a random multiple of 7 between 0 and 70. "
   ]
  },
  {
   "cell_type": "code",
   "execution_count": 1,
   "id": "984a4141",
   "metadata": {},
   "outputs": [
    {
     "name": "stdout",
     "output_type": "stream",
     "text": [
      "Random alphabetical string: LvRlXPXdxg\n",
      "Random integer between 1 and 10: 7\n",
      "Random multiple of 7 between 0 and 70: 56\n"
     ]
    }
   ],
   "source": [
    "import random\n",
    "import string\n",
    "\n",
    "# Generate a random alphabetical string\n",
    "alphabet = string.ascii_letters\n",
    "random_string = ''.join(random.choice(alphabet) for i in range(10))\n",
    "\n",
    "# Generate a random integer between 1 and 10 (inclusive)\n",
    "random_int = random.randint(1, 10)\n",
    "\n",
    "# Generate a random multiple of 7 between 0 and 70\n",
    "random_multiple = random.randrange(0, 71, 7)\n",
    "\n",
    "# Print the results\n",
    "print(\"Random alphabetical string:\", random_string)\n",
    "print(\"Random integer between 1 and 10:\", random_int)\n",
    "print(\"Random multiple of 7 between 0 and 70:\", random_multiple)\n"
   ]
  },
  {
   "cell_type": "code",
   "execution_count": 2,
   "id": "f8b05a20",
   "metadata": {},
   "outputs": [],
   "source": [
    "import random\n",
    "import string\n",
    "\n",
    "def generate_random_values():\n",
    "    # Generate a random alphabetical string\n",
    "    alphabet = string.ascii_letters\n",
    "    random_string = ''.join(random.choice(alphabet) for i in range(10))\n",
    "\n",
    "    # Generate a random integer between two given values (inclusive)\n",
    "    min_val = int(input(\"Enter minimum value: \"))\n",
    "    max_val = int(input(\"Enter maximum value: \"))\n",
    "    random_int = random.randint(min_val, max_val)\n",
    "\n",
    "    # Generate a random multiple of 7 between 0 and 70\n",
    "    random_multiple = random.randrange(0, 71, 7)\n",
    "\n",
    "    # Return a tuple with the generated values\n",
    "    return random_string, random_int, random_multiple\n"
   ]
  },
  {
   "cell_type": "code",
   "execution_count": 3,
   "id": "cf9d5fb1",
   "metadata": {},
   "outputs": [
    {
     "name": "stdout",
     "output_type": "stream",
     "text": [
      "Enter minimum value: 1\n",
      "Enter maximum value: 10\n",
      "Random alphabetical string: SZcWPMXnjs\n",
      "Random integer: 10\n",
      "Random multiple of 7: 7\n"
     ]
    }
   ],
   "source": [
    "random_string, random_int, random_multiple = generate_random_values()\n",
    "print(\"Random alphabetical string:\", random_string)\n",
    "print(\"Random integer:\", random_int)\n",
    "print(\"Random multiple of 7:\", random_multiple)\n"
   ]
  },
  {
   "cell_type": "markdown",
   "id": "e12ba74a",
   "metadata": {},
   "source": [
    "Q2.Write a python program to print the no. of days to reach your birthday from today.\n"
   ]
  },
  {
   "cell_type": "code",
   "execution_count": 5,
   "id": "513b80e7",
   "metadata": {},
   "outputs": [],
   "source": [
    "import datetime\n",
    "\n",
    "def days_until_birthday(birthdate):\n",
    "    \"\"\"\n",
    "    Calculate the number of days until the next birthday.\n",
    "    \"\"\"\n",
    "    today = datetime.date.today()\n",
    "    next_birthday = datetime.date(today.year, birthdate.month, birthdate.day)\n",
    "    if next_birthday < today:\n",
    "        next_birthday = datetime.date(today.year + 1, birthdate.month, birthdate.day)\n",
    "    time_to_birthday = next_birthday - today\n",
    "    return time_to_birthday.days"
   ]
  },
  {
   "cell_type": "code",
   "execution_count": 16,
   "id": "c2b0452d",
   "metadata": {},
   "outputs": [
    {
     "name": "stdout",
     "output_type": "stream",
     "text": [
      "Enter your birth year (YYYY): 1995\n",
      "Enter your birth month (MM): 7\n",
      "Enter your birth day (DD): 13\n",
      "There are 140 days until your next birthday.\n"
     ]
    }
   ],
   "source": [
    "year = int(input(\"Enter your birth year (YYYY): \"))\n",
    "month = int(input(\"Enter your birth month (MM): \"))\n",
    "day = int(input(\"Enter your birth day (DD): \"))\n",
    "birthdate = datetime.date(year, month, day)\n",
    "days = days_until_birthday(birthdate)\n",
    "print(\"There are\", days, \"days until your next birthday.\")"
   ]
  },
  {
   "cell_type": "code",
   "execution_count": 44,
   "id": "8d2de032",
   "metadata": {},
   "outputs": [
    {
     "name": "stdout",
     "output_type": "stream",
     "text": [
      "139\n"
     ]
    }
   ],
   "source": [
    "#Write a python program to print the no. of days to reach your birthday from today.\n",
    "from datetime import datetime\n",
    "d1=datetime(1995,7,13)\n",
    "d2=datetime.now()\n",
    "\n",
    "d1=datetime(d2.year,d1.month,d1.day)\n",
    "\n",
    "if d1.month<d2.month:\n",
    "    d1=datetime(d2.year+1,d1.month,d1.day)\n",
    "print(abs((d1-d2).days))"
   ]
  },
  {
   "cell_type": "code",
   "execution_count": 17,
   "id": "ed64687b",
   "metadata": {},
   "outputs": [
    {
     "name": "stdout",
     "output_type": "stream",
     "text": [
      "Enter your birth year (YYYY): 1995\n",
      "Enter your birth month (MM): 7\n",
      "Enter your birth day (DD): 13\n",
      "There are 140 days until your next birthday.\n"
     ]
    }
   ],
   "source": [
    "import datetime\n",
    "\n",
    "def days_until_birthday(birthdate):\n",
    "    \"\"\"\n",
    "    Calculate the number of days until the next birthday.\n",
    "    \"\"\"\n",
    "    today = datetime.date.today()\n",
    "    next_birthday = datetime.date(today.year, birthdate.month, birthdate.day)\n",
    "    if next_birthday < today:\n",
    "        next_birthday = datetime.date(today.year + 1, birthdate.month, birthdate.day)\n",
    "    time_to_birthday = next_birthday - today\n",
    "    return time_to_birthday.days\n",
    "\n",
    "def main():\n",
    "    \"\"\"\n",
    "    Prompt the user to input their birthdate and print the number of days until their next birthday.\n",
    "    \"\"\"\n",
    "    year = int(input(\"Enter your birth year (YYYY): \"))\n",
    "    month = int(input(\"Enter your birth month (MM): \"))\n",
    "    day = int(input(\"Enter your birth day (DD): \"))\n",
    "    birthdate = datetime.date(year, month, day)\n",
    "    days = days_until_birthday(birthdate)\n",
    "    print(\"There are\", days, \"days until your next birthday.\")\n",
    "\n",
    "if __name__ == \"__main__\":\n",
    "    main()\n"
   ]
  },
  {
   "cell_type": "code",
   "execution_count": 22,
   "id": "7b3e6bec",
   "metadata": {},
   "outputs": [
    {
     "name": "stdout",
     "output_type": "stream",
     "text": [
      "9\n"
     ]
    }
   ],
   "source": [
    "from datetime import date\n",
    "f_date = date(2014, 7, 2)\n",
    "l_date = date(2014, 7, 11)\n",
    "delta = l_date - f_date\n",
    "print(delta.days)"
   ]
  },
  {
   "cell_type": "markdown",
   "id": "b09a3247",
   "metadata": {},
   "source": [
    "Q3. Write a Python program to get a list of locally installed Python modules.\n"
   ]
  },
  {
   "cell_type": "code",
   "execution_count": 24,
   "id": "308ad909",
   "metadata": {},
   "outputs": [
    {
     "name": "stdout",
     "output_type": "stream",
     "text": [
      "alabaster==0.7.12\n",
      "anaconda-client==1.11.0\n",
      "anaconda-navigator==2.3.1\n",
      "anaconda-project==0.11.1\n",
      "anyio==3.5.0\n",
      "appdirs==1.4.4\n",
      "argon2-cffi-bindings==21.2.0\n",
      "argon2-cffi==21.3.0\n",
      "arrow==1.2.2\n",
      "astroid==2.11.7\n",
      "astropy==5.1\n",
      "atomicwrites==1.4.0\n",
      "attrs==21.4.0\n",
      "automat==20.2.0\n",
      "autopep8==1.6.0\n",
      "babel==2.9.1\n",
      "backcall==0.2.0\n",
      "backports.functools-lru-cache==1.6.4\n",
      "backports.tempfile==1.0\n",
      "backports.weakref==1.0.post1\n",
      "bcrypt==3.2.0\n",
      "beautifulsoup4==4.11.1\n",
      "binaryornot==0.4.4\n",
      "bitarray==2.5.1\n",
      "bkcharts==0.2\n",
      "black==22.6.0\n",
      "bleach==4.1.0\n",
      "bokeh==2.4.3\n",
      "boto3==1.24.28\n",
      "botocore==1.27.28\n",
      "bottleneck==1.3.5\n",
      "brotlipy==0.7.0\n",
      "certifi==2022.9.14\n",
      "cffi==1.15.1\n",
      "chardet==4.0.0\n",
      "charset-normalizer==2.0.4\n",
      "click==8.0.4\n",
      "cloudpickle==2.0.0\n",
      "clyent==1.2.2\n",
      "colorama==0.4.5\n",
      "colorcet==3.0.0\n",
      "colorlover==0.3.0\n",
      "comtypes==1.1.10\n",
      "conda-build==3.22.0\n",
      "conda-content-trust==0.1.3\n",
      "conda-pack==0.6.0\n",
      "conda-package-handling==1.9.0\n",
      "conda-repo-cli==1.0.20\n",
      "conda-token==0.4.0\n",
      "conda-verify==3.4.2\n",
      "conda==22.9.0\n",
      "constantly==15.1.0\n",
      "cookiecutter==1.7.3\n",
      "cryptography==37.0.1\n",
      "cssselect==1.1.0\n",
      "cufflinks==0.17.3\n",
      "cycler==0.11.0\n",
      "cython==0.29.32\n",
      "cytoolz==0.11.0\n",
      "daal4py==2021.6.0\n",
      "dask==2022.7.0\n",
      "datashader==0.14.1\n",
      "datashape==0.5.4\n",
      "debugpy==1.5.1\n",
      "decorator==5.1.1\n",
      "defusedxml==0.7.1\n",
      "diff-match-patch==20200713\n",
      "dill==0.3.4\n",
      "distributed==2022.7.0\n",
      "dnspython==2.3.0\n",
      "docutils==0.18.1\n",
      "entrypoints==0.4\n",
      "et-xmlfile==1.1.0\n",
      "fastjsonschema==2.16.2\n",
      "filelock==3.6.0\n",
      "flake8==4.0.1\n",
      "flask==1.1.2\n",
      "fonttools==4.25.0\n",
      "fsspec==2022.7.1\n",
      "future==0.18.2\n",
      "gensim==4.1.2\n",
      "glob2==0.7\n",
      "greenlet==1.1.1\n",
      "h5py==3.7.0\n",
      "heapdict==1.0.1\n",
      "holoviews==1.15.0\n",
      "hvplot==0.8.0\n",
      "hyperlink==21.0.0\n",
      "idna==3.3\n",
      "imagecodecs==2021.8.26\n",
      "imageio==2.19.3\n",
      "imagesize==1.4.1\n",
      "importlib-metadata==4.11.3\n",
      "incremental==21.3.0\n",
      "inflection==0.5.1\n",
      "iniconfig==1.1.1\n",
      "intake==0.6.5\n",
      "intervaltree==3.1.0\n",
      "ipykernel==6.15.2\n",
      "ipython-genutils==0.2.0\n",
      "ipython==7.31.1\n",
      "ipywidgets==7.6.5\n",
      "isort==5.9.3\n",
      "itemadapter==0.3.0\n",
      "itemloaders==1.0.4\n",
      "itsdangerous==2.0.1\n",
      "jdcal==1.4.1\n",
      "jedi==0.18.1\n",
      "jellyfish==0.9.0\n",
      "jinja2-time==0.2.0\n",
      "jinja2==2.11.3\n",
      "jmespath==0.10.0\n",
      "joblib==1.1.0\n",
      "json5==0.9.6\n",
      "jsonschema==4.16.0\n",
      "jupyter-client==7.3.4\n",
      "jupyter-console==6.4.3\n",
      "jupyter-core==4.11.1\n",
      "jupyter-server==1.18.1\n",
      "jupyter==1.0.0\n",
      "jupyterlab-pygments==0.1.2\n",
      "jupyterlab-server==2.10.3\n",
      "jupyterlab-widgets==1.0.0\n",
      "jupyterlab==3.4.4\n",
      "keyring==23.4.0\n",
      "kiwisolver==1.4.2\n",
      "lazy-object-proxy==1.6.0\n",
      "libarchive-c==2.9\n",
      "llvmlite==0.38.0\n",
      "locket==1.0.0\n",
      "lxml==4.9.1\n",
      "lz4==3.1.3\n",
      "markdown==3.3.4\n",
      "markupsafe==2.0.1\n",
      "matplotlib-inline==0.1.6\n",
      "matplotlib==3.5.2\n",
      "mccabe==0.6.1\n",
      "menuinst==1.4.19\n",
      "mistune==0.8.4\n",
      "mkl-fft==1.3.1\n",
      "mkl-random==1.2.2\n",
      "mkl-service==2.4.0\n",
      "mock==4.0.3\n",
      "mpmath==1.2.1\n",
      "msgpack==1.0.3\n",
      "multipledispatch==0.6.0\n",
      "munkres==1.1.4\n",
      "mypy-extensions==0.4.3\n",
      "mysql-connector-python==8.0.31\n",
      "navigator-updater==0.3.0\n",
      "nbclassic==0.3.5\n",
      "nbclient==0.5.13\n",
      "nbconvert==6.4.4\n",
      "nbformat==5.5.0\n",
      "nest-asyncio==1.5.5\n",
      "networkx==2.8.4\n",
      "nltk==3.7\n",
      "nose==1.3.7\n",
      "notebook==6.4.12\n",
      "numba==0.55.1\n",
      "numexpr==2.8.3\n",
      "numpy==1.21.5\n",
      "numpydoc==1.4.0\n",
      "olefile==0.46\n",
      "openpyxl==3.0.10\n",
      "packaging==21.3\n",
      "pandas==1.4.4\n",
      "pandocfilters==1.5.0\n",
      "panel==0.13.1\n",
      "param==1.12.0\n",
      "paramiko==2.8.1\n",
      "parsel==1.6.0\n",
      "parso==0.8.3\n",
      "partd==1.2.0\n",
      "pathlib==1.0.1\n",
      "pathspec==0.9.0\n",
      "patsy==0.5.2\n",
      "pep8==1.7.1\n",
      "pexpect==4.8.0\n",
      "pickleshare==0.7.5\n",
      "pillow==9.2.0\n",
      "pip==22.2.2\n",
      "pkginfo==1.8.2\n",
      "platformdirs==2.5.2\n",
      "plotly==5.9.0\n",
      "pluggy==1.0.0\n",
      "poyo==0.5.0\n",
      "prometheus-client==0.14.1\n",
      "prompt-toolkit==3.0.20\n",
      "protego==0.1.16\n",
      "protobuf==3.20.1\n",
      "psutil==5.9.0\n",
      "ptyprocess==0.7.0\n",
      "py==1.11.0\n",
      "pyasn1-modules==0.2.8\n",
      "pyasn1==0.4.8\n",
      "pycodestyle==2.8.0\n",
      "pycosat==0.6.3\n",
      "pycparser==2.21\n",
      "pyct==0.4.8\n",
      "pycurl==7.45.1\n",
      "pydispatcher==2.0.5\n",
      "pydocstyle==6.1.1\n",
      "pyerfa==2.0.0\n",
      "pyflakes==2.4.0\n",
      "pygments==2.11.2\n",
      "pyhamcrest==2.0.2\n",
      "pyjwt==2.4.0\n",
      "pylint==2.14.5\n",
      "pyls-spyder==0.4.0\n",
      "pymongo==4.3.3\n",
      "pynacl==1.5.0\n",
      "pyodbc==4.0.34\n",
      "pyopenssl==22.0.0\n",
      "pyparsing==3.0.9\n",
      "pyrsistent==0.18.0\n",
      "pysocks==1.7.1\n",
      "pytest==7.1.2\n",
      "python-dateutil==2.8.2\n",
      "python-lsp-black==1.0.0\n",
      "python-lsp-jsonrpc==1.0.0\n",
      "python-lsp-server==1.3.3\n",
      "python-slugify==5.0.2\n",
      "python-snappy==0.6.0\n",
      "pytz==2022.1\n",
      "pyviz-comms==2.0.2\n",
      "pywavelets==1.3.0\n",
      "pywin32-ctypes==0.2.0\n",
      "pywin32==302\n",
      "pywinpty==2.0.2\n",
      "pyyaml==6.0\n",
      "pyzmq==23.2.0\n",
      "qdarkstyle==3.0.2\n",
      "qstylizer==0.1.10\n",
      "qtawesome==1.0.3\n",
      "qtconsole==5.2.2\n",
      "qtpy==2.2.0\n",
      "queuelib==1.5.0\n",
      "regex==2022.7.9\n",
      "requests-file==1.5.1\n",
      "requests==2.28.1\n",
      "rope==0.22.0\n",
      "rtree==0.9.7\n",
      "ruamel-yaml-conda==0.15.100\n",
      "s3transfer==0.6.0\n",
      "scikit-image==0.19.2\n",
      "scikit-learn-intelex==2021.20221004.171935\n",
      "scikit-learn==1.0.2\n",
      "scipy==1.9.1\n",
      "scrapy==2.6.2\n",
      "seaborn==0.11.2\n",
      "send2trash==1.8.0\n",
      "service-identity==18.1.0\n",
      "setuptools==63.4.1\n",
      "sip==4.19.13\n",
      "six==1.16.0\n",
      "smart-open==5.2.1\n",
      "sniffio==1.2.0\n",
      "snowballstemmer==2.2.0\n",
      "sortedcollections==2.1.0\n",
      "sortedcontainers==2.4.0\n",
      "soupsieve==2.3.1\n",
      "sphinx==5.0.2\n",
      "sphinxcontrib-applehelp==1.0.2\n",
      "sphinxcontrib-devhelp==1.0.2\n",
      "sphinxcontrib-htmlhelp==2.0.0\n",
      "sphinxcontrib-jsmath==1.0.1\n",
      "sphinxcontrib-qthelp==1.0.3\n",
      "sphinxcontrib-serializinghtml==1.1.5\n",
      "spyder-kernels==2.2.1\n",
      "spyder==5.2.2\n",
      "sqlalchemy==1.4.39\n",
      "statsmodels==0.13.2\n",
      "sympy==1.10.1\n",
      "tables==3.6.1\n",
      "tabulate==0.8.10\n",
      "tbb==0.2\n",
      "tblib==1.7.0\n",
      "tenacity==8.0.1\n",
      "terminado==0.13.1\n",
      "testpath==0.6.0\n",
      "text-unidecode==1.3\n",
      "textdistance==4.2.1\n",
      "threadpoolctl==2.2.0\n",
      "three-merge==0.1.1\n",
      "tifffile==2021.7.2\n",
      "tinycss==0.4\n",
      "tldextract==3.2.0\n",
      "toml==0.10.2\n",
      "tomli==2.0.1\n",
      "tomlkit==0.11.1\n",
      "toolz==0.11.2\n",
      "tornado==6.1\n",
      "tqdm==4.64.1\n",
      "traitlets==5.1.1\n",
      "twisted-iocpsupport==1.0.2\n",
      "twisted==22.2.0\n",
      "typing-extensions==4.3.0\n",
      "ujson==5.4.0\n",
      "unidecode==1.2.0\n",
      "urllib3==1.26.11\n",
      "w3lib==1.21.0\n",
      "watchdog==2.1.6\n",
      "wcwidth==0.2.5\n",
      "webencodings==0.5.1\n",
      "websocket-client==0.58.0\n",
      "werkzeug==2.0.3\n",
      "wheel==0.37.1\n",
      "widgetsnbextension==3.5.2\n",
      "win-inet-pton==1.1.0\n",
      "win-unicode-console==0.5\n",
      "wincertstore==0.2\n",
      "wrapt==1.14.1\n",
      "xarray==0.20.1\n",
      "xlrd==2.0.1\n",
      "xlsxwriter==3.0.3\n",
      "xlwings==0.27.15\n",
      "yapf==0.31.0\n",
      "zict==2.1.0\n",
      "zipp==3.8.0\n",
      "zope.interface==5.4.0\n"
     ]
    }
   ],
   "source": [
    "import pkg_resources\n",
    "installed_packages = pkg_resources.working_set\n",
    "installed_packages_list = sorted([\"%s==%s\" % (i.key, i.version)\n",
    "     for i in installed_packages])\n",
    "for m in installed_packages_list:\n",
    "    print(m)"
   ]
  },
  {
   "cell_type": "code",
   "execution_count": 12,
   "id": "c238cf83",
   "metadata": {},
   "outputs": [],
   "source": [
    "import pkgutil\n",
    "from setuptools import find_packages\n",
    "\n",
    "def get_installed_modules():\n",
    "    installed_modules = []\n",
    "    for module in pkgutil.iter_modules():\n",
    "        installed_modules.append(module.name)\n",
    "    for package in find_packages():\n",
    "        installed_modules.append(package)\n",
    "    return installed_modules\n",
    "\n",
    "installed_modules = get_installed_modules()\n",
    "print(installed_modules)"
   ]
  },
  {
   "cell_type": "markdown",
   "id": "6e79abc6",
   "metadata": {},
   "source": [
    "Q4.4. Create the following NumPy arrays:\n",
    "\n",
    "    \n",
    "a) A 1D array called ‘zeros’ having 10 elements and all the elements are set to zero.\n",
    "\n",
    "b) A 1D array called ‘vowels’ having the elements ‘a’, ‘e’, ‘i’, ‘o’ and ‘u’.\n",
    "\n",
    "c) A 2D array called ‘ones’ having 2 rows and 5 columns and all the elements are set to 1 and dtype as int.\n",
    "\n",
    "d) Use nested Python lists to create a 2D array called myarray1 having 3 rows and 3 columns and store the following data: 2.7, -2, -19, 0, 3.4, 99.9, 10.6, 0, 13.\n",
    "\n",
    "e) A 2D array called myarray2 using arange() having 3 rows and 5 columns with start value = 4, step size 4 and dtype as float.\n"
   ]
  },
  {
   "cell_type": "code",
   "execution_count": 31,
   "id": "9063ebf6",
   "metadata": {},
   "outputs": [],
   "source": [
    "import numpy as np\n",
    "\n",
    "# a) A 1D array called ‘zeros’ having 10 elements and all the elements are set to zero.\n",
    "zeros = np.zeros(10)\n",
    "\n",
    "# b) A 1D array called ‘vowels’ having the elements ‘a’, ‘e’, ‘i’, ‘o’ and ‘u’.\n",
    "vowels = np.array(['a', 'e', 'i', 'o', 'u'])\n",
    "\n",
    "# c) A 2D array called ‘ones’ having 2 rows and 5 columns and all the elements are set to 1 and dtype as int.\n",
    "ones = np.ones((2, 5), dtype=int)\n",
    "\n",
    "# d) Use nested Python lists to create a 2D array called myarray1 having 3 rows and 3 columns and store the following data: 2.7, -2, -19, 0, 3.4, 99.9, 10.6, 0, 13.\n",
    "myarray1 = np.array([[2.7, -2, -19], [0, 3.4, 99.9], [10.6, 0, 13]])\n",
    "\n"
   ]
  },
  {
   "cell_type": "code",
   "execution_count": 32,
   "id": "ecab6993",
   "metadata": {},
   "outputs": [
    {
     "data": {
      "text/plain": [
       "array([0., 0., 0., 0., 0., 0., 0., 0., 0., 0.])"
      ]
     },
     "execution_count": 32,
     "metadata": {},
     "output_type": "execute_result"
    }
   ],
   "source": [
    "zeros"
   ]
  },
  {
   "cell_type": "code",
   "execution_count": 33,
   "id": "2f7c467e",
   "metadata": {},
   "outputs": [
    {
     "data": {
      "text/plain": [
       "array(['a', 'e', 'i', 'o', 'u'], dtype='<U1')"
      ]
     },
     "execution_count": 33,
     "metadata": {},
     "output_type": "execute_result"
    }
   ],
   "source": [
    "vowels"
   ]
  },
  {
   "cell_type": "code",
   "execution_count": 34,
   "id": "0fc81278",
   "metadata": {},
   "outputs": [
    {
     "data": {
      "text/plain": [
       "array([[1, 1, 1, 1, 1],\n",
       "       [1, 1, 1, 1, 1]])"
      ]
     },
     "execution_count": 34,
     "metadata": {},
     "output_type": "execute_result"
    }
   ],
   "source": [
    "ones"
   ]
  },
  {
   "cell_type": "code",
   "execution_count": 35,
   "id": "bbb92675",
   "metadata": {},
   "outputs": [
    {
     "data": {
      "text/plain": [
       "array([[  2.7,  -2. , -19. ],\n",
       "       [  0. ,   3.4,  99.9],\n",
       "       [ 10.6,   0. ,  13. ]])"
      ]
     },
     "execution_count": 35,
     "metadata": {},
     "output_type": "execute_result"
    }
   ],
   "source": [
    "myarray1"
   ]
  },
  {
   "cell_type": "markdown",
   "id": "4c87c4ca",
   "metadata": {},
   "source": [
    "Q5.Using the arrays created in Question 4 above, write NumPy commands for the following:\n",
    "\n",
    "a) Find the dimensions, shape, size, data type of the items and itemsize of arrays ‘zeros’, ‘vowels’, ‘ones’, myarray1 and myarray2.\n",
    "\n",
    "b) Reshape the array ‘ones’ to have all the 10 elements in a single row.\n",
    "\n",
    "c) Display the 2nd and 3rd element of the array ‘vowels’.\n",
    "\n",
    "d) Display all elements in the 2nd and 3rd row of the array ‘myarray1’.\n",
    "\n",
    "e) Display the elements in the 1st and 2nd column of the array ‘myarray1’.\n",
    "\n",
    "f)Display the elements in the 1st column of the 2nd and 3rd row of the array ‘myarray1’.\n",
    "\n",
    "g) Reverse the array of ‘vowels’.\n"
   ]
  },
  {
   "cell_type": "code",
   "execution_count": 9,
   "id": "5a597762",
   "metadata": {},
   "outputs": [],
   "source": [
    "import numpy as np\n",
    "\n",
    "# a) create the arrays\n",
    "zeros = np.zeros(10)\n",
    "vowels = np.array(['a', 'e', 'i', 'o', 'u'])\n",
    "ones = np.ones((2, 5), dtype=int)\n",
    "myarray1 = np.array([[2.7, -2, -19], [0, 3.4, 99.9], [10.6, 0, 13]])\n",
    "myarray2 = np.arange(start=4, stop=24, step=4, dtype=float)\n",
    "\n"
   ]
  },
  {
   "cell_type": "code",
   "execution_count": 10,
   "id": "2ae7a79e",
   "metadata": {},
   "outputs": [
    {
     "name": "stdout",
     "output_type": "stream",
     "text": [
      "zeros dimensions: 1\n",
      "zeros shape: (10,)\n",
      "zeros size: 10\n",
      "zeros data type: float64\n",
      "zeros itemsize: 8\n",
      "vowels dimensions: 1\n",
      "vowels shape: (5,)\n",
      "vowels size: 5\n",
      "vowels data type: <U1\n",
      "vowels itemsize: 4\n",
      "ones dimensions: 2\n",
      "ones shape: (2, 5)\n",
      "ones size: 10\n",
      "ones data type: int32\n",
      "ones itemsize: 4\n",
      "myarray1 dimensions: 2\n",
      "myarray1 shape: (3, 3)\n",
      "myarray1 size: 9\n",
      "myarray1 data type: float64\n",
      "myarray1 itemsize: 8\n",
      "myarray2 dimensions: 1\n",
      "myarray2 shape: (5,)\n",
      "myarray2 size: 5\n",
      "myarray2 data type: float64\n",
      "myarray2 itemsize: 8\n",
      "[[1 1 1 1 1 1 1 1 1 1]]\n"
     ]
    }
   ],
   "source": [
    "# b) find dimensions, shape, size, data type, and itemsize of each array\n",
    "print(\"zeros dimensions:\", zeros.ndim) # 1\n",
    "print(\"zeros shape:\", zeros.shape) # (10,)\n",
    "print(\"zeros size:\", zeros.size) # 10\n",
    "print(\"zeros data type:\", zeros.dtype) # float64\n",
    "print(\"zeros itemsize:\", zeros.itemsize) # 8\n",
    "\n",
    "print(\"vowels dimensions:\", vowels.ndim) # 1\n",
    "print(\"vowels shape:\", vowels.shape) # (5,)\n",
    "print(\"vowels size:\", vowels.size) # 5\n",
    "print(\"vowels data type:\", vowels.dtype) # <U1\n",
    "print(\"vowels itemsize:\", vowels.itemsize) # 4\n",
    "\n",
    "print(\"ones dimensions:\", ones.ndim) # 2\n",
    "print(\"ones shape:\", ones.shape) # (2, 5)\n",
    "print(\"ones size:\", ones.size) # 10\n",
    "print(\"ones data type:\", ones.dtype) # int64\n",
    "print(\"ones itemsize:\", ones.itemsize) # 8\n",
    "\n",
    "print(\"myarray1 dimensions:\", myarray1.ndim) # 2\n",
    "print(\"myarray1 shape:\", myarray1.shape) # (3, 3)\n",
    "print(\"myarray1 size:\", myarray1.size) # 9\n",
    "print(\"myarray1 data type:\", myarray1.dtype) # float64\n",
    "print(\"myarray1 itemsize:\", myarray1.itemsize) # 8\n",
    "\n",
    "print(\"myarray2 dimensions:\", myarray2.ndim) # 2\n",
    "print(\"myarray2 shape:\", myarray2.shape) # (3, 5)\n",
    "print(\"myarray2 size:\", myarray2.size) # 15\n",
    "print(\"myarray2 data type:\", myarray2.dtype) # float64\n",
    "print(\"myarray2 itemsize:\", myarray2.itemsize) # 8\n",
    "\n",
    "\n",
    "# reshape ones to have all the 10 elements in a single row\n",
    "ones_reshaped = ones.reshape(1, -1)\n",
    "print(ones_reshaped)\n"
   ]
  },
  {
   "cell_type": "code",
   "execution_count": 39,
   "id": "f1ac7fd9",
   "metadata": {},
   "outputs": [
    {
     "name": "stdout",
     "output_type": "stream",
     "text": [
      "['e' 'i']\n"
     ]
    }
   ],
   "source": [
    "#c)\n",
    "# display the 2nd and 3rd element of the array vowels\n",
    "print(vowels[1:3])\n",
    "\n"
   ]
  },
  {
   "cell_type": "code",
   "execution_count": 40,
   "id": "c1259cd6",
   "metadata": {},
   "outputs": [
    {
     "name": "stdout",
     "output_type": "stream",
     "text": [
      "[[ 0.   3.4 99.9]\n",
      " [10.6  0.  13. ]]\n"
     ]
    }
   ],
   "source": [
    "# d)\n",
    "# display all elements in the 2nd and 3rd row of the array myarray1\n",
    "print(myarray1[1:3])\n"
   ]
  },
  {
   "cell_type": "code",
   "execution_count": 41,
   "id": "874aeb25",
   "metadata": {},
   "outputs": [
    {
     "name": "stdout",
     "output_type": "stream",
     "text": [
      "[[ 2.7 -2. ]\n",
      " [ 0.   3.4]\n",
      " [10.6  0. ]]\n"
     ]
    }
   ],
   "source": [
    "# e)\n",
    "# display the elements in the 1st and 2nd column of the array myarray1\n",
    "print(myarray1[:, :2])\n"
   ]
  },
  {
   "cell_type": "code",
   "execution_count": 42,
   "id": "c5dbef73",
   "metadata": {},
   "outputs": [
    {
     "name": "stdout",
     "output_type": "stream",
     "text": [
      "[ 0.  10.6]\n"
     ]
    }
   ],
   "source": [
    "# f)\n",
    "\n",
    "# display the elements in the 1st column of the 2nd and 3rd row of the array myarray1\n",
    "print(myarray1[1:3, 0])\n"
   ]
  },
  {
   "cell_type": "code",
   "execution_count": 43,
   "id": "0b0209e0",
   "metadata": {},
   "outputs": [
    {
     "name": "stdout",
     "output_type": "stream",
     "text": [
      "['u' 'o' 'i' 'e' 'a']\n"
     ]
    }
   ],
   "source": [
    "# g)\n",
    "\n",
    "# reverse the array of vowels\n",
    "vowels_reversed = vowels[::-1]\n",
    "print(vowels_reversed)\n"
   ]
  }
 ],
 "metadata": {
  "kernelspec": {
   "display_name": "Python 3 (ipykernel)",
   "language": "python",
   "name": "python3"
  },
  "language_info": {
   "codemirror_mode": {
    "name": "ipython",
    "version": 3
   },
   "file_extension": ".py",
   "mimetype": "text/x-python",
   "name": "python",
   "nbconvert_exporter": "python",
   "pygments_lexer": "ipython3",
   "version": "3.9.13"
  }
 },
 "nbformat": 4,
 "nbformat_minor": 5
}
