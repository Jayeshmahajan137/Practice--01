{
 "cells": [
  {
   "cell_type": "markdown",
   "id": "46c8ba49",
   "metadata": {},
   "source": [
    "# Q1. Use of Class Objects and constructor in Python Program to create a class called ComplexNumber that consist of variables real and imag, functions like constructor and getData(). Create objects c1 and c2. In c2 add a new attribute and print the contents of c1 and c2\n"
   ]
  },
  {
   "cell_type": "code",
   "execution_count": 1,
   "id": "8e12d19c",
   "metadata": {},
   "outputs": [
    {
     "name": "stdout",
     "output_type": "stream",
     "text": [
      "Contents of c1:\n",
      "Complex number: 2 + 3i\n",
      "Contents of c2:\n",
      "Complex number: 4 + 5i\n",
      "New attribute of c2: 6\n"
     ]
    }
   ],
   "source": [
    "class ComplexNumber:\n",
    "    def __init__(self, real, imag):\n",
    "        self.real = real\n",
    "        self.imag = imag\n",
    "    \n",
    "    def getData(self):\n",
    "        print(\"Complex number: {} + {}i\".format(self.real, self.imag))\n",
    "\n",
    "# Creating objects c1 and c2\n",
    "c1 = ComplexNumber(2, 3)\n",
    "c2 = ComplexNumber(4, 5)\n",
    "\n",
    "# Adding a new attribute to c2\n",
    "c2.newAttr = 6\n",
    "\n",
    "# Printing the contents of c1 and c2\n",
    "print(\"Contents of c1:\")\n",
    "c1.getData()\n",
    "print(\"Contents of c2:\")\n",
    "c2.getData()\n",
    "print(\"New attribute of c2:\", c2.newAttr)\n"
   ]
  },
  {
   "cell_type": "markdown",
   "id": "bc23fc44",
   "metadata": {},
   "source": [
    "# Q2. Write a Python class named Student with two attributes student_id, student_name. Add a new attribute student_class and display the entire attribute and their values of the said class. Now remove the student_name attribute and display the entire attribute with values.\n"
   ]
  },
  {
   "cell_type": "code",
   "execution_count": 9,
   "id": "97e01382",
   "metadata": {},
   "outputs": [
    {
     "name": "stdout",
     "output_type": "stream",
     "text": [
      "Student ID: 123\n",
      "Student Name: John\n",
      "Student Class: XII\n"
     ]
    }
   ],
   "source": [
    "class Student:\n",
    "    def __init__(self, student_id, student_name):\n",
    "        self.student_id = student_id\n",
    "        self.student_name = student_name\n",
    "        \n",
    "    \n",
    "    def display_student_details(self):\n",
    "        print(\"Student ID:\", self.student_id)\n",
    "        print(\"Student Name:\", self.student_name)\n",
    "        print(\"Student Class:\", self.student_class)\n",
    "\n",
    "# Create a Student object\n",
    "s = Student(123, \"John\")\n",
    "\n",
    "# Add a new attribute to the object\n",
    "s.student_class = \"XII\"\n",
    "\n",
    "# Display all attributes and their values\n",
    "s.display_student_details()"
   ]
  },
  {
   "cell_type": "markdown",
   "id": "a9e38412",
   "metadata": {},
   "source": [
    "# Q3. Write a Python class to implement pow(x, n) function.\n",
    "\n",
    "\n"
   ]
  },
  {
   "cell_type": "code",
   "execution_count": 10,
   "id": "b106e06a",
   "metadata": {},
   "outputs": [],
   "source": [
    "class PowerFunction:\n",
    "    def pow(self, x: float, n: int) -> float:\n",
    "        if n == 0:\n",
    "            return 1\n",
    "        elif n < 0:\n",
    "            return 1 / self.pow(x, -n)\n",
    "        elif n % 2 == 0:\n",
    "            return self.pow(x*x, n//2)\n",
    "        else:\n",
    "            return x * self.pow(x, n-1)\n"
   ]
  },
  {
   "cell_type": "code",
   "execution_count": 12,
   "id": "e1a77206",
   "metadata": {},
   "outputs": [
    {
     "name": "stdout",
     "output_type": "stream",
     "text": [
      "64\n"
     ]
    }
   ],
   "source": [
    "p=PowerFunction()\n",
    "result=p.pow(4,3)\n",
    "print(result)\n"
   ]
  },
  {
   "cell_type": "markdown",
   "id": "eefc901b",
   "metadata": {},
   "source": [
    "# Q4.Write a Python class named Circle constructed by a radius and two methods which will compute the area and the perimeter of a circle.\n"
   ]
  },
  {
   "cell_type": "code",
   "execution_count": 13,
   "id": "a872680f",
   "metadata": {},
   "outputs": [
    {
     "name": "stdout",
     "output_type": "stream",
     "text": [
      "Area: 200.96\n",
      "Perimeter: 50.24\n"
     ]
    }
   ],
   "source": [
    "class Circle:\n",
    "    def __init__(self, radius):\n",
    "        self.radius = radius\n",
    "    \n",
    "    def area(self):\n",
    "        return 3.14 * self.radius ** 2\n",
    "    \n",
    "    def perimeter(self):\n",
    "        return 2 * 3.14 * self.radius\n",
    "\n",
    "my_circle = Circle(8)\n",
    "print(\"Area:\", my_circle.area())\n",
    "print(\"Perimeter:\", my_circle.perimeter())\n"
   ]
  },
  {
   "cell_type": "markdown",
   "id": "b3517749",
   "metadata": {},
   "source": [
    "# Q5.Write a Python class which has two methods  get_String and print_String. get_String accept a  string from the user and print_String print the  string in upper case.\n"
   ]
  },
  {
   "cell_type": "code",
   "execution_count": 18,
   "id": "84e8a8c3",
   "metadata": {},
   "outputs": [
    {
     "name": "stdout",
     "output_type": "stream",
     "text": [
      "Enter a string: Jayesh Mahajan\n",
      "JAYESH MAHAJAN\n"
     ]
    }
   ],
   "source": [
    "class String:\n",
    "    def __init__(self):\n",
    "        self.s = \"\"\n",
    "\n",
    "    def get_String(self):\n",
    "        self.s = input(\"Enter a string: \")\n",
    "\n",
    "    def print_String(self):\n",
    "        print(self.s.upper())\n",
    "\n",
    "my_string = String()\n",
    "my_string.get_String()\n",
    "my_string.print_String()\n"
   ]
  },
  {
   "cell_type": "markdown",
   "id": "54c37688",
   "metadata": {},
   "source": [
    "# Q6. Write a Python class named Rectangle  constructed by a length and width and a method  which will compute the area of a rectangle.\n"
   ]
  },
  {
   "cell_type": "code",
   "execution_count": 19,
   "id": "177f281b",
   "metadata": {},
   "outputs": [
    {
     "name": "stdout",
     "output_type": "stream",
     "text": [
      "Area of rectangle is : 35\n"
     ]
    }
   ],
   "source": [
    "class Rectangle:\n",
    "    def __init__(self, length, width):\n",
    "        self.length = length\n",
    "        self.width = width\n",
    "    \n",
    "    def area(self):\n",
    "        return self.length * self.width\n",
    "\n",
    "    \n",
    "my_rectangle = Rectangle(5, 7)\n",
    "print(\"Area of rectangle is :\", my_rectangle.area())\n"
   ]
  },
  {
   "cell_type": "markdown",
   "id": "7e986c0b",
   "metadata": {},
   "source": [
    "# Q7.WAP using exception handling, to add any 2 datatypes among int, float, str, Boolean, complex without showing exceptions.\n"
   ]
  },
  {
   "cell_type": "code",
   "execution_count": 21,
   "id": "f4b94fc2",
   "metadata": {},
   "outputs": [
    {
     "name": "stdout",
     "output_type": "stream",
     "text": [
      "Result: 31\n",
      "Result: 17.0\n",
      "Result: Jayesh Mahajan\n",
      "Result: 1\n",
      "Result: (9+12j)\n",
      "Error: Cannot add these two data types\n"
     ]
    }
   ],
   "source": [
    "def add(x, y):\n",
    "    try:\n",
    "        result = x + y\n",
    "    except:\n",
    "        print(\"Error: Cannot add these two data types\")\n",
    "    else:\n",
    "        print(\"Result:\", result)\n",
    "\n",
    "# Examples:\n",
    "add(10, 21)                    # adding two integers\n",
    "add(7.5, 9.5)                # adding two floats\n",
    "add(\"Jayesh \", \"Mahajan\")     # adding two strings\n",
    "add(True, False)             # adding two Booleans\n",
    "add(8+3j, 1+9j)              # adding two complex numbers\n",
    "add(6, \"3\")                  # trying to add an integer and a string\n"
   ]
  },
  {
   "cell_type": "markdown",
   "id": "f11a57be",
   "metadata": {},
   "source": [
    "# Q8.WAP for user defined exceptions.\n"
   ]
  },
  {
   "cell_type": "code",
   "execution_count": 22,
   "id": "d0a94e4d",
   "metadata": {},
   "outputs": [
    {
     "name": "stdout",
     "output_type": "stream",
     "text": [
      "Error: Division by zero!\n"
     ]
    }
   ],
   "source": [
    "class MyException(Exception):\n",
    "    def __init__(self, message):\n",
    "        self.message = message\n",
    "\n",
    "    def __str__(self):\n",
    "        return self.message\n",
    "\n",
    "# Example\n",
    "\n",
    "def divide(a, b):\n",
    "    if b == 0:\n",
    "        raise MyException(\"Division by zero!\")\n",
    "    else:\n",
    "        return a / b\n",
    "\n",
    "# Example:\n",
    "try:\n",
    "    result = divide(10, 0)\n",
    "    print(result)\n",
    "except MyException as e:\n",
    "    print(\"Error:\", e)\n"
   ]
  },
  {
   "cell_type": "code",
   "execution_count": 23,
   "id": "7cea872a",
   "metadata": {},
   "outputs": [
    {
     "data": {
      "text/plain": [
       "4.0"
      ]
     },
     "execution_count": 23,
     "metadata": {},
     "output_type": "execute_result"
    }
   ],
   "source": [
    "divide(20,5)"
   ]
  },
  {
   "cell_type": "markdown",
   "id": "41e2e6df",
   "metadata": {},
   "source": [
    "# Q9.Create a function with no code inside it (it should do nothing ideally).\n"
   ]
  },
  {
   "cell_type": "code",
   "execution_count": 24,
   "id": "390355cf",
   "metadata": {},
   "outputs": [],
   "source": [
    "def null_function():\n",
    "    pass\n",
    "\n",
    "null_function()"
   ]
  },
  {
   "cell_type": "code",
   "execution_count": null,
   "id": "7686aa5f",
   "metadata": {},
   "outputs": [],
   "source": []
  }
 ],
 "metadata": {
  "kernelspec": {
   "display_name": "Python 3 (ipykernel)",
   "language": "python",
   "name": "python3"
  },
  "language_info": {
   "codemirror_mode": {
    "name": "ipython",
    "version": 3
   },
   "file_extension": ".py",
   "mimetype": "text/x-python",
   "name": "python",
   "nbconvert_exporter": "python",
   "pygments_lexer": "ipython3",
   "version": "3.9.13"
  }
 },
 "nbformat": 4,
 "nbformat_minor": 5
}
