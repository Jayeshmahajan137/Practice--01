{
 "cells": [
  {
   "cell_type": "markdown",
   "id": "783d4681",
   "metadata": {},
   "source": [
    "Q1.User will input (3ages).Find the oldest one\n"
   ]
  },
  {
   "cell_type": "code",
   "execution_count": 2,
   "id": "f061c7db",
   "metadata": {},
   "outputs": [
    {
     "name": "stdout",
     "output_type": "stream",
     "text": [
      "Enter the age of first candidate10\n",
      "Enter the age of second candidate23\n",
      "Enter the age of third candidate20\n",
      "The maximum age is: 23\n"
     ]
    }
   ],
   "source": [
    "a=int(input(\"Enter the age of first candidate\"))\n",
    "b=int(input(\"Enter the age of second candidate\"))\n",
    "c=int(input(\"Enter the age of third candidate\"))\n",
    "max=a\n",
    "if max <b:\n",
    "    max=b\n",
    "elif max<c:\n",
    "    max=c\n",
    "print(\"The maximum age is:\",max)\n"
   ]
  },
  {
   "cell_type": "code",
   "execution_count": 4,
   "id": "911c63a1",
   "metadata": {},
   "outputs": [
    {
     "name": "stdout",
     "output_type": "stream",
     "text": [
      "enter value for x: 100\n",
      "enter value for y: 20\n",
      "enter value for z: 101\n",
      "The maximum number is : 101\n"
     ]
    }
   ],
   "source": [
    "x=int(input(\"enter value for x: \"))\n",
    "y=int(input(\"enter value for y: \"))\n",
    "z=int(input(\"enter value for z: \"))\n",
    "\n",
    "max=x\n",
    "if max<y:\n",
    "    max=y\n",
    "if max<z:\n",
    "    max=z\n",
    "print('The maximum number is :', max)"
   ]
  },
  {
   "cell_type": "markdown",
   "id": "b878ee24",
   "metadata": {},
   "source": [
    "Q2.Write a program that will convert celsius value to fahrenheit"
   ]
  },
  {
   "cell_type": "code",
   "execution_count": 9,
   "id": "75caec54",
   "metadata": {},
   "outputs": [
    {
     "name": "stdout",
     "output_type": "stream",
     "text": [
      "Enter the temprature in celcius: 40.5\n",
      "Entered temprature is :  40.5 Faranheit Temprature is :  104.9\n"
     ]
    }
   ],
   "source": [
    "temp=float(input(\"Enter the temprature in celcius: \"))\n",
    "faranheit=(temp*1.8+32)\n",
    "print (\"Entered temprature is : \", temp,\"Faranheit Temprature is : \", faranheit)"
   ]
  },
  {
   "cell_type": "markdown",
   "id": "439423fa",
   "metadata": {},
   "source": [
    "Q3.User will input (2numbers).Write a program to swap the numbers"
   ]
  },
  {
   "cell_type": "code",
   "execution_count": 10,
   "id": "713afefb",
   "metadata": {},
   "outputs": [
    {
     "name": "stdout",
     "output_type": "stream",
     "text": [
      "Enter first number: 10\n",
      "Enter second number: 20\n",
      "Numbers before swaping are  10 20\n",
      "Numbers after swapping are:  20 10\n"
     ]
    }
   ],
   "source": [
    "p=int(input(\"Enter first number: \"))\n",
    "q=int(input(\"Enter second number: \"))\n",
    "\n",
    "print(\"Numbers before swaping are \", p,q)\n",
    "\n",
    "s=p+q\n",
    "q1=s-p\n",
    "p1=s-q1\n",
    "\n",
    "print(\"Numbers after swapping are: \", q1,p1)\n"
   ]
  },
  {
   "cell_type": "code",
   "execution_count": 12,
   "id": "e71f6457",
   "metadata": {},
   "outputs": [
    {
     "name": "stdout",
     "output_type": "stream",
     "text": [
      "enter first number 20\n",
      "enter second number 40\n",
      "Value of a is:  40\n",
      "Value of b is:  20\n"
     ]
    }
   ],
   "source": [
    "a=int(input(\"enter first number \"))\n",
    "b=int(input(\"enter second number \"))\n",
    "temp=a\n",
    "a=b\n",
    "b=temp\n",
    "print(\"Value of a is: \",a)\n",
    "print(\"Value of b is: \",b)"
   ]
  },
  {
   "cell_type": "markdown",
   "id": "e6aa3255",
   "metadata": {},
   "source": [
    "Q4.Write a program that will give you the sum of 3 digits"
   ]
  },
  {
   "cell_type": "code",
   "execution_count": 24,
   "id": "fefa7973",
   "metadata": {},
   "outputs": [
    {
     "name": "stdout",
     "output_type": "stream",
     "text": [
      "Enter the three digit number455\n",
      "14\n"
     ]
    }
   ],
   "source": [
    "num=int(input(\"Enter the three digit number\"))\n",
    "a=num%10     #(ex 345%10=5)\n",
    "num=num//10  #(345//10=34)\n",
    "b=num%10     #(34%10=4)   \n",
    "c=num//10    #(34//10=3) (// is integer division)\n",
    "\n",
    "digit_sum=(a+b+c)\n",
    "print(digit_sum)"
   ]
  },
  {
   "cell_type": "markdown",
   "id": "54ac8617",
   "metadata": {},
   "source": [
    "Q5.Write a program that will reverse a four digit number.Also it checks whether the reverse is true."
   ]
  },
  {
   "cell_type": "code",
   "execution_count": 30,
   "id": "8c37d7bd",
   "metadata": {},
   "outputs": [
    {
     "name": "stdout",
     "output_type": "stream",
     "text": [
      "Enter a number5565\n",
      "The revesrse of 5565 is 5655\n",
      "False\n"
     ]
    }
   ],
   "source": [
    "user_input=int(input(\"Enter a number\"))\n",
    "\n",
    "num=user_input\n",
    "\n",
    "a=num%10      #1234%10=4\n",
    "num=num//10   #1234//10=123\n",
    "\n",
    "\n",
    "b=num%10      #123%10=3\n",
    "num=num//10   #12\n",
    "\n",
    "c=num%10      #12%10=2\n",
    "d=num//10     #12//10=1\n",
    "\n",
    "rev=(1000*a+100*b+10*c+d)\n",
    "\n",
    "print(\"The revesrse of\", user_input,\"is\",rev)\n",
    "\n",
    "if user_input==rev:\n",
    "    print(\"True\")\n",
    "else:\n",
    "    print('False')"
   ]
  },
  {
   "cell_type": "markdown",
   "id": "fdab4309",
   "metadata": {},
   "source": [
    "Q6.Write a program that will tell whether the number entered by the user is odd or even."
   ]
  },
  {
   "cell_type": "code",
   "execution_count": 34,
   "id": "6f426d26",
   "metadata": {},
   "outputs": [
    {
     "name": "stdout",
     "output_type": "stream",
     "text": [
      "Enter any number8\n",
      "8 Is Even Number\n"
     ]
    }
   ],
   "source": [
    "number=int(input(\"Enter any number\"))\n",
    "if number%2==0:\n",
    "    print(number, \"Is Even Number\")\n",
    "else:\n",
    "    print(number,\"Is Odd Number\")"
   ]
  },
  {
   "cell_type": "markdown",
   "id": "ab2d6102",
   "metadata": {},
   "source": [
    "Q7.Write a program that will tell whether the given year is a leap year or not."
   ]
  },
  {
   "cell_type": "code",
   "execution_count": 39,
   "id": "9f924a28",
   "metadata": {},
   "outputs": [
    {
     "name": "stdout",
     "output_type": "stream",
     "text": [
      "Enter the year : 2023\n",
      "2023 is not a leap year\n"
     ]
    }
   ],
   "source": [
    "year=int(input(\"Enter the year : \"))\n",
    "if (year%4==0):\n",
    "    print(year, \"is Leap Year\")\n",
    "else:\n",
    "    print(year, \"is not a leap year\" )"
   ]
  },
  {
   "cell_type": "markdown",
   "id": "e37e56da",
   "metadata": {},
   "source": [
    "Q8.Write a program to find the euclidean distance between two coordinates"
   ]
  },
  {
   "cell_type": "code",
   "execution_count": 44,
   "id": "6bab9647",
   "metadata": {},
   "outputs": [
    {
     "name": "stdout",
     "output_type": "stream",
     "text": [
      "Enter first coordinate of x: 56\n",
      "Enter second coordinate of x: 45\n",
      "Enter first coordinate of y: 78\n",
      "Enter second coordinate of y: 23\n",
      "Eucledian distance between points X & Y is:  11.0\n"
     ]
    }
   ],
   "source": [
    "x1=float(input(\"Enter first coordinate of x: \"))\n",
    "x2=float(input(\"Enter second coordinate of x: \"))\n",
    "y1=float(input(\"Enter first coordinate of y: \"))\n",
    "y2=float(input(\"Enter second coordinate of y: \"))\n",
    "\n",
    "d=((x2-x1)**2 + (y2-y2)**2)**0.5\n",
    "\n",
    "print(\"Eucledian distance between points X & Y is: \", d)"
   ]
  },
  {
   "cell_type": "markdown",
   "id": "1491da82",
   "metadata": {},
   "source": [
    "Q9.Write a program that take a user inputr of three angles and will find out whether it can form a triangle or not."
   ]
  },
  {
   "cell_type": "code",
   "execution_count": 48,
   "id": "06d3cd02",
   "metadata": {},
   "outputs": [
    {
     "name": "stdout",
     "output_type": "stream",
     "text": [
      "Enter the angle1: 50\n",
      "Enter the agle2: 35\n",
      "Enter the angle3: 79\n",
      "Triangle will not form\n"
     ]
    }
   ],
   "source": [
    "a1=float(input(\"Enter the angle1: \"))\n",
    "a2=float(input(\"Enter the agle2: \"))\n",
    "a3=float(input(\"Enter the angle3: \"))\n",
    "\n",
    "if a1+a2+a3==180 and a1!=0 and a2!=0 and a3!=0:\n",
    "    print(\"Triangle will form\")\n",
    "else:\n",
    "    print(\"Triangle will not form\")"
   ]
  },
  {
   "cell_type": "markdown",
   "id": "6e5a0e27",
   "metadata": {},
   "source": [
    "Q10.Write a program that will take user input of cost price and selling price and determines whether its a loss or a profit"
   ]
  },
  {
   "cell_type": "code",
   "execution_count": 51,
   "id": "75acee2d",
   "metadata": {},
   "outputs": [
    {
     "name": "stdout",
     "output_type": "stream",
     "text": [
      "Enter the cost price: 100\n",
      "Enter the selling price: 20\n",
      "loss 80.0\n"
     ]
    }
   ],
   "source": [
    "cp=float(input(\"Enter the cost price: \"))\n",
    "sp=float(input(\"Enter the selling price: \"))\n",
    "if cp>sp:\n",
    "    amount=cp-sp\n",
    "    print(\"loss\", amount)\n",
    "else:\n",
    "    amount=sp-cp\n",
    "    print(\"Profit\", amount)"
   ]
  },
  {
   "cell_type": "markdown",
   "id": "0ae6ea22",
   "metadata": {},
   "source": [
    "Q11.Write a program to find the simple interest when the value of principle,rate of interest and time period is given."
   ]
  },
  {
   "cell_type": "code",
   "execution_count": 52,
   "id": "2786be8b",
   "metadata": {},
   "outputs": [
    {
     "name": "stdout",
     "output_type": "stream",
     "text": [
      "Enter principal10000\n",
      "Enter rate of interest3\n",
      "Enter time period2\n",
      "your simple intrest is:  600.0\n",
      "Your interest is:  10600.0\n"
     ]
    }
   ],
   "source": [
    "p=int(input('Enter principal'))\n",
    "r=int(input(\"Enter rate of interest\"))\n",
    "t=int(input(\"Enter time period\"))\n",
    "si=(p*r*t)/100\n",
    "print('your simple intrest is: ', si)\n",
    "amount=p+si\n",
    "print(\"Your interest is: \", amount)"
   ]
  },
  {
   "cell_type": "markdown",
   "id": "624846a9",
   "metadata": {},
   "source": [
    "Q12.Write a program to find the volume of the cylinder. Also find the cost when ,when the cost of 1litre milk is 40Rs."
   ]
  },
  {
   "cell_type": "code",
   "execution_count": 55,
   "id": "08e977f5",
   "metadata": {},
   "outputs": [
    {
     "name": "stdout",
     "output_type": "stream",
     "text": [
      "Enter redius of cylinder20\n",
      "Enter height of cylinder35\n",
      "Volume is:  43960.0\n",
      "cost is:  1758.4\n"
     ]
    }
   ],
   "source": [
    "r=float(input(\"Enter redius of cylinder\"))\n",
    "h=float(input(\"Enter height of cylinder\"))\n",
    "\n",
    "volume=3.14*r**2*h\n",
    "print(\"Volume is: \", volume)\n",
    "cost=volume/1000*40\n",
    "print(\"cost is: \", cost)"
   ]
  },
  {
   "cell_type": "markdown",
   "id": "e876da83",
   "metadata": {},
   "source": [
    "Q13.Write  a program that will tell whether the given number is divisible by 3 & 6."
   ]
  },
  {
   "cell_type": "code",
   "execution_count": 60,
   "id": "c0fa8ea7",
   "metadata": {},
   "outputs": [
    {
     "name": "stdout",
     "output_type": "stream",
     "text": [
      "Enter any non zero number5\n",
      "The entered number 5 is not divisible by 3 & 6\n"
     ]
    }
   ],
   "source": [
    "a=int(input(\"Enter any non zero number\"))\n",
    "if a%3==0 and a%6==0:\n",
    "    print(a,\"Is divisible by 3 and 6\")\n",
    "else:\n",
    "    print(\"The entered number\",a, \"is not divisible by 3 & 6\")"
   ]
  },
  {
   "cell_type": "markdown",
   "id": "75788a74",
   "metadata": {},
   "source": [
    "Q14.Write a program that will determine weather when the value of temperature and humidity is provided by the user.\n",
    "\n",
    "TEMPERATURE(C)                         HUMIDITY(%)       WEATHER\n",
    "\n",
    "      >= 30                             >=90                Hot and Humid\n",
    "      >= 30                             < 90                 Hot\n",
    "      <30                                >= 90               Cool and Humid\n",
    "      <30                                 <90                 Cool\n"
   ]
  },
  {
   "cell_type": "code",
   "execution_count": 61,
   "id": "d8fa6a74",
   "metadata": {},
   "outputs": [
    {
     "name": "stdout",
     "output_type": "stream",
     "text": [
      "Enter the temprature in celsius45\n",
      "Enter the humidity in percentage95\n",
      "Hot and Humid\n"
     ]
    }
   ],
   "source": [
    "temp=int(input(\"Enter the temprature in celsius\"))\n",
    "humid=int(input(\"Enter the humidity in percentage\"))\n",
    "\n",
    "if temp>=30 and humid>=90:\n",
    "    print(\"Hot and Humid\")\n",
    "elif temp>=30 and humid<90:\n",
    "    print('Hot')\n",
    "elif temp<30 and humid>=90:\n",
    "    print('Cool and Humid')\n",
    "elif temp<30 and humid<90:\n",
    "    print(\"cool\")"
   ]
  },
  {
   "cell_type": "markdown",
   "id": "08399ea8",
   "metadata": {},
   "source": [
    "Q15.Write a program that will take three digit number from the user and add the square of each digit."
   ]
  },
  {
   "cell_type": "code",
   "execution_count": 63,
   "id": "0f8de8df",
   "metadata": {},
   "outputs": [
    {
     "name": "stdout",
     "output_type": "stream",
     "text": [
      "Enter the three digit number: 234\n",
      "Sum of square of digits is :  29\n"
     ]
    }
   ],
   "source": [
    "num=int(input(\"Enter the three digit number: \"))\n",
    "a=num%10     #234%10=4\n",
    "num=num//10  #234//10=23\n",
    "b=num%10     #23%10=3\n",
    "c=num//10    #23//10=2\n",
    "\n",
    "square= (2**2+3**2+4**2)\n",
    "print(\"Sum of square of digits is : \", square)"
   ]
  },
  {
   "cell_type": "markdown",
   "id": "f427eeab",
   "metadata": {},
   "source": [
    "Q16.Write a program that will check whether the number is armstrong number or not.\n"
   ]
  },
  {
   "cell_type": "code",
   "execution_count": 69,
   "id": "ee7c8926",
   "metadata": {},
   "outputs": [
    {
     "name": "stdout",
     "output_type": "stream",
     "text": [
      "Enter a three digit number: 137\n",
      "137 Is Not an Armstring number\n"
     ]
    }
   ],
   "source": [
    "#153 is an armstrong number\n",
    "\n",
    "user_input=int(input(\"Enter a three digit number: \"))\n",
    "num=user_input\n",
    "a=num%10\n",
    "num=num//10\n",
    "b=num%10\n",
    "c=num//10\n",
    "\n",
    "if (a**3+b**3+c**3)==user_input:\n",
    "    print(user_input,'Is an Armstrong number')\n",
    "else:\n",
    "    print(user_input,'Is Not an Armstring number')"
   ]
  },
  {
   "cell_type": "markdown",
   "id": "88c474a6",
   "metadata": {},
   "source": [
    "Q17.Write a program that will take user input of (4 digits number) and check whether the number is narcissist number or not."
   ]
  },
  {
   "cell_type": "code",
   "execution_count": 73,
   "id": "66a74e1e",
   "metadata": {},
   "outputs": [
    {
     "name": "stdout",
     "output_type": "stream",
     "text": [
      "Enter a number: 8208\n",
      "8208 is a Narcissist number\n"
     ]
    }
   ],
   "source": [
    "user_input=int(input(\"Enter a number: \"))\n",
    "num=user_input\n",
    "\n",
    "a=num%10     #1234%10=4\n",
    "num=num//10  #1234//10=123\n",
    "\n",
    "b=num%10     #123%10=3\n",
    "num=num//10  #123//10=12\n",
    "\n",
    "c=num%10     #12%10=2\n",
    "d=num//10    #12//10=1\n",
    "\n",
    "if ((a**2)**2+(b**2)**2+(c**2)**2+(d**2)**2)==user_input:\n",
    "    print(user_input, \"is a Narcissist number\")\n",
    "else:\n",
    "    print(user_input, \"is not a Narcissist number\")"
   ]
  },
  {
   "cell_type": "markdown",
   "id": "f5f0d451",
   "metadata": {},
   "source": [
    "Q18.Write a program that will give you the in hand salary after deduction of \n",
    "\n",
    "HRA(10%),DA(5%),PF(3%), and \n",
    "tax(if salary is between 5-10 lakh–10%),\n",
    "(11-20lakh–20%),(20< _   – 30%)(0-1lakh print k)."
   ]
  },
  {
   "cell_type": "code",
   "execution_count": 74,
   "id": "246ecf01",
   "metadata": {},
   "outputs": [
    {
     "name": "stdout",
     "output_type": "stream",
     "text": [
      "Enter your annual salary1200000\n",
      "After tax deductions your salary is:  960000.0\n",
      "In hand salary is:  65600.0\n"
     ]
    }
   ],
   "source": [
    "user_input=float(input(\"Enter your annual salary\"))\n",
    "\n",
    "if user_input>500000 and user_input<=1000000:\n",
    "    tax=(10/100)*user_input\n",
    "    temp_salary=user_input-tax\n",
    "elif user_input>1100000 and user_input<=2000000:\n",
    "    tax=(20/100)*user_input\n",
    "    temp_salary=user_input-tax\n",
    "else:\n",
    "    tax=(30/100)*user_input\n",
    "temp_salary=user_input-tax\n",
    "\n",
    "print(\"After tax deductions your salary is: \", temp_salary)\n",
    "\n",
    "hra=(10/100)*temp_salary\n",
    "da=(5/100)*temp_salary\n",
    "pf=(3/100)*temp_salary\n",
    "\n",
    "in_hand_salary=(temp_salary-hra-da-pf)/12\n",
    "print(\"In hand salary is: \", in_hand_salary)\n"
   ]
  },
  {
   "cell_type": "markdown",
   "id": "e7b2c7eb",
   "metadata": {},
   "source": [
    "Q19.Write a menu driven program - \n",
    "\n",
    "1.cm to ft  \n",
    "\n",
    "2.km to miles  \n",
    "\n",
    "3.usd to inr  \n",
    "\n",
    "4.exit"
   ]
  },
  {
   "cell_type": "code",
   "execution_count": 8,
   "id": "c0cf302a",
   "metadata": {},
   "outputs": [
    {
     "name": "stdout",
     "output_type": "stream",
     "text": [
      "Enter the option as per the opertion you wants to perform\n",
      "1. Convert cm to ft\n",
      "2.Convert km to miles\n",
      "3.Convert USD$ to INR\n",
      "4. Exit4\n",
      "Exit \n"
     ]
    }
   ],
   "source": [
    "user_input=input('''Enter the option as per the opertion you wants to perform\n",
    "1. Convert cm to ft\n",
    "2.Convert km to miles\n",
    "3.Convert USD$ to INR\n",
    "4. Exit''')\n",
    "\n",
    "if user_input==\"1\":\n",
    "    cm=float(input(\"Enter the dimension in cm: \"))\n",
    "    inch=cm*0.394\n",
    "    print('Dimension in inches is: ', inch)\n",
    "elif user_input == '2':\n",
    "    km=float(input(\"Enter the distance in km: \"))\n",
    "    miles=km*0.621\n",
    "    print(\"Distance in miles is: \", miles)\n",
    "elif user_input==\"3\":\n",
    "    USD=float(input(\"Enter the amount in USD: \"))\n",
    "    INR=USD*82.71\n",
    "    print(\"The Amount in INR is:  \", INR)\n",
    "else:\n",
    "    print(\"Exit \")"
   ]
  },
  {
   "cell_type": "markdown",
   "id": "08bb7ba4",
   "metadata": {},
   "source": [
    "Q20.Write a program that will tell the number of dogs and chicken are there when the user will provide the value of total heads and legs."
   ]
  },
  {
   "cell_type": "code",
   "execution_count": 13,
   "id": "73f881c6",
   "metadata": {},
   "outputs": [
    {
     "name": "stdout",
     "output_type": "stream",
     "text": [
      "There are 6 dogs and 4 chickens.\n"
     ]
    }
   ],
   "source": [
    "def count_animals(heads, legs):\n",
    "    \"\"\"\n",
    "    This function takes the number of heads and legs and calculates\n",
    "    the number of dogs and chickens present.\n",
    "    \"\"\"\n",
    "    # Calculate the number of dogs and chickens using algebraic equations\n",
    "    # Let d = number of dogs, c = number of chickens\n",
    "    # We have two equations: d + c = heads and 4d + 2c = legs\n",
    "    # Solving these equations simultaneously gives us:\n",
    "    # d = (legs - 2*heads) / 2\n",
    "    # c = heads - d\n",
    "    \n",
    "    d = (legs - 2*heads) / 2\n",
    "    c = heads - d\n",
    "    \n",
    "    # Check if the number of dogs and chickens are both positive integers\n",
    "    if d >= 0 and c >= 0 and d.is_integer() and c.is_integer():\n",
    "        print(f\"There are {int(d)} dogs and {int(c)} chickens.\")\n",
    "    else:\n",
    "        print(\"Invalid input.\")\n",
    "\n",
    "        \n",
    "count_animals(10,32)"
   ]
  },
  {
   "cell_type": "markdown",
   "id": "26e688ce",
   "metadata": {},
   "source": [
    "Q21.Write a program that will swap numbers"
   ]
  },
  {
   "cell_type": "code",
   "execution_count": 15,
   "id": "f2bd0f64",
   "metadata": {},
   "outputs": [
    {
     "name": "stdout",
     "output_type": "stream",
     "text": [
      "Enter number a: 20\n",
      "Enter number b: 13\n",
      "Numbers after swaping are:  13 20\n"
     ]
    }
   ],
   "source": [
    "a=int(input(\"Enter number a: \"))\n",
    "b=int(input('Enter number b: '))\n",
    "\n",
    "temp=a\n",
    "a=b\n",
    "b=temp\n",
    "\n",
    "print('Numbers after swaping are: ', a,b)"
   ]
  },
  {
   "cell_type": "markdown",
   "id": "e15d1048",
   "metadata": {},
   "source": [
    "Q22.Write a program to find the sum of first n numbers, where n will be provided by the user. \n",
    "\n",
    "Eg if the user provides n=10 the output should be 55."
   ]
  },
  {
   "cell_type": "code",
   "execution_count": 17,
   "id": "3a2bcb63",
   "metadata": {},
   "outputs": [
    {
     "name": "stdout",
     "output_type": "stream",
     "text": [
      "Enter a number: 10\n",
      "The sum of first 10  digits is:  55.0\n"
     ]
    }
   ],
   "source": [
    "num=int(input(\"Enter a number: \"))\n",
    "s=num*(num+1)/2\n",
    "print(\"The sum of first\",num,\" digits is: \", s)"
   ]
  },
  {
   "cell_type": "markdown",
   "id": "859eb3ca",
   "metadata": {},
   "source": [
    "Q23.Write a program that can multiply 2 numbers provided by the user without using the * operator"
   ]
  },
  {
   "cell_type": "code",
   "execution_count": 19,
   "id": "61d82e59",
   "metadata": {},
   "outputs": [
    {
     "name": "stdout",
     "output_type": "stream",
     "text": [
      "Enter first number: 5\n",
      "Enter second number: 5\n",
      "Result is:  25\n"
     ]
    }
   ],
   "source": [
    "first_num=int(input(\"Enter first number: \"))\n",
    "second_num=int(input('Enter second number: '))\n",
    "sum=0\n",
    "for i in range(0,first_num): #(0,1,2,3,4)\n",
    "    sum=sum+second_num       #(will add 5 five times)\n",
    "print(\"Result is: \", sum)"
   ]
  },
  {
   "cell_type": "markdown",
   "id": "f2753f3f",
   "metadata": {},
   "source": [
    "Q24.Write a program that can find the factorial of a given number provided by the user."
   ]
  },
  {
   "cell_type": "code",
   "execution_count": 26,
   "id": "5ab269e2",
   "metadata": {},
   "outputs": [
    {
     "name": "stdout",
     "output_type": "stream",
     "text": [
      "Enter number: 5\n",
      "factorial is:  120\n"
     ]
    }
   ],
   "source": [
    "num=int(input(\"Enter number: \"))\n",
    "i=1\n",
    "if num>0:\n",
    "    while num>=1:\n",
    "        i=i*num\n",
    "        num=num-1\n",
    "    print(\"factorial is: \", i)\n",
    "    \n",
    "    "
   ]
  },
  {
   "cell_type": "code",
   "execution_count": 27,
   "id": "4b34f735",
   "metadata": {},
   "outputs": [],
   "source": [
    "#factorial of a number by recursion\n",
    "def fact(n):\n",
    "    if n==0:\n",
    "        return 1\n",
    "    return n*fact(n-1)"
   ]
  },
  {
   "cell_type": "code",
   "execution_count": 28,
   "id": "e2608571",
   "metadata": {},
   "outputs": [
    {
     "data": {
      "text/plain": [
       "720"
      ]
     },
     "execution_count": 28,
     "metadata": {},
     "output_type": "execute_result"
    }
   ],
   "source": [
    "fact(6)"
   ]
  },
  {
   "cell_type": "code",
   "execution_count": 29,
   "id": "b4e86868",
   "metadata": {},
   "outputs": [
    {
     "data": {
      "text/plain": [
       "1"
      ]
     },
     "execution_count": 29,
     "metadata": {},
     "output_type": "execute_result"
    }
   ],
   "source": [
    "fact(0)"
   ]
  },
  {
   "cell_type": "markdown",
   "id": "45d0a78e",
   "metadata": {},
   "source": [
    "Q25.Write a program to print the first 25 odd numbers"
   ]
  },
  {
   "cell_type": "code",
   "execution_count": 33,
   "id": "ae8cb2b0",
   "metadata": {},
   "outputs": [
    {
     "name": "stdout",
     "output_type": "stream",
     "text": [
      "1\n",
      "3\n",
      "5\n",
      "7\n",
      "9\n",
      "11\n",
      "13\n",
      "15\n",
      "17\n",
      "19\n",
      "21\n",
      "23\n",
      "25\n"
     ]
    }
   ],
   "source": [
    "for i in range (0,26):\n",
    "    if i%2!=0:\n",
    "        print(i)"
   ]
  },
  {
   "cell_type": "markdown",
   "id": "9ff1e9ab",
   "metadata": {},
   "source": [
    "Here is how the code works:\n",
    "\n",
    "The program initializes two variables, flag and i, to 0 and 1, respectively.\n",
    "The program enters a while loop with a condition that is always true (True). This creates an infinite loop that will continue until the break statement is executed.\n",
    "Inside the while loop, the program checks if i is odd by using the modulo operator (%) to check if there is a remainder when i is divided by 2. If i is odd, the program prints i.\n",
    "The program then increments the flag variable by 1 if i is odd.\n",
    "The program checks if the flag variable has reached 25. If it has, the program executes the break statement to exit the while loop.\n",
    "If the flag variable has not reached 25, the program increments i by 1 and continues the loop.\n",
    "\n",
    "\n",
    "In summary, this program uses a while loop and conditional statements to print the first 25 odd numbers. It does so by checking if each number is odd and keeping track of how many odd numbers have been printed using the flag variable. When 25 odd numbers have been printed, the program exits the loop."
   ]
  },
  {
   "cell_type": "code",
   "execution_count": 35,
   "id": "fc8100f3",
   "metadata": {},
   "outputs": [
    {
     "name": "stdout",
     "output_type": "stream",
     "text": [
      "1\n",
      "3\n",
      "5\n",
      "7\n",
      "9\n",
      "11\n",
      "13\n",
      "15\n",
      "17\n",
      "19\n",
      "21\n",
      "23\n",
      "25\n",
      "27\n",
      "29\n",
      "31\n",
      "33\n",
      "35\n",
      "37\n",
      "39\n",
      "41\n",
      "43\n",
      "45\n",
      "47\n",
      "49\n"
     ]
    }
   ],
   "source": [
    "flag=0\n",
    "i=1\n",
    "while True:\n",
    "    if i%2!=0:\n",
    "        print(i)\n",
    "        flag=flag+1\n",
    "    if flag==25:\n",
    "        break\n",
    "    i=i+1\n",
    "        "
   ]
  },
  {
   "cell_type": "markdown",
   "id": "8cb63344",
   "metadata": {},
   "source": [
    "Q28.Write a program to print whether a given number is prime number or not"
   ]
  },
  {
   "cell_type": "code",
   "execution_count": 49,
   "id": "02d70611",
   "metadata": {},
   "outputs": [
    {
     "name": "stdout",
     "output_type": "stream",
     "text": [
      "Enter the number: 5\n",
      "5 Is a prime number: \n"
     ]
    }
   ],
   "source": [
    "num=int(input(\"Enter the number: \"))\n",
    "if num==2:\n",
    "    print(\"It Is Prime number\")\n",
    "elif num>1:\n",
    "    for i in range(2,num):\n",
    "        if (num % i)==0:\n",
    "            print(num,\" is Not A prime number\")\n",
    "            break \n",
    "        else:\n",
    "            print(num,\"Is a prime number\")\n",
    "            break\n",
    "    else:\n",
    "        print(num,\"Is not a prime number\")\n",
    "    "
   ]
  },
  {
   "cell_type": "markdown",
   "id": "bea08bc4",
   "metadata": {},
   "source": [
    "Q29.Print all the armstrong numbers in the range of 100 to 1000"
   ]
  },
  {
   "cell_type": "code",
   "execution_count": 50,
   "id": "cdd35133",
   "metadata": {},
   "outputs": [
    {
     "name": "stdout",
     "output_type": "stream",
     "text": [
      "153\n",
      "370\n",
      "371\n",
      "407\n"
     ]
    }
   ],
   "source": [
    "for num in range (100,1000):\n",
    "    i=num\n",
    "    a=num%10\n",
    "    num=num//10\n",
    "    b=num%10\n",
    "    c=num//10\n",
    "    if (a**3)+(b**3)+(c**3)==i:\n",
    "        print(i)\n",
    "    i=i+1"
   ]
  },
  {
   "cell_type": "markdown",
   "id": "fbe7898e",
   "metadata": {},
   "source": [
    "Q30.The current population of a town is 10000. The population of the town is increasing at the rate of 10% per year. You have to write a program to find out the population at the end of each of the last 10 years. \n",
    "\n",
    "For eg current population is 10000 so the output should be like this:\n",
    "\n",
    "10th year - 10000\n",
    "\n",
    "9th year - 9000\n",
    "\n",
    "8th year - 8100 and so on\n"
   ]
  },
  {
   "cell_type": "code",
   "execution_count": 51,
   "id": "72b99f3b",
   "metadata": {},
   "outputs": [
    {
     "name": "stdout",
     "output_type": "stream",
     "text": [
      "10th year - 9090\n",
      "9th year - 8263\n",
      "8th year - 7511\n",
      "7th year - 6828\n",
      "6th year - 6207\n",
      "5th year - 5642\n",
      "4th year - 5129\n",
      "3th year - 4662\n",
      "2th year - 4238\n",
      "1th year - 3852\n"
     ]
    }
   ],
   "source": [
    "population = 10000\n",
    "\n",
    "for year in range(10, 0, -1):\n",
    "    population = int(population / 1.1)\n",
    "    print(f\"{year}th year - {population}\")\n"
   ]
  },
  {
   "cell_type": "code",
   "execution_count": 52,
   "id": "99051139",
   "metadata": {},
   "outputs": [
    {
     "name": "stdout",
     "output_type": "stream",
     "text": [
      "10000\n",
      "9000\n",
      "8100\n",
      "7290\n",
      "6561\n",
      "5904\n",
      "5314\n",
      "4782\n",
      "4304\n",
      "3874\n"
     ]
    }
   ],
   "source": [
    "flag=0\n",
    "a=10000\n",
    "print(a)\n",
    "while True:\n",
    "    b=(a)-((10*a)/100)\n",
    "    a=b\n",
    "    print(int(b))\n",
    "    flag=flag+1\n",
    "    if flag==9:\n",
    "        break"
   ]
  },
  {
   "cell_type": "markdown",
   "id": "d87473f3",
   "metadata": {},
   "source": [
    "Q31.Write a program to print all the unique combinations of 1,2,3 and 4"
   ]
  },
  {
   "cell_type": "code",
   "execution_count": 53,
   "id": "c1d6e56a",
   "metadata": {},
   "outputs": [
    {
     "name": "stdout",
     "output_type": "stream",
     "text": [
      "1 2\n",
      "1 3\n",
      "1 4\n",
      "2 1\n",
      "2 3\n",
      "2 4\n",
      "3 1\n",
      "3 2\n",
      "3 4\n",
      "4 1\n",
      "4 2\n",
      "4 3\n"
     ]
    }
   ],
   "source": [
    "for i in range(1,5):\n",
    "    for j in range(1,5):\n",
    "        if (i!=j):\n",
    "            print(i,j)"
   ]
  },
  {
   "cell_type": "markdown",
   "id": "f97fa6c9",
   "metadata": {},
   "source": [
    "Q32.User will provide 2 numbers you have to find the HCF of those 2 numbers "
   ]
  },
  {
   "cell_type": "code",
   "execution_count": 55,
   "id": "c2259ee7",
   "metadata": {},
   "outputs": [
    {
     "name": "stdout",
     "output_type": "stream",
     "text": [
      "Enter First Number: 10\n",
      "Enter Second Number: 25\n",
      "HCF is:  5\n"
     ]
    }
   ],
   "source": [
    "a=int(input(\"Enter First Number: \"))\n",
    "b=int(input(\"Enter Second Number: \"))\n",
    "while a % b !=0:\n",
    "    rem=a%b\n",
    "    a=b\n",
    "    b=rem\n",
    "print(\"HCF is: \", b)"
   ]
  },
  {
   "cell_type": "markdown",
   "id": "c20d52ae",
   "metadata": {},
   "source": [
    "Q33.User will provide 2 numbers you have to find the  LCM of those 2 numbers"
   ]
  },
  {
   "cell_type": "code",
   "execution_count": 58,
   "id": "fa0cdda2",
   "metadata": {},
   "outputs": [
    {
     "name": "stdout",
     "output_type": "stream",
     "text": [
      "Enter first number: 2\n",
      "Enter second number: 3\n",
      "HCF is:  1\n",
      "LCM is:  6.0\n"
     ]
    }
   ],
   "source": [
    "a=int(input(\"Enter first number: \"))\n",
    "num1=a\n",
    "b=int(input(\"Enter second number: \"))\n",
    "num2=b\n",
    "\n",
    "while num1%num2!=0:\n",
    "    rem=num1%num2\n",
    "    num1=num2\n",
    "    num2=rem\n",
    "hcf=num2\n",
    "print('HCF is: ', hcf)\n",
    "\n",
    "lcm=(a*b)/hcf\n",
    "print('LCM is: ' ,lcm)\n",
    "    "
   ]
  },
  {
   "cell_type": "markdown",
   "id": "f0d4df2f",
   "metadata": {},
   "source": [
    "Q34.Print first 25 prime numbers"
   ]
  },
  {
   "cell_type": "code",
   "execution_count": 59,
   "id": "b7a0ebff",
   "metadata": {},
   "outputs": [
    {
     "name": "stdout",
     "output_type": "stream",
     "text": [
      "2\n",
      "3\n",
      "5\n",
      "7\n",
      "11\n",
      "13\n",
      "17\n",
      "19\n",
      "23\n",
      "29\n",
      "31\n",
      "37\n",
      "41\n",
      "43\n",
      "47\n",
      "53\n",
      "59\n",
      "61\n",
      "67\n",
      "71\n",
      "73\n",
      "79\n",
      "83\n",
      "89\n",
      "97\n",
      "101\n"
     ]
    }
   ],
   "source": [
    "flag=0\n",
    "num=2\n",
    "while flag<=25:\n",
    "    for i in range (2,num):\n",
    "        if num%i==0:\n",
    "            break\n",
    "    else:\n",
    "        print(num)\n",
    "        flag=flag+1\n",
    "    num=num+1\n",
    "      "
   ]
  },
  {
   "cell_type": "markdown",
   "id": "13601670",
   "metadata": {},
   "source": [
    "Q35.Print the first 20 numbers of a Fibonacci series"
   ]
  },
  {
   "cell_type": "code",
   "execution_count": 60,
   "id": "b92dafbf",
   "metadata": {},
   "outputs": [
    {
     "name": "stdout",
     "output_type": "stream",
     "text": [
      "0\n",
      "1\n",
      "1\n",
      "2\n",
      "3\n",
      "5\n",
      "8\n",
      "13\n",
      "21\n",
      "34\n",
      "55\n",
      "89\n",
      "144\n",
      "233\n",
      "377\n",
      "610\n",
      "987\n",
      "1597\n",
      "2584\n",
      "4181\n"
     ]
    }
   ],
   "source": [
    "count=0\n",
    "a=0\n",
    "b=1\n",
    "print(a)\n",
    "print(b)\n",
    "\n",
    "while True:\n",
    "    c=a+b\n",
    "    a=b\n",
    "    b=c\n",
    "    print(c)\n",
    "    count=count+1\n",
    "    if count==18:\n",
    "        break"
   ]
  },
  {
   "cell_type": "markdown",
   "id": "bf67afe1",
   "metadata": {},
   "source": [
    "Q36.Write a program to find the compound interest "
   ]
  },
  {
   "cell_type": "code",
   "execution_count": 61,
   "id": "526eddb4",
   "metadata": {},
   "outputs": [
    {
     "name": "stdout",
     "output_type": "stream",
     "text": [
      "Enter principal10000\n",
      "Enter rate of interest3\n",
      "Enter time period2\n",
      "Amount is:  10609.0\n",
      "Compound interset is:  609.0\n"
     ]
    }
   ],
   "source": [
    "p=int(input(\"Enter principal\"))\n",
    "r=int(input(\"Enter rate of interest\"))\n",
    "t=int(input(\"Enter time period\"))\n",
    "amount=p*(1+r/100)**t\n",
    "\n",
    "print('Amount is: ', amount)\n",
    "\n",
    "ci=amount-p\n",
    "print(\"Compound interset is: \", ci)"
   ]
  },
  {
   "cell_type": "markdown",
   "id": "01c1240e",
   "metadata": {},
   "source": [
    "Q37.Write a Python program that accepts an integer (n) and computes the value of n+nn+nnn.\n"
   ]
  },
  {
   "cell_type": "code",
   "execution_count": 65,
   "id": "14a804f1",
   "metadata": {},
   "outputs": [
    {
     "name": "stdout",
     "output_type": "stream",
     "text": [
      "Enter a number: 4\n",
      "n is:  4\n",
      "nn is:  44\n",
      "nnn is:  444\n",
      "The value of n+nn+nnn is:  492\n"
     ]
    }
   ],
   "source": [
    "n=input(\"Enter a number: \")\n",
    "print(\"n is: \",n)\n",
    "nn=n+n\n",
    "print(\"nn is: \",nn)\n",
    "nnn=n+n+n\n",
    "print(\"nnn is: \",nnn)\n",
    "\n",
    "c=int(n)+int(nn)+int(nnn)\n",
    "\n",
    "print(\"The value of n+nn+nnn is: \",c)\n",
    "\n",
    "    "
   ]
  },
  {
   "cell_type": "markdown",
   "id": "0d4baa56",
   "metadata": {},
   "source": [
    "Q38.Take a number from the user and find the number of digits in it. "
   ]
  },
  {
   "cell_type": "code",
   "execution_count": 3,
   "id": "6807ea18",
   "metadata": {},
   "outputs": [
    {
     "name": "stdout",
     "output_type": "stream",
     "text": [
      "Enter a number: 123\n",
      "Number of digits is:  3\n"
     ]
    }
   ],
   "source": [
    "a=int(input(\"Enter a number: \"))\n",
    "count=0\n",
    "\n",
    "while (a>0):\n",
    "    a=a//10\n",
    "    count=count+1\n",
    "print(\"Number of digits is: \", count)"
   ]
  },
  {
   "cell_type": "markdown",
   "id": "1f798a2e",
   "metadata": {},
   "source": [
    "Q39.Print all factors of a given number provided by the user."
   ]
  },
  {
   "cell_type": "code",
   "execution_count": 5,
   "id": "bb508dfa",
   "metadata": {},
   "outputs": [
    {
     "name": "stdout",
     "output_type": "stream",
     "text": [
      "Enter a number: 10\n",
      "factors of a number are:  1\n",
      "factors of a number are:  2\n",
      "factors of a number are:  5\n",
      "factors of a number are:  10\n"
     ]
    }
   ],
   "source": [
    "num=int(input(\"Enter a number: \"))\n",
    "for i in range (1,num+1):\n",
    "    if num%i==0:\n",
    "        print(\"factors of a number are: \", i)"
   ]
  },
  {
   "cell_type": "markdown",
   "id": "7c27a1db",
   "metadata": {},
   "source": [
    "Q40.Find the reverse of a number provided by the user(any number of digit) "
   ]
  },
  {
   "cell_type": "code",
   "execution_count": 9,
   "id": "342a7f3d",
   "metadata": {},
   "outputs": [
    {
     "name": "stdout",
     "output_type": "stream",
     "text": [
      "Enter a number: 15123\n",
      "Reversed is 32151\n"
     ]
    }
   ],
   "source": [
    "a=int(input(\"Enter a number: \"))\n",
    "rev=0\n",
    "\n",
    "while a>0:\n",
    "    rem=a%10\n",
    "    a=a//10\n",
    "    rev=(rev*10)+rem\n",
    "print(\"Reversed is\",rev)"
   ]
  },
  {
   "cell_type": "markdown",
   "id": "891bda6a",
   "metadata": {},
   "source": [
    "#Q41.Write a program to print the following pattern"
   ]
  },
  {
   "cell_type": "code",
   "execution_count": 2,
   "id": "de749ef7",
   "metadata": {},
   "outputs": [
    {
     "name": "stdout",
     "output_type": "stream",
     "text": [
      "Enter rows: 3\n",
      "  * \n",
      " * * \n",
      "* * * \n"
     ]
    }
   ],
   "source": [
    "n=int(input(\"Enter rows: \"))\n",
    "for i in range (0,n):\n",
    "    for j in range (0,n-i-1):\n",
    "        print(end=\" \")\n",
    "    for k in range (0,i+1):\n",
    "        print('*',end=' ')\n",
    "    print()\n",
    "    "
   ]
  },
  {
   "cell_type": "markdown",
   "id": "998e654c",
   "metadata": {},
   "source": [
    "#Q42.Write a program to print the following pattern"
   ]
  },
  {
   "cell_type": "code",
   "execution_count": 5,
   "id": "2f081861",
   "metadata": {},
   "outputs": [
    {
     "name": "stdout",
     "output_type": "stream",
     "text": [
      "Enter number: 4\n",
      "\n",
      "* \n",
      "* * \n",
      "* * * \n",
      "* * * * \n"
     ]
    }
   ],
   "source": [
    "n=int(input(\"Enter number: \"))\n",
    "for i in range(0,n+1):\n",
    "    for j in range(0,i):\n",
    "        print(\"*\", end=\" \")\n",
    "    print('')"
   ]
  },
  {
   "cell_type": "markdown",
   "id": "4f17f0c3",
   "metadata": {},
   "source": [
    "Q43. "
   ]
  },
  {
   "cell_type": "code",
   "execution_count": 8,
   "id": "8187e2fe",
   "metadata": {},
   "outputs": [
    {
     "name": "stdout",
     "output_type": "stream",
     "text": [
      "Enter number: 3\n",
      "\n",
      "* \n",
      "* * \n",
      "* * * \n",
      "* * \n",
      "* \n",
      "\n"
     ]
    }
   ],
   "source": [
    "n=int(input(\"Enter number: \"))\n",
    "for i in range(0,n+1):\n",
    "    for j in range(0,i):\n",
    "        print('*', end=\" \")\n",
    "    print(\"\")\n",
    "    \n",
    "for k in range(n,0,-1):\n",
    "    for l in range(0,k-1):\n",
    "        print(\"*\",end=\" \")\n",
    "    print(\"\")"
   ]
  },
  {
   "cell_type": "markdown",
   "id": "1a04247c",
   "metadata": {},
   "source": [
    "Q44."
   ]
  },
  {
   "cell_type": "code",
   "execution_count": 22,
   "id": "99a875c2",
   "metadata": {},
   "outputs": [
    {
     "name": "stdout",
     "output_type": "stream",
     "text": [
      "Enter a number: 5\n",
      "1 \n",
      "1 2 1 \n",
      "1 2 3 2 1 \n",
      "1 2 3 4 3 2 1 \n",
      "1 2 3 4 5 4 3 2 1 \n"
     ]
    }
   ],
   "source": [
    "n=int(input(\"Enter a number: \"))\n",
    "for i in range(1,n+1):\n",
    "    for j in range(1,i+1):\n",
    "        print(j,end=\" \")\n",
    "    for k in range(i-1,0,-1):\n",
    "        print(k,end=\" \")\n",
    "    print('')"
   ]
  },
  {
   "cell_type": "markdown",
   "id": "a716f835",
   "metadata": {},
   "source": [
    "Q45. "
   ]
  },
  {
   "cell_type": "code",
   "execution_count": 24,
   "id": "1e511976",
   "metadata": {},
   "outputs": [
    {
     "name": "stdout",
     "output_type": "stream",
     "text": [
      "Enter a number: 4\n",
      "1 \n",
      "23 \n",
      "456 \n",
      "78910 \n"
     ]
    }
   ],
   "source": [
    "n=int(input(\"Enter a number: \"))\n",
    "num=1\n",
    "for i in range(1,n+1):      # 1 2 3 4 \n",
    "    for j in range(1,i+1):  # 1-2 1-3 1-4 1-5\n",
    "        print(num,end=\"\")   # \n",
    "        num=num+1\n",
    "    print(' ')\n",
    "    "
   ]
  },
  {
   "cell_type": "markdown",
   "id": "b858fba4",
   "metadata": {},
   "source": [
    " Q46.Write a program to calculate the sum of the following series till the nth term\n",
    "\n",
    "  1/1! + 2/2! + 3/3! + 4/4! +…….+ n/n!\n",
    "\n",
    "   n will be provided by the user\n"
   ]
  },
  {
   "cell_type": "code",
   "execution_count": 5,
   "id": "0651d649",
   "metadata": {},
   "outputs": [
    {
     "name": "stdout",
     "output_type": "stream",
     "text": [
      "Enter a number: 10\n",
      "2.7182815255731922\n"
     ]
    }
   ],
   "source": [
    "num=int(input(\"Enter a number: \"))\n",
    "result=0\n",
    "fact=1\n",
    "for i in range(1,num+1):\n",
    "    fact=fact*i\n",
    "    result=result+(i/fact)\n",
    "print(result)"
   ]
  },
  {
   "cell_type": "markdown",
   "id": "5d75512c",
   "metadata": {},
   "source": [
    "Q47.Write a Python Program to Find the Sum of the Series till the nth term: \n",
    "\n",
    "    1 + x^2/2 + x^3/3 + … x^n/n\n",
    "\n",
    "    n will be provided by the user\n"
   ]
  },
  {
   "cell_type": "code",
   "execution_count": 6,
   "id": "fc527d02",
   "metadata": {},
   "outputs": [
    {
     "name": "stdout",
     "output_type": "stream",
     "text": [
      "Enter your number: 10\n",
      "Enter nth value: 4\n",
      "2884.3333333333335\n"
     ]
    }
   ],
   "source": [
    "x=int(input(\"Enter your number: \"))\n",
    "n=int(input(\"Enter nth value: \"))\n",
    "sum=1\n",
    "for i in range(2,n+1):\n",
    "    sum=sum+((x**i)/i)\n",
    "print(sum)"
   ]
  },
  {
   "cell_type": "markdown",
   "id": "5306b368",
   "metadata": {},
   "source": [
    "Q48.The natural logarithm can be approximated by the following series.\n",
    " \n",
    "If x is input through the keyboard, write a program to calculate the sum of the first seven terms of this series.\n",
    "\n",
    "(x-1/x)+1/2(x-1/x)**2 + 1/2(x-1/x)**3 +________+ 1/2(x-1/x)**7\n"
   ]
  },
  {
   "cell_type": "code",
   "execution_count": 7,
   "id": "9f414e01",
   "metadata": {},
   "outputs": [
    {
     "name": "stdout",
     "output_type": "stream",
     "text": [
      "Enter any number10\n",
      "2.7976639500000005\n"
     ]
    }
   ],
   "source": [
    "x=int(input(\"Enter any number\"))\n",
    "n=7\n",
    "sum=((x-1)/x)\n",
    "\n",
    "for i in range (2,n+1):\n",
    "    sum=sum+(1/2*((x-1)/x)**i)\n",
    "print(sum)        "
   ]
  },
  {
   "cell_type": "markdown",
   "id": "107df153",
   "metadata": {},
   "source": [
    "Q49.Write a program that keeps on accepting a number from the user until the user enters Zero. Display the sum and average of all the numbers."
   ]
  },
  {
   "cell_type": "code",
   "execution_count": 8,
   "id": "60f71867",
   "metadata": {},
   "outputs": [
    {
     "name": "stdout",
     "output_type": "stream",
     "text": [
      "Enter any number: 3\n",
      "Enter another number: 4\n",
      "Enter another number: 5\n",
      "Enter another number: 6\n",
      "Enter another number: 7\n",
      "Enter another number: 8\n",
      "Enter another number: 9\n",
      "Enter another number: 0\n",
      "Thank You\n",
      "Addition of entered numbesr is :  42\n",
      "Average of Entered numbers is :  6.0\n"
     ]
    }
   ],
   "source": [
    "num=int(input(\"Enter any number: \"))\n",
    "add=0\n",
    "avg=0\n",
    "count=0\n",
    "while True:\n",
    "    if num!=0:\n",
    "        add=add+num\n",
    "        count=count+1\n",
    "        avg=add/count\n",
    "        num=int(input(\"Enter another number: \"))\n",
    "    else:\n",
    "        print(\"Thank You\")\n",
    "        break\n",
    "print(\"Addition of entered numbesr is : \", add)\n",
    "print(\"Average of Entered numbers is : \", avg)"
   ]
  },
  {
   "cell_type": "markdown",
   "id": "acb2d6d5",
   "metadata": {},
   "source": [
    "Q50.Write a program that accepts 2 numbers from the user a numerator and a denominator and then simplifies it\n",
    "\n",
    "Eg if the num = 5, den = 15 the answer should be ⅓\n",
    "\n",
    "Eg if the num = 6, den = 9 the answer should be ⅔\n"
   ]
  },
  {
   "cell_type": "code",
   "execution_count": 14,
   "id": "a619e898",
   "metadata": {},
   "outputs": [
    {
     "name": "stdout",
     "output_type": "stream",
     "text": [
      "Enter first number: 25\n",
      "Enter second number: 3\n",
      "8.333333333333334\n"
     ]
    }
   ],
   "source": [
    "a=int(input(\"Enter first number: \"))\n",
    "num_1=a\n",
    "b=int(input(\"Enter second number: \"))\n",
    "num_2=b\n",
    "\n",
    "while num_1 % num_2 !=0:\n",
    "    rem= num_1%num_2\n",
    "    num_1=num_2\n",
    "    num_2=rem\n",
    "hcf= num_2\n",
    "a=a/hcf\n",
    "b=b/hcf\n",
    "\n",
    "print(a/b)"
   ]
  },
  {
   "cell_type": "markdown",
   "id": "330a98b6",
   "metadata": {},
   "source": [
    "Q51.Find the length of a given string without using the len() function. \n"
   ]
  },
  {
   "cell_type": "code",
   "execution_count": 15,
   "id": "fd30495e",
   "metadata": {},
   "outputs": [
    {
     "name": "stdout",
     "output_type": "stream",
     "text": [
      "Enter any string: Jayesh Mahajan\n",
      "Length of string is:  14\n"
     ]
    }
   ],
   "source": [
    "s=input(\"Enter any string: \")\n",
    "count=0\n",
    "for i in s:\n",
    "    count=count+1\n",
    "print(\"Length of string is: \", count)"
   ]
  },
  {
   "cell_type": "code",
   "execution_count": 16,
   "id": "bc9baf40",
   "metadata": {},
   "outputs": [
    {
     "data": {
      "text/plain": [
       "14"
      ]
     },
     "execution_count": 16,
     "metadata": {},
     "output_type": "execute_result"
    }
   ],
   "source": [
    "len(\"Jayesh Mahajan\")"
   ]
  },
  {
   "cell_type": "markdown",
   "id": "ce5d6465",
   "metadata": {},
   "source": [
    "Q52.Extract username from a given email. \n",
    " \n",
    "Eg if the email is jayesh.mhjn137@gmail.com then the username should be jayesh.mhjn137\n"
   ]
  },
  {
   "cell_type": "code",
   "execution_count": 18,
   "id": "e29249eb",
   "metadata": {},
   "outputs": [
    {
     "name": "stdout",
     "output_type": "stream",
     "text": [
      "Enter you email: jayesh.mahajn@atgeirsolutions.com\n",
      "Your username is:  jayesh.mahajn\n"
     ]
    }
   ],
   "source": [
    "email=str(input(\"Enter you email: \"))\n",
    "username,email=email.split(\"@\")\n",
    "print(\"Your username is: \",username)"
   ]
  },
  {
   "cell_type": "markdown",
   "id": "7a0f3304",
   "metadata": {},
   "source": [
    "Q53.Count the frequency of a particular character in a provided string. \n",
    "\n",
    "\n",
    "Eg 'hello how are you' is the string, the frequency of h in this string is 2."
   ]
  },
  {
   "cell_type": "code",
   "execution_count": 24,
   "id": "1eeea722",
   "metadata": {},
   "outputs": [
    {
     "name": "stdout",
     "output_type": "stream",
     "text": [
      "Enter your string: Jayesh sahebrao Mahajan \n",
      "Enter a character you want to count in: a\n",
      "Count of a is 6\n"
     ]
    }
   ],
   "source": [
    "s=input(\"Enter your string: \")\n",
    "char_count=input(\"Enter a character you want to count in: \")\n",
    "count=0\n",
    "for i in s:\n",
    "    if i==char_count:\n",
    "        count=count+1\n",
    "print(\"Count of\",char_count,\"is\",count)\n"
   ]
  },
  {
   "cell_type": "markdown",
   "id": "f14741fa",
   "metadata": {},
   "source": [
    "Q54.Find the index position of a particular character in another string"
   ]
  },
  {
   "cell_type": "code",
   "execution_count": 25,
   "id": "9c5b3417",
   "metadata": {},
   "outputs": [
    {
     "name": "stdout",
     "output_type": "stream",
     "text": [
      "Enter string1: Atgeir Solutions\n",
      "Enter character: o\n",
      "8\n"
     ]
    }
   ],
   "source": [
    "a=input(\"Enter string1: \")\n",
    "b=input('Enter character: ')\n",
    "print(a.index(b))\n"
   ]
  },
  {
   "cell_type": "markdown",
   "id": "362a98c2",
   "metadata": {},
   "source": [
    "Q55.Count the number of vowels in a string provided by the user.\n"
   ]
  },
  {
   "cell_type": "code",
   "execution_count": 26,
   "id": "1173b75d",
   "metadata": {},
   "outputs": [
    {
     "name": "stdout",
     "output_type": "stream",
     "text": [
      "Enter your string: jayesh Sahebrao Mahajan\n",
      "Count of Vowels in jayesh Sahebrao Mahajan is 9\n"
     ]
    }
   ],
   "source": [
    "a=input(\"Enter your string: \")\n",
    "b=\"AaEeIiOoUu\"\n",
    "count=0\n",
    "for i in a:\n",
    "    if i in b:\n",
    "        count=count+1\n",
    "print(\"Count of Vowels in\", a, \"is\", count)\n"
   ]
  },
  {
   "cell_type": "markdown",
   "id": "e6570f98",
   "metadata": {},
   "source": [
    "Q56.Write a program which can remove a particular character from a string. "
   ]
  },
  {
   "cell_type": "code",
   "execution_count": 38,
   "id": "8dddb7af",
   "metadata": {},
   "outputs": [
    {
     "name": "stdout",
     "output_type": "stream",
     "text": [
      "Enter your string: Jayesh\n",
      "Enter character you wants to remove: esh\n",
      "Jay\n"
     ]
    }
   ],
   "source": [
    "def remove_char(string, char):\n",
    "    \"\"\"Removes a particular character from a string.\"\"\"\n",
    "    return string.replace(char, \"\")\n",
    "\n",
    "string = input(\"Enter your string: \")\n",
    "char = input(\"Enter character you wants to remove: \")\n",
    "new_string = remove_char(string, char)\n",
    "print(new_string) \n"
   ]
  },
  {
   "cell_type": "markdown",
   "id": "227f84f9",
   "metadata": {},
   "source": [
    "Q57.Write a program that can check whether a given string is palindrome or not."
   ]
  },
  {
   "cell_type": "code",
   "execution_count": 42,
   "id": "76fd1cd2",
   "metadata": {},
   "outputs": [
    {
     "name": "stdout",
     "output_type": "stream",
     "text": [
      "Enter a string: eye\n",
      "eye Is a Pallindrome\n"
     ]
    }
   ],
   "source": [
    "s=input(\"Enter a string: \")\n",
    "v=s[::-1]\n",
    "if s==v:\n",
    "    print(s,\"Is a Pallindrome\")\n",
    "else:\n",
    "    print(s,\" Is not a pallindrome\")"
   ]
  },
  {
   "cell_type": "code",
   "execution_count": 44,
   "id": "a8e92570",
   "metadata": {},
   "outputs": [
    {
     "name": "stdout",
     "output_type": "stream",
     "text": [
      "Enter a string: Jayesh\n",
      "hseyaJ\n",
      "Jayesh Is not a pallindrome\n"
     ]
    }
   ],
   "source": [
    "a=input(\"Enter a string: \")\n",
    "rev=\"\"\n",
    "for i in range (len(a)-1,-1,-1):\n",
    "    rev=rev+a[i]\n",
    "print(rev)\n",
    "\n",
    "if rev==a:\n",
    "    print(a,\"is pallindrome\")\n",
    "else:\n",
    "    print(a,\"Is not a pallindrome\")"
   ]
  },
  {
   "cell_type": "markdown",
   "id": "9268396d",
   "metadata": {},
   "source": [
    "Q58.Write a python program to remove all the duplicates from a list\n"
   ]
  },
  {
   "cell_type": "code",
   "execution_count": 49,
   "id": "d7aba4ee",
   "metadata": {},
   "outputs": [
    {
     "name": "stdout",
     "output_type": "stream",
     "text": [
      "After removing duplicate elements from list new list is:  [1, 2, 3, 4, 5, 6]\n"
     ]
    }
   ],
   "source": [
    "def remove_duplicates(lst):\n",
    "    \"\"\"Removes duplicate elements from a list.\"\"\"\n",
    "    return list(set(lst))\n",
    "\n",
    "# example usage\n",
    "lst = [1, 2, 3, 2, 4, 3, 5, 4, 6]\n",
    "new_lst = remove_duplicates(lst)\n",
    "print(\"After removing duplicate elements from list new list is: \",new_lst) # prints [1, 2, 3, 4, 5, 6]\n",
    "\n"
   ]
  },
  {
   "cell_type": "markdown",
   "id": "aaebb8d6",
   "metadata": {},
   "source": [
    "Q59.Write a python program to convert a string to title case without using the title() "
   ]
  },
  {
   "cell_type": "code",
   "execution_count": 50,
   "id": "077d2747",
   "metadata": {},
   "outputs": [
    {
     "name": "stdout",
     "output_type": "stream",
     "text": [
      "Hello, World! How Are You?\n"
     ]
    }
   ],
   "source": [
    "def to_title_case(string):\n",
    "    \"\"\"Converts a string to title case.\"\"\"\n",
    "    return ' '.join([word.capitalize() for word in string.split()])\n",
    "\n",
    "# example usage\n",
    "string = \"hello, world! how are you?\"\n",
    "new_string = to_title_case(string)\n",
    "print(new_string) # prints \"Hello, World! How Are You?\"\n"
   ]
  },
  {
   "cell_type": "code",
   "execution_count": 51,
   "id": "2a58870f",
   "metadata": {},
   "outputs": [
    {
     "name": "stdout",
     "output_type": "stream",
     "text": [
      "Enter a string: jayesh sahebrao mahajan\n",
      "['jayesh', 'sahebrao', 'mahajan']\n",
      " Jayesh Sahebrao Mahajan \n"
     ]
    }
   ],
   "source": [
    "a=input(\"Enter a string: \")\n",
    "y=a.split()\n",
    "print(y)\n",
    "r=\" \"\n",
    "\n",
    "for i in y:\n",
    "    r=r+i[0].upper()+i[1:].lower()+' '\n",
    "print(r)"
   ]
  },
  {
   "cell_type": "markdown",
   "id": "34856951",
   "metadata": {},
   "source": [
    "Q60.Write a python program to find the max item from a list without using the max function"
   ]
  },
  {
   "cell_type": "code",
   "execution_count": 52,
   "id": "0941cd9d",
   "metadata": {},
   "outputs": [
    {
     "name": "stdout",
     "output_type": "stream",
     "text": [
      "9\n"
     ]
    }
   ],
   "source": [
    "def find_max(lst):\n",
    "    \"\"\"Finds the maximum item from a list.\"\"\"\n",
    "    if not lst: # if the list is empty\n",
    "        return None\n",
    "    \n",
    "    max_item = lst[0] # initialize the maximum item as the first element in the list\n",
    "    for item in lst:\n",
    "        if item > max_item:\n",
    "            max_item = item\n",
    "    \n",
    "    return max_item\n",
    "\n",
    "# example usage\n",
    "lst = [3, 6, 2, 8, 1, 9, 4, 5]\n",
    "max_item = find_max(lst)\n",
    "print(max_item) # prints 9\n"
   ]
  },
  {
   "cell_type": "markdown",
   "id": "dea55139",
   "metadata": {},
   "source": [
    "Q61.Write a python program to reverse a list"
   ]
  },
  {
   "cell_type": "code",
   "execution_count": 53,
   "id": "80ebe136",
   "metadata": {},
   "outputs": [
    {
     "name": "stdout",
     "output_type": "stream",
     "text": [
      "[6, 45, 3, 2, 1]\n"
     ]
    }
   ],
   "source": [
    "l=[1,2,3,45,6]\n",
    "rev=[]\n",
    "for i in range (len(l)-1,-1,-1):\n",
    "    rev.append(l[i])\n",
    "print(rev)"
   ]
  },
  {
   "cell_type": "code",
   "execution_count": 54,
   "id": "8eed1cc6",
   "metadata": {},
   "outputs": [
    {
     "name": "stdout",
     "output_type": "stream",
     "text": [
      "[5, 4, 3, 2, 1]\n"
     ]
    }
   ],
   "source": [
    "my_list = [1, 2, 3, 4, 5]\n",
    "my_list.reverse()\n",
    "print(my_list)\n"
   ]
  },
  {
   "cell_type": "code",
   "execution_count": 55,
   "id": "60340815",
   "metadata": {},
   "outputs": [
    {
     "name": "stdout",
     "output_type": "stream",
     "text": [
      "[5, 4, 3, 2, 1]\n"
     ]
    }
   ],
   "source": [
    "my_list = [1, 2, 3, 4, 5]\n",
    "reversed_list = my_list[::-1]\n",
    "print(reversed_list)\n"
   ]
  },
  {
   "cell_type": "markdown",
   "id": "68c82e4a",
   "metadata": {},
   "source": [
    "Q62.Write a python program to search a given number from a list"
   ]
  },
  {
   "cell_type": "code",
   "execution_count": 63,
   "id": "c6350e88",
   "metadata": {},
   "outputs": [
    {
     "name": "stdout",
     "output_type": "stream",
     "text": [
      "Enter a number you wants to search in list: 1\n",
      "1 Is not available in list\n"
     ]
    }
   ],
   "source": [
    "l=[1,2,3,4,5,6,7,8,9,10,11,12,13,20]\n",
    "num=input('Enter a number you wants to search in list: ')\n",
    "for i in l:\n",
    "    if i==num:\n",
    "        print(num,\"Is available in list\")\n",
    "        break\n",
    "else:\n",
    "    print(num,\"Is not available in list\")"
   ]
  },
  {
   "cell_type": "code",
   "execution_count": 70,
   "id": "d02d3e3b",
   "metadata": {},
   "outputs": [
    {
     "ename": "NameError",
     "evalue": "name 'search_num' is not defined",
     "output_type": "error",
     "traceback": [
      "\u001b[1;31m---------------------------------------------------------------------------\u001b[0m",
      "\u001b[1;31mNameError\u001b[0m                                 Traceback (most recent call last)",
      "\u001b[1;32m~\\AppData\\Local\\Temp\\ipykernel_532\\127989271.py\u001b[0m in \u001b[0;36m<module>\u001b[1;34m\u001b[0m\n\u001b[0;32m      9\u001b[0m \u001b[0msearch_number\u001b[0m \u001b[1;33m=\u001b[0m \u001b[1;36m7\u001b[0m\u001b[1;33m\u001b[0m\u001b[1;33m\u001b[0m\u001b[0m\n\u001b[0;32m     10\u001b[0m \u001b[1;33m\u001b[0m\u001b[0m\n\u001b[1;32m---> 11\u001b[1;33m \u001b[1;32mif\u001b[0m \u001b[0msearch_number\u001b[0m\u001b[1;33m(\u001b[0m\u001b[0mnumbers\u001b[0m\u001b[1;33m,\u001b[0m \u001b[0msearch_num\u001b[0m\u001b[1;33m)\u001b[0m\u001b[1;33m:\u001b[0m\u001b[1;33m\u001b[0m\u001b[1;33m\u001b[0m\u001b[0m\n\u001b[0m\u001b[0;32m     12\u001b[0m     \u001b[0mprint\u001b[0m\u001b[1;33m(\u001b[0m\u001b[1;34mf\"{search_num} was found in the list\"\u001b[0m\u001b[1;33m)\u001b[0m\u001b[1;33m\u001b[0m\u001b[1;33m\u001b[0m\u001b[0m\n\u001b[0;32m     13\u001b[0m \u001b[1;32melse\u001b[0m\u001b[1;33m:\u001b[0m\u001b[1;33m\u001b[0m\u001b[1;33m\u001b[0m\u001b[0m\n",
      "\u001b[1;31mNameError\u001b[0m: name 'search_num' is not defined"
     ]
    }
   ],
   "source": [
    "def search_number(num_list, search_num):\n",
    "    for num in num_list:\n",
    "        if num == search_num:\n",
    "            return True\n",
    "    return False\n",
    "\n",
    "# Example usage\n",
    "numbers = [1, 5, 7, 9, 11, 13]\n",
    "search_number = 7\n",
    "\n",
    "if search_number(numbers, search_num):\n",
    "    print(f\"{search_num} was found in the list\")\n",
    "else:\n",
    "    print(f\"{search_num} was not found in the list\")\n"
   ]
  },
  {
   "cell_type": "markdown",
   "id": "ed4c6e88",
   "metadata": {},
   "source": [
    "Q63.Write a program that can create a new list from a given list where each item in the new list is square of the item of the old list"
   ]
  },
  {
   "cell_type": "code",
   "execution_count": 10,
   "id": "bd230429",
   "metadata": {},
   "outputs": [
    {
     "data": {
      "text/plain": [
       "[100, 400, 900]"
      ]
     },
     "execution_count": 10,
     "metadata": {},
     "output_type": "execute_result"
    }
   ],
   "source": [
    "[i**2 for i in [10,20,30]]"
   ]
  },
  {
   "cell_type": "code",
   "execution_count": 11,
   "id": "05e62699",
   "metadata": {},
   "outputs": [
    {
     "name": "stdout",
     "output_type": "stream",
     "text": [
      "[1, 4, 9, 16, 25]\n"
     ]
    }
   ],
   "source": [
    "l1=[1,2,3,4,5]\n",
    "l2=[]\n",
    "for i in l1:\n",
    "    l2.append(i**2)\n",
    "print(l2)"
   ]
  },
  {
   "cell_type": "markdown",
   "id": "4eeb8b35",
   "metadata": {},
   "source": [
    "Q64.Write a program that can reverse words of a given string.\n",
    " \n",
    "Eg if the input is Hello how are you\n",
    " \n",
    "Output should be you are how Hello\n"
   ]
  },
  {
   "cell_type": "code",
   "execution_count": 13,
   "id": "7e88fbec",
   "metadata": {},
   "outputs": [
    {
     "name": "stdout",
     "output_type": "stream",
     "text": [
      "Enter a string: Jayesh\n",
      "hseyaJ\n"
     ]
    }
   ],
   "source": [
    "s=input(\"Enter a string: \")\n",
    "rev=''\n",
    "for i in range(len(s)-1,-1,-1):\n",
    "    rev=rev+s[i]\n",
    "print(rev)"
   ]
  },
  {
   "cell_type": "code",
   "execution_count": 14,
   "id": "55f06616",
   "metadata": {},
   "outputs": [
    {
     "name": "stdout",
     "output_type": "stream",
     "text": [
      "Enter a string: Jayesh Sahebrao Mahajan\n",
      "najahaM oarbehaS hseyaJ\n"
     ]
    }
   ],
   "source": [
    "s=input(\"Enter a string: \")\n",
    "print(s[::-1])"
   ]
  },
  {
   "cell_type": "code",
   "execution_count": 31,
   "id": "f732b293",
   "metadata": {},
   "outputs": [
    {
     "name": "stdout",
     "output_type": "stream",
     "text": [
      "Enter your string: Jayesh mahajan\n",
      "mahajan Jayesh\n"
     ]
    }
   ],
   "source": [
    "s=input(\"Enter your string: \")\n",
    "a=s.split()\n",
    "rev=[]\n",
    "for i in range (len(a)-1,-1,-1):\n",
    "    rev.append(a[i])\n",
    "y=' '.join(rev)\n",
    "print(y)\n",
    "    "
   ]
  },
  {
   "cell_type": "markdown",
   "id": "7293898f",
   "metadata": {},
   "source": [
    "Q65.Write a program that can count the number of words in a given string"
   ]
  },
  {
   "cell_type": "code",
   "execution_count": 16,
   "id": "4335524d",
   "metadata": {},
   "outputs": [
    {
     "name": "stdout",
     "output_type": "stream",
     "text": [
      "Enter a string: Jayesh Mahajan\n",
      "Number of words in this string:  14\n"
     ]
    }
   ],
   "source": [
    "s=input('Enter a string: ')\n",
    "count=0\n",
    "for i in s:\n",
    "    count=count+1\n",
    "print(\"Number of words in this string: \", count)"
   ]
  },
  {
   "cell_type": "code",
   "execution_count": 32,
   "id": "77daf0ef",
   "metadata": {},
   "outputs": [
    {
     "name": "stdout",
     "output_type": "stream",
     "text": [
      "Enter your string: Jayesh Mahajan\n",
      "Number of words in this string are:  2\n"
     ]
    }
   ],
   "source": [
    "s=input(\"Enter your string: \")\n",
    "count=0\n",
    "for i in s:\n",
    "    if i ==\" \":\n",
    "        count=count+1\n",
    "num=count+1\n",
    "print('Number of words in this string are: ',num)"
   ]
  },
  {
   "cell_type": "code",
   "execution_count": 17,
   "id": "717dfb4b",
   "metadata": {},
   "outputs": [
    {
     "data": {
      "text/plain": [
       "14"
      ]
     },
     "execution_count": 17,
     "metadata": {},
     "output_type": "execute_result"
    }
   ],
   "source": [
    "len('Jayesh Mahajan')"
   ]
  },
  {
   "cell_type": "markdown",
   "id": "003a0f5f",
   "metadata": {},
   "source": [
    "Q66.Write a program to check if a list is in ascending order or not"
   ]
  },
  {
   "cell_type": "code",
   "execution_count": 43,
   "id": "82c946c8",
   "metadata": {},
   "outputs": [
    {
     "name": "stdout",
     "output_type": "stream",
     "text": [
      "List is not sorted\n"
     ]
    }
   ],
   "source": [
    "l=[12,2,3,4,2,1,5,8,12,13,14]\n",
    "flag=0\n",
    "for i in range(0,len(l)-1):\n",
    "    if l[i]>=l[i+1]:\n",
    "        flag=1\n",
    "        break\n",
    "if flag==0:\n",
    "    print(\"List is sorted\")\n",
    "else:\n",
    "\n",
    "    print('List is not sorted')"
   ]
  },
  {
   "cell_type": "code",
   "execution_count": 47,
   "id": "355790b1",
   "metadata": {},
   "outputs": [
    {
     "name": "stdout",
     "output_type": "stream",
     "text": [
      "True\n",
      "[1, 2, 3, 4, 5]\n",
      "False\n",
      "[1, 2, 3, 4, 5]\n"
     ]
    }
   ],
   "source": [
    "def is_ascending(lst):\n",
    "    \"\"\"\n",
    "    Checks if a list is in ascending order.\n",
    "    Returns True if it is, False otherwise.\n",
    "    \"\"\"\n",
    "    return all(lst[i] <= lst[i+1] for i in range(len(lst)-1))\n",
    "\n",
    "def arrange_ascending(lst):\n",
    "    \"\"\"\n",
    "    If the list is not in ascending order, arranges the list in ascending order.\n",
    "    Returns the arranged list.\n",
    "    \"\"\"\n",
    "    if not is_ascending(lst):\n",
    "        lst.sort()\n",
    "    return lst\n",
    "\n",
    "# Example usage\n",
    "lst = [1, 2, 3, 4, 5]\n",
    "print(is_ascending(lst))  # True\n",
    "print(arrange_ascending(lst))  # [1, 2, 3, 4, 5]\n",
    "\n",
    "lst = [1, 3, 2, 4, 5]\n",
    "print(is_ascending(lst))  # False\n",
    "print(arrange_ascending(lst))  # [1, 2, 3, 4, 5]\n"
   ]
  },
  {
   "cell_type": "markdown",
   "id": "55d6c172",
   "metadata": {},
   "source": [
    "Q67.Create 2 lists from a given list where 1st list will contain all the odd numbers from the original list and the 2nd one will contain all the even numbers "
   ]
  },
  {
   "cell_type": "code",
   "execution_count": 57,
   "id": "40841d07",
   "metadata": {},
   "outputs": [
    {
     "name": "stdout",
     "output_type": "stream",
     "text": [
      "List having even numbers is:  [2, 4, 6, 8, 10, 36, 72, 14, 16, 20, 24, 20, 30]\n",
      "List having odd numbers is:  [1, 3, 5, 19, 19, 3]\n"
     ]
    }
   ],
   "source": [
    "l=[1,2,3,4,6,5,8,10,19,36,72,14,16,19,20,24,3,20,30]\n",
    "l1_even=[]\n",
    "l2_odd=[]\n",
    "for i in l:\n",
    "    if i%2 == 0:\n",
    "        l1_even.append(i)\n",
    "    else:\n",
    "        l2_odd.append(i)\n",
    "print(\"List having even numbers is: \",l1_even)\n",
    "print(\"List having odd numbers is: \",l2_odd)"
   ]
  },
  {
   "cell_type": "markdown",
   "id": "934faad1",
   "metadata": {},
   "source": [
    "Q68.Write a program to merge 2 list without using the + operator"
   ]
  },
  {
   "cell_type": "code",
   "execution_count": 62,
   "id": "f17515c9",
   "metadata": {},
   "outputs": [
    {
     "name": "stdout",
     "output_type": "stream",
     "text": [
      "[1, 3, 5, 7, 9, 2, 4, 6, 8, 10, 12]\n"
     ]
    }
   ],
   "source": [
    "l1=[1,3,5,7,9]\n",
    "l2=[2,4,6,8,10,12]\n",
    "l1.extend(l2)\n",
    "print(l1)"
   ]
  },
  {
   "cell_type": "code",
   "execution_count": 63,
   "id": "05c536bf",
   "metadata": {},
   "outputs": [
    {
     "name": "stdout",
     "output_type": "stream",
     "text": [
      "[1, 3, 5, 7, 9, 2, 4, 6, 8, 10, 12]\n"
     ]
    }
   ],
   "source": [
    "l1=[1,3,5,7,9]\n",
    "l2=[2,4,6,8,10,12]\n",
    "l=[]\n",
    "\n",
    "for i in l1:\n",
    "    l.append(i)\n",
    "for j in l2:\n",
    "    l.append(j)\n",
    "print(l)"
   ]
  },
  {
   "cell_type": "markdown",
   "id": "8b646741",
   "metadata": {},
   "source": [
    "Q69.Write a program to replace an item with a different item if found in the list "
   ]
  },
  {
   "cell_type": "code",
   "execution_count": 74,
   "id": "bfc007ef",
   "metadata": {},
   "outputs": [
    {
     "name": "stdout",
     "output_type": "stream",
     "text": [
      "enter an element you wants to find in a list: 10\n",
      "Enter an element you wants to replace: 1000\n",
      "[1, 2, 3, 4, 5, 6, 7, 8, 9, 1000, 'Jayesh']\n"
     ]
    }
   ],
   "source": [
    "l=[1,2,3,4,5,6,7,8,9,10,\"Jayesh\"]\n",
    "find=int(input(\"enter an element you wants to find in a list: \"))\n",
    "replace=int(input(\"Enter an element you wants to replace: \"))\n",
    "for i in range(0, len(l)):\n",
    "    if l[i]==find:\n",
    "        l[i]=replace\n",
    "        print(l)\n",
    "        break\n",
    "else:\n",
    "    print(\"Not Found\")\n",
    "    "
   ]
  },
  {
   "cell_type": "code",
   "execution_count": 75,
   "id": "95b579fe",
   "metadata": {},
   "outputs": [],
   "source": [
    "def replace_item(list_, old_item, new_item):\n",
    "    for i in range(len(list_)):\n",
    "        if list_[i] == old_item:\n",
    "            list_[i] = new_item\n",
    "    return list_\n"
   ]
  },
  {
   "cell_type": "code",
   "execution_count": 76,
   "id": "5e3fa7e5",
   "metadata": {},
   "outputs": [
    {
     "data": {
      "text/plain": [
       "[100, 2, 3, 4, 5, 6, 7, 8, 10, 11, 12]"
      ]
     },
     "execution_count": 76,
     "metadata": {},
     "output_type": "execute_result"
    }
   ],
   "source": [
    "l=[1,2,3,4,5,6,7,8,10,11,12]\n",
    "replace_item(l,1,100)"
   ]
  },
  {
   "cell_type": "markdown",
   "id": "f9e397ff",
   "metadata": {},
   "source": [
    "Q70.Write a program that can convert a 2D list to 1D listWrite a program that can print "
   ]
  },
  {
   "cell_type": "code",
   "execution_count": 79,
   "id": "442a19b2",
   "metadata": {},
   "outputs": [
    {
     "name": "stdout",
     "output_type": "stream",
     "text": [
      "[1, 2, 3, 4, 10, 20, 30]\n"
     ]
    }
   ],
   "source": [
    "l=[1,2,3,4,[10,20,30]]\n",
    "l1=[]\n",
    "for i in l:\n",
    "    if type(i)==list:\n",
    "        l1.extend(i)\n",
    "    else:\n",
    "        l1.append(i)\n",
    "print(l1)"
   ]
  },
  {
   "cell_type": "markdown",
   "id": "e2dda855",
   "metadata": {},
   "source": [
    "Q71.Write a program that can perform union and intersection on 2 given list"
   ]
  },
  {
   "cell_type": "code",
   "execution_count": 82,
   "id": "66e911e7",
   "metadata": {},
   "outputs": [
    {
     "name": "stdout",
     "output_type": "stream",
     "text": [
      "Union of lists l1 and l2 is:  [1, 2, 3, 4, 5, 6, 7, 8, 9, 10, 100]\n",
      "Intersection of list l1 and l2 is :  [2, 4, 6, 8]\n"
     ]
    }
   ],
   "source": [
    "l1=[1,2,3,4,5,6,7,8,9,10]\n",
    "l2=[2,4,6,8,100]\n",
    "\n",
    "union=[]\n",
    "intersection=[]\n",
    "\n",
    "for i in l1:\n",
    "    if i not in union:\n",
    "        union.append(i)\n",
    "for j in l2:\n",
    "    if j not in union:\n",
    "        union.append(j)\n",
    "        \n",
    "for i in l1:\n",
    "    if i in l2:\n",
    "        intersection.append(i)\n",
    "\n",
    "print(\"Union of lists l1 and l2 is: \", union)\n",
    "print(\"Intersection of list l1 and l2 is : \",intersection)\n",
    "        "
   ]
  },
  {
   "cell_type": "markdown",
   "id": "0ea7c466",
   "metadata": {},
   "source": [
    "Q72.the max item of each row of a matrix. "
   ]
  },
  {
   "cell_type": "code",
   "execution_count": 89,
   "id": "f65965fe",
   "metadata": {},
   "outputs": [
    {
     "name": "stdout",
     "output_type": "stream",
     "text": [
      "54\n",
      "100\n",
      "90\n"
     ]
    }
   ],
   "source": [
    "matrix=[\n",
    "    [10,20,54],\n",
    "    [22,100,20],\n",
    "    [1,6,90]\n",
    "]\n",
    "\n",
    "for i in matrix:\n",
    "    max=i[0]\n",
    "    for j in i:\n",
    "        if j > max:\n",
    "            max = j\n",
    "    print(max)"
   ]
  },
  {
   "cell_type": "markdown",
   "id": "15aeceda",
   "metadata": {},
   "source": [
    "Q73.Write a program that can convert an integer to string"
   ]
  },
  {
   "cell_type": "code",
   "execution_count": 93,
   "id": "a60582a2",
   "metadata": {},
   "outputs": [
    {
     "name": "stdout",
     "output_type": "stream",
     "text": [
      "Enter an integer: 1\n",
      "1\n"
     ]
    }
   ],
   "source": [
    "a=int(input(\"Enter an integer: \"))\n",
    "b=str(a)\n",
    "print(b)"
   ]
  },
  {
   "cell_type": "markdown",
   "id": "8392c7c4",
   "metadata": {},
   "source": [
    "Q74.Write a program to print the shape of a matrix. "
   ]
  },
  {
   "cell_type": "code",
   "execution_count": 1,
   "id": "31599740",
   "metadata": {},
   "outputs": [
    {
     "name": "stdout",
     "output_type": "stream",
     "text": [
      "The Shape of matrix is:  3 * 3\n"
     ]
    }
   ],
   "source": [
    "matrix=[\n",
    "    [1,2,3],\n",
    "    [4,56,7],\n",
    "    [10,7,9]\n",
    "]\n",
    "\n",
    "row=0\n",
    "for i in matrix:\n",
    "    row=row+1\n",
    "print(\"The Shape of matrix is: \", row,\"*\",len(i))\n",
    "    "
   ]
  },
  {
   "cell_type": "markdown",
   "id": "57ff3ae9",
   "metadata": {},
   "source": [
    "Q75.Write a program that can check if you can perform matrix multiplication on 2 matrices  "
   ]
  },
  {
   "cell_type": "code",
   "execution_count": 10,
   "id": "c025ce3f",
   "metadata": {},
   "outputs": [
    {
     "name": "stdout",
     "output_type": "stream",
     "text": [
      "Matrix size is:  1 * 3\n",
      "Matrix_1:  [10, 4, 8]\n",
      "Matrix size is:  2 * 3\n",
      "Matrix_1:  [5, 6, 8]\n",
      "Matrix size is:  3 * 3\n",
      "Matrix_1:  [4, 3, 7]\n",
      "Row_1:  3\n",
      "column_1:  3\n",
      "Matrix_2:  [1, 4]\n",
      "Matrix_2:  [5, 9]\n",
      "Matrix_2:  [5, 8]\n",
      "Row_2:  3\n",
      "column_2:  2\n",
      "Multiplication is possible\n"
     ]
    }
   ],
   "source": [
    "matrix_1=[\n",
    "    [10,4,8],\n",
    "    [5,6,8],\n",
    "    [4,3,7]\n",
    "]\n",
    "\n",
    "row1=0\n",
    "for i in matrix_1:\n",
    "    row1=row1+1\n",
    "    column1=len(i)\n",
    "    print(\"Matrix size is: \",row1,\"*\",column1)\n",
    "    print(\"Matrix_1: \", i)\n",
    "print(\"Row_1: \", row1)\n",
    "print(\"column_1: \", column1)\n",
    "\n",
    "\n",
    "matrix_2=[\n",
    "    [1,4],\n",
    "    [5,9],\n",
    "    [5,8]\n",
    "]\n",
    "\n",
    "\n",
    "row2=0\n",
    "for i in matrix_2:\n",
    "    row2=row2+1\n",
    "    column2=len(i)\n",
    "    print('Matrix_2: ',i)\n",
    "print(\"Row_2: \",row2)\n",
    "print(\"column_2: \",column2)\n",
    "\n",
    "if column_1==row2:\n",
    "    print('Multiplication is possible')\n",
    "else:\n",
    "    print(\"Multiplication is not possible\")"
   ]
  },
  {
   "cell_type": "markdown",
   "id": "f3d4296b",
   "metadata": {},
   "source": [
    "Q76.Write a program to perform matrix multiplication on 2 matrices"
   ]
  },
  {
   "cell_type": "code",
   "execution_count": 11,
   "id": "eaaaf7eb",
   "metadata": {},
   "outputs": [
    {
     "name": "stdout",
     "output_type": "stream",
     "text": [
      "[[19 22]\n",
      " [43 50]]\n"
     ]
    }
   ],
   "source": [
    "import numpy as np\n",
    "\n",
    "# Define the matrices\n",
    "matrix1 = np.array([[1, 2], [3, 4]])\n",
    "matrix2 = np.array([[5, 6], [7, 8]])\n",
    "\n",
    "# Perform matrix multiplication\n",
    "result = np.dot(matrix1, matrix2)\n",
    "\n",
    "# Print the result\n",
    "print(result)\n"
   ]
  },
  {
   "cell_type": "markdown",
   "id": "c364c8cc",
   "metadata": {},
   "source": [
    "Q77.Write a program that can sort a given unsorted list. Dont use any built in function for sorting."
   ]
  },
  {
   "cell_type": "code",
   "execution_count": 14,
   "id": "24d6006c",
   "metadata": {},
   "outputs": [
    {
     "name": "stdout",
     "output_type": "stream",
     "text": [
      "[1, 2, 3, 4, 5, 8, 9, 10, 17, 60, 170]\n"
     ]
    }
   ],
   "source": [
    "l=[10,1,9,8,2,3,4,5,60,17,170]\n",
    "for i in range(len(l)):\n",
    "    for k in range (0,len(l)-1):\n",
    "        if l[k]>l[k+1]:\n",
    "            temp=l[k]\n",
    "            l[k]=l[k+1]\n",
    "            l[k+1]=temp\n",
    "print(l)"
   ]
  },
  {
   "cell_type": "markdown",
   "id": "ce2d35dd",
   "metadata": {},
   "source": [
    "Q78.Write a program that can find the most used word in a bollywood song"
   ]
  },
  {
   "cell_type": "code",
   "execution_count": 15,
   "id": "0a488eb4",
   "metadata": {},
   "outputs": [
    {
     "name": "stdout",
     "output_type": "stream",
     "text": [
      "chaiyya\n"
     ]
    }
   ],
   "source": [
    "import re\n",
    "\n",
    "def find_most_used_word_in_song(song_lyrics):\n",
    "    # Remove punctuations and convert all characters to lowercase\n",
    "    lyrics_without_punctuation = re.sub(r'[^\\w\\s]', '', song_lyrics.lower())\n",
    "\n",
    "    # Split the lyrics into individual words\n",
    "    words = lyrics_without_punctuation.split()\n",
    "\n",
    "    # Count the frequency of each word\n",
    "    word_frequency = {}\n",
    "    for word in words:\n",
    "        if word in word_frequency:\n",
    "            word_frequency[word] += 1\n",
    "        else:\n",
    "            word_frequency[word] = 1\n",
    "\n",
    "    # Find the word with the highest frequency\n",
    "    most_common_word = max(word_frequency, key=word_frequency.get)\n",
    "\n",
    "    return most_common_word\n",
    "\n",
    "# Example usage\n",
    "song_lyrics = \"\"\"\n",
    "Chaiyya chaiyya chaiyya chaiyya\n",
    "Chaiyya chaiyya chaiyya chaiyya\n",
    "\"\"\"\n",
    "\n",
    "most_common_word = find_most_used_word_in_song(song_lyrics)\n",
    "print(most_common_word)  \n"
   ]
  },
  {
   "cell_type": "markdown",
   "id": "a2a9f323",
   "metadata": {},
   "source": [
    "Q79. find the factorial of a number without using loop "
   ]
  },
  {
   "cell_type": "code",
   "execution_count": 16,
   "id": "35a7b964",
   "metadata": {},
   "outputs": [],
   "source": [
    "def fact(number):\n",
    "    if number==1:\n",
    "        return 1\n",
    "    else:\n",
    "        return number*fact(number-1)"
   ]
  },
  {
   "cell_type": "code",
   "execution_count": 17,
   "id": "80f4004f",
   "metadata": {},
   "outputs": [
    {
     "data": {
      "text/plain": [
       "120"
      ]
     },
     "execution_count": 17,
     "metadata": {},
     "output_type": "execute_result"
    }
   ],
   "source": [
    "fact(5)"
   ]
  },
  {
   "cell_type": "markdown",
   "id": "8732a3e2",
   "metadata": {},
   "source": [
    "Q80.Assume a list with numbers from 1 to 10 and then convert it into a dictionary where the key would be the numbers of the list and the values would be the square of those numbers."
   ]
  },
  {
   "cell_type": "code",
   "execution_count": 18,
   "id": "5bee20f4",
   "metadata": {},
   "outputs": [
    {
     "name": "stdout",
     "output_type": "stream",
     "text": [
      "{1: 1, 2: 4, 3: 9, 4: 16, 5: 25, 6: 36, 7: 49, 8: 64, 9: 81, 10: 100}\n"
     ]
    }
   ],
   "source": [
    "l=[1,2,3,4,5,6,7,8,9,10]\n",
    "D={}\n",
    "for i in l:\n",
    "    D[i]=i**2\n",
    "print(D)"
   ]
  },
  {
   "cell_type": "markdown",
   "id": "157dffd5",
   "metadata": {},
   "source": [
    "Q81.Write a program to merge two given dictionary"
   ]
  },
  {
   "cell_type": "code",
   "execution_count": 21,
   "id": "131bc0de",
   "metadata": {},
   "outputs": [],
   "source": [
    "d1={'key1':10,'key2':20,'key3':\"Jayesh\"}\n",
    "d2={'key4':\"Mahajan\",'key5':30,'key6':40}"
   ]
  },
  {
   "cell_type": "code",
   "execution_count": 22,
   "id": "5cec9b18",
   "metadata": {},
   "outputs": [
    {
     "name": "stdout",
     "output_type": "stream",
     "text": [
      "{'key1': 10, 'key2': 20, 'key3': 'Jayesh', 'key4': 'Mahajan', 'key5': 30, 'key6': 40}\n"
     ]
    }
   ],
   "source": [
    "d1.update(d2)\n",
    "print(d1)"
   ]
  },
  {
   "cell_type": "code",
   "execution_count": 23,
   "id": "e64e3709",
   "metadata": {},
   "outputs": [
    {
     "name": "stdout",
     "output_type": "stream",
     "text": [
      "{'key1': 10, 'key2': 20, 'key3': 'Jayesh', 'key4': 'Mahajan', 'key5': 30, 'key6': 40}\n"
     ]
    }
   ],
   "source": [
    "d1={'key1':10,'key2':20,'key3':\"Jayesh\"}\n",
    "d2={'key4':\"Mahajan\",'key5':30,'key6':40}\n",
    "\n",
    "D={}\n",
    "for i in d1:\n",
    "    D[i]=d1[i]\n",
    "for k in d2:\n",
    "    D[k]=d2[k]\n",
    "print(D)"
   ]
  },
  {
   "cell_type": "markdown",
   "id": "9ce4d099",
   "metadata": {},
   "source": [
    "Q81.Write a program to swap the key value pair for max and min values\n",
    "\n",
    "Eg if the dict is like this {‘a’:1,’b’:2,’c’:3}\n",
    "\n",
    "Output should be {a:3,b:2,c:1}\n"
   ]
  },
  {
   "cell_type": "code",
   "execution_count": 27,
   "id": "1c364524",
   "metadata": {},
   "outputs": [
    {
     "name": "stdout",
     "output_type": "stream",
     "text": [
      "400\n",
      "100\n",
      "{'a': 400, 'b': 200, 'c': 300, 'd': 100}\n"
     ]
    }
   ],
   "source": [
    "d={\"a\":100,'b':200,'c':300,'d':400}\n",
    "max_val=max(d.values())\n",
    "min_val=min(d.values())\n",
    "\n",
    "for i in d:\n",
    "    if d[i]==max_val:\n",
    "        print (d[i])\n",
    "        break\n",
    "        \n",
    "for j in d:\n",
    "    if d[j]==min_val:\n",
    "        print(d[j])\n",
    "        break\n",
    "        \n",
    "d[i]=min_val\n",
    "d[j]=max_val\n",
    "print(d)"
   ]
  },
  {
   "cell_type": "code",
   "execution_count": 29,
   "id": "07ca88f3",
   "metadata": {},
   "outputs": [
    {
     "data": {
      "text/plain": [
       "{'a': 3, 'b': 2, 'c': 1}"
      ]
     },
     "execution_count": 29,
     "metadata": {},
     "output_type": "execute_result"
    }
   ],
   "source": [
    "def swap_max_min(dict):\n",
    "    # Find the maximum and minimum values in the dictionary\n",
    "    max_val = max(dict.values())\n",
    "    min_val = min(dict.values())\n",
    "\n",
    "    # Find the keys corresponding to the maximum and minimum values\n",
    "    max_key = [k for k, v in dict.items() if v == max_val][0]\n",
    "    min_key = [k for k, v in dict.items() if v == min_val][0]\n",
    "\n",
    "    # Swap the key-value pairs for the maximum and minimum values\n",
    "    dict[max_key], dict[min_key] = dict[min_key], dict[max_key]\n",
    "\n",
    "    return dict\n",
    "\n",
    "d = {'a': 1, 'b': 2, 'c': 3}\n",
    "swap_max_min(d)\n",
    "\n"
   ]
  },
  {
   "cell_type": "markdown",
   "id": "97d343b6",
   "metadata": {},
   "source": [
    "Q82.Write a program to find histogram of a given set of numbers. Take bin size from user. Print the result in the form of a dictionary."
   ]
  },
  {
   "cell_type": "code",
   "execution_count": 31,
   "id": "431f6d7d",
   "metadata": {},
   "outputs": [
    {
     "name": "stdout",
     "output_type": "stream",
     "text": [
      "Enter bin size: 2\n",
      "{1: 2, 3: 2, 5: 2, 7: 2, 9: 2, 11: 2, 13: 2, 15: 1}\n"
     ]
    }
   ],
   "source": [
    "def histogram(numbers, bin_size):\n",
    "    \"\"\"\n",
    "    Computes the histogram of a given list of numbers.\n",
    "\n",
    "    Parameters:\n",
    "    numbers (list): List of numbers\n",
    "    bin_size (int): Bin size for the histogram\n",
    "\n",
    "    Returns:\n",
    "    hist (dict): Dictionary containing the histogram\n",
    "    \"\"\"\n",
    "\n",
    "    # Determine the range of the histogram\n",
    "    min_num = min(numbers)\n",
    "    max_num = max(numbers)\n",
    "    range_size = max_num - min_num\n",
    "    num_bins = range_size // bin_size + 1\n",
    "\n",
    "    # Initialize the histogram dictionary\n",
    "    hist = {}\n",
    "    for i in range(num_bins):\n",
    "        hist[min_num + i * bin_size] = 0\n",
    "\n",
    "    # Populate the histogram dictionary\n",
    "    for num in numbers:\n",
    "        bin_index = (num - min_num) // bin_size\n",
    "        bin_value = hist.get(min_num + bin_index * bin_size)\n",
    "        hist[min_num + bin_index * bin_size] = bin_value + 1\n",
    "\n",
    "    return hist\n",
    "\n",
    "# Example usage\n",
    "numbers = [1, 2, 3, 4, 5, 6, 7, 8, 9, 10, 11, 12, 13, 14, 15]\n",
    "bin_size = int(input(\"Enter bin size: \"))\n",
    "hist = histogram(numbers, bin_size)\n",
    "print(hist)\n"
   ]
  },
  {
   "cell_type": "markdown",
   "id": "30554045",
   "metadata": {},
   "source": [
    "Q83.Write a function that accepts a string and returns the number of upper case chars and lower case chars as a dictionary"
   ]
  },
  {
   "cell_type": "code",
   "execution_count": 33,
   "id": "77871330",
   "metadata": {},
   "outputs": [
    {
     "name": "stdout",
     "output_type": "stream",
     "text": [
      "enter a string: Jayesh Sahebrao Mahajan\n",
      "{'upper case': 3, 'Lower Case': 18}\n"
     ]
    }
   ],
   "source": [
    "a=input('enter a string: ')\n",
    "D={}\n",
    "upper_count=0\n",
    "lower_count=0\n",
    "\n",
    "for i in a:\n",
    "    if (i.isupper()):\n",
    "        upper_count=upper_count+1\n",
    "    elif (i.islower()):\n",
    "        lower_count=lower_count+1\n",
    "D={\"upper case\":upper_count, \"Lower Case\":lower_count}\n",
    "print(D)"
   ]
  },
  {
   "cell_type": "markdown",
   "id": "e3aaf7b0",
   "metadata": {},
   "source": [
    "Q84.Write a function that accepts a list of strings and performs Bag of words and convert it to numerical vectors.\n",
    "\n"
   ]
  },
  {
   "cell_type": "code",
   "execution_count": 34,
   "id": "1ae165aa",
   "metadata": {},
   "outputs": [
    {
     "data": {
      "text/plain": [
       "[[0, 0, 0, 0, 0, 0, 0, 1, 0, 1, 0, 1, 0, 0, 0, 0, 1, 0],\n",
       " [0, 0, 0, 1, 1, 0, 0, 0, 1, 0, 1, 0, 0, 0, 1, 1, 1, 0],\n",
       " [1, 0, 0, 0, 0, 1, 0, 0, 0, 0, 0, 0, 1, 0, 0, 0, 1, 0],\n",
       " [0, 1, 0, 0, 0, 0, 1, 0, 0, 0, 0, 0, 0, 1, 0, 0, 0, 0],\n",
       " [0, 0, 1, 0, 0, 0, 0, 0, 0, 0, 0, 1, 0, 0, 0, 0, 1, 1]]"
      ]
     },
     "execution_count": 34,
     "metadata": {},
     "output_type": "execute_result"
    }
   ],
   "source": [
    "l=[\n",
    "    'Hello how are you'\n",
    "    'Where do you work'\n",
    "]\n",
    "\n",
    "#l1=['Hello','How','Are','You','Where','do','work']\n",
    "#l2=[[1111000],[0001111]]\n",
    "\n",
    "def bow(sentences):\n",
    "    vocab=[]\n",
    "    \n",
    "    for i in sentences:\n",
    "        vocab.extend(i.split())\n",
    "    vocab=list(set(vocab))\n",
    "    \n",
    "    vector2D=[]\n",
    "    for sentence in sentences:\n",
    "        vector=[]\n",
    "        for word in vocab:\n",
    "            vector.append(sentence.count(word))\n",
    "        vector2D.append(vector)\n",
    "    return vector2D\n",
    "\n",
    "\n",
    "sentences=[\n",
    "    'Hello how are you',\n",
    "    'I was waiting for your call',\n",
    "    'Where do you work',\n",
    "    'lets meet someday',\n",
    "    'Hope you are fine'\n",
    "]\n",
    "\n",
    "bow(sentences)"
   ]
  },
  {
   "cell_type": "markdown",
   "id": "dfa40fef",
   "metadata": {},
   "source": [
    "Q85.Write a dummy program that can perform login and registration using a menu driven program"
   ]
  },
  {
   "cell_type": "code",
   "execution_count": 42,
   "id": "66dd2cbb",
   "metadata": {},
   "outputs": [
    {
     "name": "stdout",
     "output_type": "stream",
     "text": [
      "\n",
      "    1.Enter 1 to register\n",
      "    2.Enter 2 for Login\n",
      "    3.Enter 3 to exit\n",
      "    1\n",
      "Enter your name: Jayesh\n",
      "Enter your email: Jayesh.mahajn137@atgeirsolutions.com\n",
      "Enter your password: Jayesh\n",
      "Registration Sucessful\n",
      "\n",
      "\n",
      "    1.Enter 1 to register\n",
      "    2.Enter 2 for Login\n",
      "    3.Enter 3 to exit\n",
      "    2\n",
      "Enter your email: jayesh.mahajan@atgeirsolutions.com\n",
      "Enter your password: Jayesh\n",
      "Email not found\n"
     ]
    }
   ],
   "source": [
    "database={}\n",
    "def user_menu():\n",
    "    user_input=input('''\n",
    "    1.Enter 1 to register\n",
    "    2.Enter 2 for Login\n",
    "    3.Enter 3 to exit\n",
    "    ''')\n",
    "    \n",
    "    if user_input=='1':\n",
    "        register()\n",
    "    elif user_input=='2':\n",
    "        login()\n",
    "    else:\n",
    "        print('Bye')\n",
    "        \n",
    "def register():\n",
    "    name=input(\"Enter your name: \")\n",
    "    email=input(\"Enter your email: \")\n",
    "    password=input(\"Enter your password: \")\n",
    "    \n",
    "    database[email]=[name,password]\n",
    "    print('Registration Sucessful')\n",
    "    print()\n",
    "    user_menu()\n",
    "    \n",
    "def login():\n",
    "    email=input('Enter your email: ')\n",
    "    password=input('Enter your password: ')\n",
    "    flag=0\n",
    "    \n",
    "    for i in database:\n",
    "        if email==i:\n",
    "            flag=1\n",
    "            if password==database[i][1]:\n",
    "                print('Welcome')\n",
    "            else:\n",
    "                print('Incorrect credentials')\n",
    "    if flag==0:\n",
    "        print('Email not found')\n",
    "user_menu()"
   ]
  },
  {
   "cell_type": "markdown",
   "id": "39743233",
   "metadata": {},
   "source": [
    "Q86.Write a program that accepts neighbors(set of 2D co-ordinates) and a point(single 2D co-ordinate) and tells nearest neighbor(in terms of euclidean distance)"
   ]
  },
  {
   "cell_type": "code",
   "execution_count": 47,
   "id": "8299414d",
   "metadata": {},
   "outputs": [
    {
     "ename": "TypeError",
     "evalue": "'<' not supported between instances of 'complex' and 'complex'",
     "output_type": "error",
     "traceback": [
      "\u001b[1;31m---------------------------------------------------------------------------\u001b[0m",
      "\u001b[1;31mTypeError\u001b[0m                                 Traceback (most recent call last)",
      "\u001b[1;32m~\\AppData\\Local\\Temp\\ipykernel_3500\\4083472210.py\u001b[0m in \u001b[0;36m<module>\u001b[1;34m\u001b[0m\n\u001b[0;32m     18\u001b[0m \u001b[0myou\u001b[0m\u001b[1;33m=\u001b[0m\u001b[1;33m[\u001b[0m\u001b[1;33m-\u001b[0m\u001b[1;36m9\u001b[0m\u001b[1;33m,\u001b[0m\u001b[1;36m7\u001b[0m\u001b[1;33m]\u001b[0m\u001b[1;33m\u001b[0m\u001b[1;33m\u001b[0m\u001b[0m\n\u001b[0;32m     19\u001b[0m \u001b[1;33m\u001b[0m\u001b[0m\n\u001b[1;32m---> 20\u001b[1;33m \u001b[0mnearest_neighbor\u001b[0m\u001b[1;33m(\u001b[0m\u001b[0mneighbors\u001b[0m\u001b[1;33m,\u001b[0m\u001b[0myou\u001b[0m\u001b[1;33m)\u001b[0m\u001b[1;33m\u001b[0m\u001b[1;33m\u001b[0m\u001b[0m\n\u001b[0m",
      "\u001b[1;32m~\\AppData\\Local\\Temp\\ipykernel_3500\\4083472210.py\u001b[0m in \u001b[0;36mnearest_neighbor\u001b[1;34m(neighbors, you)\u001b[0m\n\u001b[0;32m      6\u001b[0m     \u001b[1;32mfor\u001b[0m \u001b[0mi\u001b[0m \u001b[1;32min\u001b[0m \u001b[0mneighbors\u001b[0m\u001b[1;33m:\u001b[0m\u001b[1;33m\u001b[0m\u001b[1;33m\u001b[0m\u001b[0m\n\u001b[0;32m      7\u001b[0m         \u001b[0mdistances\u001b[0m\u001b[1;33m.\u001b[0m\u001b[0mappend\u001b[0m\u001b[1;33m(\u001b[0m\u001b[0mcalculate_distance\u001b[0m\u001b[1;33m(\u001b[0m\u001b[0myou\u001b[0m\u001b[1;33m,\u001b[0m\u001b[0mi\u001b[0m\u001b[1;33m)\u001b[0m\u001b[1;33m)\u001b[0m\u001b[1;33m\u001b[0m\u001b[1;33m\u001b[0m\u001b[0m\n\u001b[1;32m----> 8\u001b[1;33m     \u001b[0mneighbor_index\u001b[0m\u001b[1;33m,\u001b[0m\u001b[0mdistance\u001b[0m\u001b[1;33m=\u001b[0m\u001b[0msorted\u001b[0m\u001b[1;33m(\u001b[0m\u001b[0mlist\u001b[0m\u001b[1;33m(\u001b[0m\u001b[0menumerate\u001b[0m\u001b[1;33m(\u001b[0m\u001b[0mdistances\u001b[0m\u001b[1;33m)\u001b[0m\u001b[1;33m)\u001b[0m\u001b[1;33m,\u001b[0m\u001b[0mkey\u001b[0m\u001b[1;33m=\u001b[0m\u001b[1;32mlambda\u001b[0m \u001b[0mx\u001b[0m\u001b[1;33m:\u001b[0m\u001b[0mx\u001b[0m\u001b[1;33m[\u001b[0m\u001b[1;36m1\u001b[0m\u001b[1;33m]\u001b[0m\u001b[1;33m)\u001b[0m\u001b[1;33m[\u001b[0m\u001b[1;36m0\u001b[0m\u001b[1;33m]\u001b[0m\u001b[1;33m\u001b[0m\u001b[1;33m\u001b[0m\u001b[0m\n\u001b[0m\u001b[0;32m      9\u001b[0m     \u001b[0mprint\u001b[0m\u001b[1;33m(\u001b[0m\u001b[1;34m\"nearest neighbor is\"\u001b[0m\u001b[1;33m,\u001b[0m \u001b[0mneighbor_index\u001b[0m\u001b[1;33m,\u001b[0m\u001b[1;34m'at the distance of '\u001b[0m\u001b[1;33m,\u001b[0m\u001b[0mdistance\u001b[0m\u001b[1;33m)\u001b[0m\u001b[1;33m\u001b[0m\u001b[1;33m\u001b[0m\u001b[0m\n\u001b[0;32m     10\u001b[0m \u001b[1;33m\u001b[0m\u001b[0m\n",
      "\u001b[1;31mTypeError\u001b[0m: '<' not supported between instances of 'complex' and 'complex'"
     ]
    }
   ],
   "source": [
    "def nearest_neighbor(neighbors,you):\n",
    "    def calculate_distance(c1,c2):\n",
    "        return(c1[0]-c2[0]**2+(c1[1]-c2[1]**2))**0.5\n",
    "    distances=[]\n",
    "    \n",
    "    for i in neighbors:\n",
    "        distances.append(calculate_distance(you,i))\n",
    "    neighbor_index,distance=sorted(list(enumerate(distances)),key=lambda x:x[1])[0]\n",
    "    print(\"nearest neighbor is\", neighbor_index,'at the distance of ',distance)\n",
    "    \n",
    "neighbors=[\n",
    "    [89,34],\n",
    "    [12,35],\n",
    "    [10,89],\n",
    "    [90,90]\n",
    "]\n",
    "\n",
    "you=[-9,7]\n",
    "\n",
    "nearest_neighbor(neighbors,you)"
   ]
  },
  {
   "cell_type": "code",
   "execution_count": 45,
   "id": "9b2ecb10",
   "metadata": {},
   "outputs": [
    {
     "name": "stdout",
     "output_type": "stream",
     "text": [
      "The nearest neighbor to (4, 5) is (3, 4)\n"
     ]
    }
   ],
   "source": [
    "import math\n",
    "\n",
    "def distance(point1, point2):\n",
    "    \"\"\"Calculate the Euclidean distance between two points.\"\"\"\n",
    "    x1, y1 = point1\n",
    "    x2, y2 = point2\n",
    "    return math.sqrt((x2 - x1) ** 2 + (y2 - y1) ** 2)\n",
    "\n",
    "def nearest_neighbor(neighbors, point):\n",
    "    \"\"\"Find the nearest neighbor to the given point.\"\"\"\n",
    "    nearest = None\n",
    "    min_distance = float('inf')\n",
    "    for neighbor in neighbors:\n",
    "        d = distance(neighbor, point)\n",
    "        if d < min_distance:\n",
    "            min_distance = d\n",
    "            nearest = neighbor\n",
    "    return nearest\n",
    "\n",
    "# Example usage\n",
    "neighbors = [(1, 2), (3, 4), (5, 6), (7, 8)]\n",
    "point = (4, 5)\n",
    "nearest = nearest_neighbor(neighbors, point)\n",
    "print(f\"The nearest neighbor to {point} is {nearest}\")\n"
   ]
  },
  {
   "cell_type": "code",
   "execution_count": null,
   "id": "f72c48c0",
   "metadata": {},
   "outputs": [],
   "source": []
  }
 ],
 "metadata": {
  "kernelspec": {
   "display_name": "Python 3 (ipykernel)",
   "language": "python",
   "name": "python3"
  },
  "language_info": {
   "codemirror_mode": {
    "name": "ipython",
    "version": 3
   },
   "file_extension": ".py",
   "mimetype": "text/x-python",
   "name": "python",
   "nbconvert_exporter": "python",
   "pygments_lexer": "ipython3",
   "version": "3.9.13"
  }
 },
 "nbformat": 4,
 "nbformat_minor": 5
}
