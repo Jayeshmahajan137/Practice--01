{
 "cells": [
  {
   "cell_type": "markdown",
   "id": "c9cf0507",
   "metadata": {},
   "source": [
    "# Q1. To define a roots() to calculate roots of a quadratic  equation, ax2 + bx +c which takes a ,b and c as arguments.\n"
   ]
  },
  {
   "cell_type": "code",
   "execution_count": 1,
   "id": "8a998b26",
   "metadata": {},
   "outputs": [],
   "source": [
    "def roots(a, b, c):\n",
    "    # Calculate the discriminant\n",
    "    discriminant = (b**2) - (4*a*c)\n",
    "    \n",
    "    # Check if the roots are real or complex\n",
    "    if discriminant >= 0:\n",
    "        # Calculate the two roots\n",
    "        root1 = (-b + (discriminant ** 0.5)) / (2*a)\n",
    "        root2 = (-b - (discriminant ** 0.5)) / (2*a)\n",
    "        return (root1, root2)\n",
    "    else:\n",
    "        # Calculate the real and imaginary parts of the complex roots\n",
    "        real_part = -b / (2*a)\n",
    "        imaginary_part = (-discriminant) ** 0.5 / (2*a)\n",
    "        return (real_part + imaginary_part * 1j, real_part - imaginary_part * 1j)\n"
   ]
  },
  {
   "cell_type": "code",
   "execution_count": 3,
   "id": "a9b28428",
   "metadata": {},
   "outputs": [
    {
     "data": {
      "text/plain": [
       "(-2.0, -6.0)"
      ]
     },
     "execution_count": 3,
     "metadata": {},
     "output_type": "execute_result"
    }
   ],
   "source": [
    "roots(1,8,12)"
   ]
  },
  {
   "cell_type": "markdown",
   "id": "110f0c17",
   "metadata": {},
   "source": [
    "# Q2.Write a Python function to perform sum of all the elements of a list \n",
    "\n",
    "Sample List : [8, 2, 3, 0, 7]\n"
   ]
  },
  {
   "cell_type": "code",
   "execution_count": 13,
   "id": "6336973c",
   "metadata": {},
   "outputs": [],
   "source": [
    "l= [8, 2, 3, 0, 7]\n",
    "def list_sum(l):\n",
    "    # Initialize a variable to hold the sum\n",
    "    total = 0\n",
    "    \n",
    "    # Iterate over the elements of the list and add them up\n",
    "    for i in l:\n",
    "        total += i\n",
    "    \n",
    "    # Return the final sum\n",
    "    return total\n"
   ]
  },
  {
   "cell_type": "code",
   "execution_count": 14,
   "id": "e06a59c3",
   "metadata": {},
   "outputs": [
    {
     "data": {
      "text/plain": [
       "20"
      ]
     },
     "execution_count": 14,
     "metadata": {},
     "output_type": "execute_result"
    }
   ],
   "source": [
    "list_sum(l)"
   ]
  },
  {
   "cell_type": "markdown",
   "id": "dd820536",
   "metadata": {},
   "source": [
    "# Q3.Write a Python function to check whether a number falls in a given range\n",
    "\n",
    "(Note: Ask the user for the range and number.)\n"
   ]
  },
  {
   "cell_type": "code",
   "execution_count": 25,
   "id": "cc061f69",
   "metadata": {},
   "outputs": [
    {
     "name": "stdout",
     "output_type": "stream",
     "text": [
      "Enter value a: 1\n",
      "Enter value of b: 4\n",
      "The number 5 is outside the given range. 1 to 4\n"
     ]
    }
   ],
   "source": [
    "def test_range(n):\n",
    "    a=int(input(\"Enter value a: \"))\n",
    "    b=int(input(\"Enter value of b: \"))\n",
    "   \n",
    "    if n in range(a,b):\n",
    "        print( n,\"Is In the range: \", a,\"to\",b)\n",
    "    else :\n",
    "        print(\"The number\",n, \"is outside the given range.\", a, \"to\",b)\n",
    "test_range(5)"
   ]
  },
  {
   "cell_type": "markdown",
   "id": "9eb9270c",
   "metadata": {},
   "source": [
    "# Q4. Write a Python function that accepts a string and calculates the number of uppercase letters and lowercase letters. \n",
    "\n",
    "Sample String : 'The quick Brow Fox'\n",
    "\n",
    "Expected Output :\n",
    "\n",
    "No. of Uppercase characters : 3\n",
    "\n",
    "No. of Lower case Characters : 12\n"
   ]
  },
  {
   "cell_type": "code",
   "execution_count": 31,
   "id": "b7cbe811",
   "metadata": {},
   "outputs": [
    {
     "name": "stdout",
     "output_type": "stream",
     "text": [
      "The number of lowercase characters is: 19\n",
      "The number of uppercase characters is: 4\n"
     ]
    }
   ],
   "source": [
    "Str=\"Jayesh sahebrao Mahajan\"\n",
    "lower=0\n",
    "upper=0\n",
    "for i in Str:\n",
    "    if(i.islower()):\n",
    "        lower+=1\n",
    "    else:\n",
    "        upper+=1\n",
    "print(\"The number of lowercase characters is:\",lower)\n",
    "print(\"The number of uppercase characters is:\",upper)"
   ]
  },
  {
   "cell_type": "markdown",
   "id": "bb687a01",
   "metadata": {},
   "source": [
    "# Q5. Write a Python function that checks whether a passed string is palindrome or not.\n",
    "\n",
    "Note: A palindrome is a word, phrase, or sequence that reads the same backward as forward, e.g., madam\n"
   ]
  },
  {
   "cell_type": "code",
   "execution_count": 78,
   "id": "b898d9f9",
   "metadata": {},
   "outputs": [
    {
     "name": "stdout",
     "output_type": "stream",
     "text": [
      "Enter string: eye\n",
      "eye Is a Pallindrome\n"
     ]
    }
   ],
   "source": [
    "    user_input=input(\"Enter string: \")\n",
    "    a=user_input\n",
    "    b=user_input[::-1]\n",
    "    if a==b:\n",
    "        print(user_input,\"Is a Pallindrome\")\n",
    "    else:\n",
    "        print(user_input,\"Is not a pallindrome\")\n",
    "\n",
    "\n"
   ]
  },
  {
   "cell_type": "markdown",
   "id": "5d8173e8",
   "metadata": {},
   "source": [
    "# Q6. Define a function which counts vowels and consonants in a word."
   ]
  },
  {
   "cell_type": "code",
   "execution_count": 9,
   "id": "afa2e4d5",
   "metadata": {},
   "outputs": [
    {
     "name": "stdout",
     "output_type": "stream",
     "text": [
      "enter any string:Jayesh\n",
      "Total vowels in:  Jayesh are 2\n",
      "Total consonants in:  Jayesh are 4\n"
     ]
    }
   ],
   "source": [
    "user_str=input(\"enter any string:\")\n",
    "vowels=0\n",
    "consonants=0\n",
    "v=\"AaEeIiOoUu\"\n",
    "for i in user_str:\n",
    "    if i in v:\n",
    "        vowels+=1\n",
    "    else:\n",
    "        consonants+=1\n",
    "\n",
    "    \n",
    "print(\"Total vowels in: \",user_str ,\"are\",vowels)\n",
    "print(\"Total consonants in: \",user_str,\"are\",consonants)"
   ]
  },
  {
   "cell_type": "markdown",
   "id": "bf8380d9",
   "metadata": {},
   "source": [
    "# Q7.Define a function that accepts lowercase words and returns uppercase words"
   ]
  },
  {
   "cell_type": "code",
   "execution_count": 79,
   "id": "3c9b218a",
   "metadata": {},
   "outputs": [
    {
     "name": "stdout",
     "output_type": "stream",
     "text": [
      "Original String :  Jayesh aBcDefG\n",
      "No. of Upper case characters :  4\n",
      "No. of Lower case Characters :  9\n"
     ]
    }
   ],
   "source": [
    "def string_test(s):\n",
    "    d={\"UPPER_CASE\":0, \"LOWER_CASE\":0}\n",
    "    for i in s:\n",
    "        if i.isupper():\n",
    "            d[\"UPPER_CASE\"]+=1\n",
    "        elif i.islower():\n",
    "            d[\"LOWER_CASE\"]+=1\n",
    "        else:\n",
    "            pass\n",
    "    print (\"Original String : \", s)\n",
    "    print (\"No. of Upper case characters : \", d[\"UPPER_CASE\"])\n",
    "    print (\"No. of Lower case Characters : \", d[\"LOWER_CASE\"])\n",
    "\n",
    "string_test('Jayesh aBcDefG')"
   ]
  },
  {
   "cell_type": "markdown",
   "id": "bd81a019",
   "metadata": {},
   "source": [
    "# Q8. Write a function for checking the speed of drivers. This function should have one parameter: speed.\n",
    "\n",
    "1.If the speed is less than 70, it should print “Ok”.\n",
    "\n",
    "2.Otherwise, for every 5km above the speed limit (70),it should give the driver one demerit point and print the total number of demerit points. \n",
    "\n",
    "For example, (if the speed is 80, it should print: “Points: 2”.)\n",
    "\n",
    "\n",
    "3.If the driver gets more than 12 points, the function should print: “License suspended”\n"
   ]
  },
  {
   "cell_type": "code",
   "execution_count": 13,
   "id": "04d7f3b3",
   "metadata": {},
   "outputs": [
    {
     "name": "stdout",
     "output_type": "stream",
     "text": [
      "Enter speed: 120\n",
      "Point: 10\n"
     ]
    }
   ],
   "source": [
    "def checkSpeed(speed):\n",
    "    if speed <= 70:\n",
    "        return \"OK\"\n",
    "\n",
    "    else:\n",
    "        speed1 = (speed-70)//5\n",
    "\n",
    "        if speed1 <= 12:\n",
    "            print(f\"Point: {speed1}\")\n",
    "\n",
    "        else:\n",
    "            print(\"License suspended\")\n",
    "\n",
    "\n",
    "checkSpeed(int(input(\"Enter speed: \")))"
   ]
  },
  {
   "cell_type": "markdown",
   "id": "0ecfed5a",
   "metadata": {},
   "source": [
    "# Q9.Write a function that returns the sum of multiples of 3 and 5 between 0 and limit (parameter). add another function which can calculate the sum of common multiples of 3 and 5\n",
    "\n",
    "For example, if limit is 30, it should return the sum of all elements\n",
    "\n",
    "3, 5, 6, 9, 10, 12, 15, 18, 20,21,24,25,27,30.\n",
    "\n",
    "Sum of all common multiples :\n",
    "\n",
    "15,30\n"
   ]
  },
  {
   "cell_type": "code",
   "execution_count": 19,
   "id": "7f75480f",
   "metadata": {},
   "outputs": [
    {
     "name": "stdout",
     "output_type": "stream",
     "text": [
      "Sum of multiples of  3  up to  30  =  165.0\n"
     ]
    }
   ],
   "source": [
    "def calculate_sum(a, N): \n",
    "  \n",
    "    # Number of multiples \n",
    "    m = N / a \n",
    "  \n",
    "    # sum of first m natural numbers \n",
    "    sum = m * (m + 1) / 2\n",
    "  \n",
    "    # sum of multiples \n",
    "    ans = a * sum\n",
    "  \n",
    "    print(\"Sum of multiples of \", a, \n",
    "          \" up to \", N, \" = \", ans) \n",
    "  \n",
    " \n",
    "calculate_sum(3, 30)"
   ]
  },
  {
   "cell_type": "code",
   "execution_count": null,
   "id": "96802223",
   "metadata": {},
   "outputs": [],
   "source": []
  }
 ],
 "metadata": {
  "kernelspec": {
   "display_name": "Python 3 (ipykernel)",
   "language": "python",
   "name": "python3"
  },
  "language_info": {
   "codemirror_mode": {
    "name": "ipython",
    "version": 3
   },
   "file_extension": ".py",
   "mimetype": "text/x-python",
   "name": "python",
   "nbconvert_exporter": "python",
   "pygments_lexer": "ipython3",
   "version": "3.9.13"
  }
 },
 "nbformat": 4,
 "nbformat_minor": 5
}
