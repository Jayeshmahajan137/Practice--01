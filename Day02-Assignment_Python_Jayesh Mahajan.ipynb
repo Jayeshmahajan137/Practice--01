{
 "cells": [
  {
   "cell_type": "markdown",
   "id": "498216b5",
   "metadata": {},
   "source": [
    "# Q1. Write a Python program to find those numbers which are divisible by 7, 5 , 2 between 1500 and 2700 (both included).Take the range as(1500, 2701)\n"
   ]
  },
  {
   "cell_type": "code",
   "execution_count": 1,
   "id": "3a2559f2",
   "metadata": {},
   "outputs": [
    {
     "name": "stdout",
     "output_type": "stream",
     "text": [
      "1540\n",
      "1610\n",
      "1680\n",
      "1750\n",
      "1820\n",
      "1890\n",
      "1960\n",
      "2030\n",
      "2100\n",
      "2170\n",
      "2240\n",
      "2310\n",
      "2380\n",
      "2450\n",
      "2520\n",
      "2590\n",
      "2660\n"
     ]
    }
   ],
   "source": [
    "for i in range(1500, 2701):\n",
    "    if i % 7 == 0 and i % 5 == 0 and i % 2 == 0:\n",
    "        print(i)\n"
   ]
  },
  {
   "cell_type": "markdown",
   "id": "d6c81068",
   "metadata": {},
   "source": [
    "# Q2. Write a Python program that accepts a word from the user and reverse it. \n",
    "Sample Output:\n",
    "Input a word to reverse: one\n",
    "Eno\n"
   ]
  },
  {
   "cell_type": "code",
   "execution_count": 9,
   "id": "c81ee047",
   "metadata": {},
   "outputs": [
    {
     "name": "stdout",
     "output_type": "stream",
     "text": [
      "Input a word to reverse: Jayesh\n",
      "hseyaJ\n"
     ]
    }
   ],
   "source": [
    "word = input(\"Input a word to reverse: \")\n",
    "reversed_word = word[::-1]\n",
    "print(reversed_word)\n"
   ]
  },
  {
   "cell_type": "markdown",
   "id": "85670bed",
   "metadata": {},
   "source": [
    "# #Q3. Write a Python program to count the number of even,odd and prime numbers from a series of numbers.\n",
    "Sample numbers : numbers = (1, 2, 30, 4, 5, 67, 7, 8, 9) \n",
    "Expected Output :\n",
    "Number of even numbers : 4\n",
    "Number of odd numbers : 5\n",
    "Number of prime numbers: 4\n"
   ]
  },
  {
   "cell_type": "code",
   "execution_count": 16,
   "id": "f85ae838",
   "metadata": {},
   "outputs": [
    {
     "name": "stdout",
     "output_type": "stream",
     "text": [
      "Number of even numbers:  4\n",
      "Number of odd numbers:  5\n",
      "Number of prime numbers:  4\n"
     ]
    }
   ],
   "source": [
    "def is_prime(n):\n",
    "    if n < 2:\n",
    "        return False\n",
    "    for i in range(2, int(n**0.5) + 1):\n",
    "        if n % i == 0:\n",
    "            return False\n",
    "    return True\n",
    "\n",
    "numbers = (1, 2, 30, 4, 5, 67, 7, 8, 9)\n",
    "\n",
    "even_count = 0\n",
    "odd_count = 0\n",
    "prime_count = 0\n",
    "\n",
    "# Iterate through the numbers and count even, odd, and prime numbers\n",
    "for num in numbers:\n",
    "    if num % 2 == 0:\n",
    "        even_count += 1\n",
    "    else:\n",
    "        odd_count += 1\n",
    "    if is_prime(num):\n",
    "        prime_count += 1\n",
    "\n",
    "# Output the counts\n",
    "print(\"Number of even numbers: \", even_count)\n",
    "print(\"Number of odd numbers: \", odd_count)\n",
    "print(\"Number of prime numbers: \", prime_count)"
   ]
  },
  {
   "cell_type": "markdown",
   "id": "37967998",
   "metadata": {},
   "source": [
    "# Q4. Write a Python program that prints all the numbers from 0 to 6 except 3 and 6.\n",
    "Note : Use 'continue' statement.\n",
    "Expected Output : 0 1 2 4 5\n",
    "\n"
   ]
  },
  {
   "cell_type": "code",
   "execution_count": 17,
   "id": "183ec805",
   "metadata": {},
   "outputs": [
    {
     "name": "stdout",
     "output_type": "stream",
     "text": [
      "0 1 2 4 5 "
     ]
    }
   ],
   "source": [
    "for i in range(7):\n",
    "    if i == 3 or i == 6:\n",
    "        continue\n",
    "    print(i, end=\" \")"
   ]
  },
  {
   "cell_type": "markdown",
   "id": "f5d63f8d",
   "metadata": {},
   "source": [
    "# Q5. Write a Python program to calculate the area and volume of a cylinder.\n"
   ]
  },
  {
   "cell_type": "code",
   "execution_count": 19,
   "id": "cec08c11",
   "metadata": {},
   "outputs": [
    {
     "name": "stdout",
     "output_type": "stream",
     "text": [
      "Enter the radius of the cylinder: 4\n",
      "Enter the height of the cylinder: 6\n",
      "Base area:  50.27\n",
      "Lateral area:  150.8\n",
      "Surface area:  251.33\n",
      "Volume:  301.59\n"
     ]
    }
   ],
   "source": [
    "import math\n",
    "\n",
    "# Input cylinder dimensions\n",
    "radius = float(input(\"Enter the radius of the cylinder: \"))\n",
    "height = float(input(\"Enter the height of the cylinder: \"))\n",
    "\n",
    "# Calculate area and volume\n",
    "base_area = math.pi * radius**2\n",
    "lateral_area = 2 * math.pi * radius * height\n",
    "surface_area = 2 * base_area + lateral_area\n",
    "volume = base_area * height\n",
    "\n",
    "# Output results\n",
    "print(\"Base area: \", round(base_area, 2))\n",
    "print(\"Lateral area: \", round(lateral_area, 2))\n",
    "print(\"Surface area: \", round(surface_area, 2))\n",
    "print(\"Volume: \", round(volume, 2))\n"
   ]
  },
  {
   "cell_type": "markdown",
   "id": "75219b03",
   "metadata": {},
   "source": [
    "# Q6. Write a Python program which accepts the user's first and last name and print them in reverse order with a space between them\n",
    "E.g. \n",
    "input - Adam Samuel\n",
    "Output - madA leumaS \n"
   ]
  },
  {
   "cell_type": "code",
   "execution_count": 20,
   "id": "366d1d7d",
   "metadata": {},
   "outputs": [
    {
     "name": "stdout",
     "output_type": "stream",
     "text": [
      "Enter your first name: Jayesh\n",
      "Enter your last name: Mahajan\n",
      "najahaM hseyaJ\n"
     ]
    }
   ],
   "source": [
    "\n",
    "first_name = input(\"Enter your first name: \")\n",
    "last_name = input(\"Enter your last name: \")\n",
    "\n",
    "# Reverse the names and print with a space between them\n",
    "print(last_name[::-1] + \" \" + first_name[::-1])\n"
   ]
  },
  {
   "cell_type": "markdown",
   "id": "31d953e2",
   "metadata": {},
   "source": [
    "# Q7.Write a Python program that accepts an integer (n) and computes the value of n+nn+nnn.\n",
    "Sample value of n is 2\n",
    "Expected Result :246  (2+22+222)\n"
   ]
  },
  {
   "cell_type": "code",
   "execution_count": 21,
   "id": "43900e6a",
   "metadata": {},
   "outputs": [
    {
     "name": "stdout",
     "output_type": "stream",
     "text": [
      "Enter an integer: 3\n",
      "Result: 369\n"
     ]
    }
   ],
   "source": [
    "n = int(input(\"Enter an integer: \"))\n",
    "\n",
    "nn = n * 11\n",
    "nnn = n * 111\n",
    "result = n + nn + nnn\n",
    "\n",
    "\n",
    "print(\"Result:\", result)\n"
   ]
  },
  {
   "cell_type": "markdown",
   "id": "b1da8bc7",
   "metadata": {},
   "source": [
    "# Q8. Write a Python program to compute the distance between the points \n",
    "(x1, y1,z1) and (x2, y2,z2).\n"
   ]
  },
  {
   "cell_type": "code",
   "execution_count": 28,
   "id": "b6eb705a",
   "metadata": {},
   "outputs": [
    {
     "name": "stdout",
     "output_type": "stream",
     "text": [
      "Enter the coordinates of the first point (x1, y1, z1): 1 6 9\n",
      "Enter the coordinates of the second point (x2, y2, z2): 4 5 8\n",
      "The distance between the points is: 3.3166247903554\n"
     ]
    }
   ],
   "source": [
    "import math\n",
    "\n",
    "# Accept the coordinates of two points as input\n",
    "x1, y1, z1 = input(\"Enter the coordinates of the first point (x1, y1, z1): \").split()\n",
    "x2, y2, z2 = input(\"Enter the coordinates of the second point (x2, y2, z2): \").split()\n",
    "\n",
    "# Convert the coordinates to floats\n",
    "x1, y1, z1 = float(x1), float(y1), float(z1)\n",
    "x2, y2, z2 = float(x2), float(y2), float(z2)\n",
    "\n",
    "# Compute the distance between the points\n",
    "distance = math.sqrt((x2 - x1)**2 + (y2 - y1)**2 + (z2 - z1)**2)\n",
    "\n",
    "# Output the result\n",
    "print(\"The distance between the points is:\", distance)\n"
   ]
  },
  {
   "cell_type": "markdown",
   "id": "3702a00d",
   "metadata": {},
   "source": [
    "# Q9. Write a Python program to count the number occurrence of a specific character in a string\n",
    "\n"
   ]
  },
  {
   "cell_type": "code",
   "execution_count": 29,
   "id": "070316e5",
   "metadata": {},
   "outputs": [
    {
     "name": "stdout",
     "output_type": "stream",
     "text": [
      "Enter a string: Jayesh Sahebrao Mahajan\n",
      "Enter a character to count: a\n",
      "The character a appears 6 times in the string.\n"
     ]
    }
   ],
   "source": [
    "# Accept a string and a character as input\n",
    "string = input(\"Enter a string: \")\n",
    "char = input(\"Enter a character to count: \")\n",
    "\n",
    "# Count the number of occurrences of the character\n",
    "count = 0\n",
    "for c in string:\n",
    "    if c == char:\n",
    "        count += 1\n",
    "\n",
    "# Output the result\n",
    "print(\"The character\", char, \"appears\", count, \"times in the string.\")\n"
   ]
  },
  {
   "cell_type": "markdown",
   "id": "3b9fe9c8",
   "metadata": {},
   "source": [
    "# Q10. Write a Python program to remove and print every third consecutive number from a list.\n"
   ]
  },
  {
   "cell_type": "code",
   "execution_count": 30,
   "id": "47713685",
   "metadata": {},
   "outputs": [
    {
     "name": "stdout",
     "output_type": "stream",
     "text": [
      "3\n",
      "6\n",
      "9\n",
      "12\n",
      "15\n",
      "The updated list is: [1, 2, 4, 5, 7, 8, 10, 11, 13, 14]\n"
     ]
    }
   ],
   "source": [
    "# Define a list of numbers\n",
    "numbers = [1, 2, 3, 4, 5, 6, 7, 8, 9, 10, 11, 12, 13, 14, 15]\n",
    "\n",
    "# Use a loop to remove and print every third consecutive number\n",
    "i = 2\n",
    "while i < len(numbers):\n",
    "    print(numbers.pop(i))\n",
    "    i += 2\n",
    "\n",
    "# Output the updated list\n",
    "print(\"The updated list is:\", numbers)\n"
   ]
  },
  {
   "cell_type": "markdown",
   "id": "cab9c935",
   "metadata": {},
   "source": [
    "# Q11.Given sample integers below:\n",
    "12345\n",
    "90213\n",
    "123456\n",
    "WAP such that the code produces below output :\n",
    "(Print 1st digit + last digit + 2nd digit + 2nd last digit + …so on)\n",
    "15243\n",
    "93012\n",
    "162534\n"
   ]
  },
  {
   "cell_type": "code",
   "execution_count": 31,
   "id": "fe394d31",
   "metadata": {},
   "outputs": [
    {
     "name": "stdout",
     "output_type": "stream",
     "text": [
      "15243\n",
      "93012\n",
      "1625344\n"
     ]
    }
   ],
   "source": [
    "# Define a function to rearrange digits in a number as required\n",
    "def rearrange_digits(n):\n",
    "    # Convert the number to a string\n",
    "    s = str(n)\n",
    "    # Initialize a list to store the rearranged digits\n",
    "    digits = []\n",
    "    # Loop through the string and append the first and last digits, second and second-last digits, and so on\n",
    "    for i in range(len(s)//2 + 1):\n",
    "        if i == len(s)//2:\n",
    "            digits.append(s[i])\n",
    "        else:\n",
    "            digits.append(s[i] + s[-i-1])\n",
    "    # Convert the rearranged digits back to an integer and return it\n",
    "    return int(''.join(digits))\n",
    "\n",
    "# Test the function with the given sample integers\n",
    "print(rearrange_digits(12345))  # should print 15243\n",
    "print(rearrange_digits(90213))  # should print 93012\n",
    "print(rearrange_digits(123456))  # should print 162534\n"
   ]
  },
  {
   "cell_type": "markdown",
   "id": "fcdf6528",
   "metadata": {},
   "source": [
    "# Q12. Check if an integer entered by user is palindrome or not.\n",
    "\n"
   ]
  },
  {
   "cell_type": "code",
   "execution_count": 32,
   "id": "30405347",
   "metadata": {},
   "outputs": [
    {
     "name": "stdout",
     "output_type": "stream",
     "text": [
      "Enter an integer: 111\n",
      "The integer is a palindrome.\n"
     ]
    }
   ],
   "source": [
    "n = int(input(\"Enter an integer: \"))\n",
    "\n",
    "s = str(n)\n",
    "s_reversed = s[::-1]\n",
    "\n",
    "if s == s_reversed:\n",
    "    print(\"The integer is a palindrome.\")\n",
    "else:\n",
    "    print(\"The integer is not a palindrome.\")\n"
   ]
  },
  {
   "cell_type": "markdown",
   "id": "9e5470fe",
   "metadata": {},
   "source": [
    "# Q14.Swap two numbers using the third variable and without using the third variable. \n",
    "\tTake choice from user 1-for with third variable 2-for without third variable\n",
    "\t\n"
   ]
  },
  {
   "cell_type": "code",
   "execution_count": 33,
   "id": "869689d4",
   "metadata": {},
   "outputs": [
    {
     "name": "stdout",
     "output_type": "stream",
     "text": [
      "Enter choice (1 for with third variable, 2 for without third variable): 1\n",
      "Enter first number: 12\n",
      "Enter second number: 34\n",
      "Before swapping: a = 12, b = 34\n",
      "After swapping: a = 34, b = 12\n"
     ]
    }
   ],
   "source": [
    "choice = int(input(\"Enter choice (1 for with third variable, 2 for without third variable): \"))\n",
    "a = int(input(\"Enter first number: \"))\n",
    "b = int(input(\"Enter second number: \"))\n",
    "\n",
    "if choice == 1:\n",
    "    # With third variable\n",
    "    print(\"Before swapping: a = {}, b = {}\".format(a, b))\n",
    "    temp = a\n",
    "    a = b\n",
    "    b = temp\n",
    "    print(\"After swapping: a = {}, b = {}\".format(a, b))\n",
    "elif choice == 2:\n",
    "    # Without third variable\n",
    "    print(\"Before swapping: a = {}, b = {}\".format(a, b))\n",
    "    a = a + b\n",
    "    b = a - b\n",
    "    a = a - b\n",
    "    print(\"After swapping: a = {}, b = {}\".format(a, b))\n",
    "else:\n",
    "    print(\"Invalid choice.\")\n"
   ]
  },
  {
   "cell_type": "markdown",
   "id": "5f10ad31",
   "metadata": {},
   "source": [
    "# Q15.Take string value from user as :\n",
    " \"Hi,My Name is Abc.\"  \n",
    "convert it into \"HI,MY NAME IS ABC\" and \"hi,my name is abc.\"\n",
    "without using the inbuilt function. \n"
   ]
  },
  {
   "cell_type": "code",
   "execution_count": 34,
   "id": "9a0b4bd6",
   "metadata": {},
   "outputs": [
    {
     "name": "stdout",
     "output_type": "stream",
     "text": [
      "Enter a string: Jayesh\n",
      "Uppercase string: JAYESH\n",
      "Lowercase string: jayesh\n"
     ]
    }
   ],
   "source": [
    "# Get string input from user\n",
    "string = input(\"Enter a string: \")\n",
    "\n",
    "# Convert to uppercase without using inbuilt function\n",
    "uppercase = \"\"\n",
    "for char in string:\n",
    "    if char >= 'a' and char <= 'z':\n",
    "        uppercase += chr(ord(char) - 32)\n",
    "    else:\n",
    "        uppercase += char\n",
    "\n",
    "# Convert to lowercase without using inbuilt function\n",
    "lowercase = \"\"\n",
    "for char in string:\n",
    "    if char >= 'A' and char <= 'Z':\n",
    "        lowercase += chr(ord(char) + 32)\n",
    "    else:\n",
    "        lowercase += char\n",
    "\n",
    "# Print the results\n",
    "print(\"Uppercase string: {}\".format(uppercase))\n",
    "print(\"Lowercase string: {}\".format(lowercase))\n"
   ]
  },
  {
   "cell_type": "markdown",
   "id": "92572bb3",
   "metadata": {},
   "source": [
    "# Q16.Check entered year is leap year or not using logical operator\n"
   ]
  },
  {
   "cell_type": "code",
   "execution_count": 35,
   "id": "16e4bc9e",
   "metadata": {},
   "outputs": [
    {
     "name": "stdout",
     "output_type": "stream",
     "text": [
      "Enter a year: 2023\n",
      "2023 is not a leap year\n"
     ]
    }
   ],
   "source": [
    "# Get the year from the user\n",
    "year = int(input(\"Enter a year: \"))\n",
    "\n",
    "# Check if it is a leap year using logical operators\n",
    "if (year % 4 == 0) and (year % 100 != 0 or year % 400 == 0):\n",
    "    print(year, \"is a leap year\")\n",
    "else:\n",
    "    print(year, \"is not a leap year\")\n"
   ]
  },
  {
   "cell_type": "markdown",
   "id": "997637c1",
   "metadata": {},
   "source": [
    "# Q17.count the number of digits and number of alphabets in the string.\n",
    "\te.g \t\t\tPune - 412203\n",
    "\t\t\t\tMaharashtra.\n",
    "\t\n",
    "\tTotal Digits: 6\n",
    "\tTotal alphabets: 15\n",
    "\tSpecial Characters: 1\n",
    "\tWhite Spaces: 2\n",
    "\tNumber of Lines: 2\n"
   ]
  },
  {
   "cell_type": "code",
   "execution_count": 38,
   "id": "aeccf695",
   "metadata": {},
   "outputs": [
    {
     "name": "stdout",
     "output_type": "stream",
     "text": [
      "Enter a string: jayesh.mahajan137@atgeir solutions.com\n",
      "Total Digits: 3\n",
      "Total alphabets: 31\n",
      "Special Characters: 3\n",
      "White Spaces: 1\n",
      "Number of Lines: 1\n"
     ]
    }
   ],
   "source": [
    "# Get the input string from the user\n",
    "string = input(\"Enter a string: \")\n",
    "\n",
    "# Initialize the counters\n",
    "digit_count = 0\n",
    "alpha_count = 0\n",
    "special_count = 0\n",
    "whitespace_count = 0\n",
    "line_count = 1\n",
    "\n",
    "# Loop through each character in the string\n",
    "for char in string:\n",
    "    # Check if the character is a digit\n",
    "    if char.isdigit():\n",
    "        digit_count += 1\n",
    "    # Check if the character is an alphabet\n",
    "    elif char.isalpha():\n",
    "        alpha_count += 1\n",
    "    # Check if the character is a special character\n",
    "    elif not char.isspace():\n",
    "        special_count += 1\n",
    "    # Check if the character is whitespace\n",
    "    elif char.isspace():\n",
    "        whitespace_count += 1\n",
    "    # Check if the character is a new line\n",
    "    if char == '\\n':\n",
    "        line_count += 1\n",
    "\n",
    "# Print the results\n",
    "print(\"Total Digits:\", digit_count)\n",
    "print(\"Total alphabets:\", alpha_count)\n",
    "print(\"Special Characters:\", special_count)\n",
    "print(\"White Spaces:\", whitespace_count)\n",
    "print(\"Number of Lines:\", line_count)\n"
   ]
  },
  {
   "cell_type": "code",
   "execution_count": null,
   "id": "621efeef",
   "metadata": {},
   "outputs": [],
   "source": []
  },
  {
   "cell_type": "code",
   "execution_count": null,
   "id": "c39b1d21",
   "metadata": {},
   "outputs": [],
   "source": []
  }
 ],
 "metadata": {
  "kernelspec": {
   "display_name": "Python 3 (ipykernel)",
   "language": "python",
   "name": "python3"
  },
  "language_info": {
   "codemirror_mode": {
    "name": "ipython",
    "version": 3
   },
   "file_extension": ".py",
   "mimetype": "text/x-python",
   "name": "python",
   "nbconvert_exporter": "python",
   "pygments_lexer": "ipython3",
   "version": "3.9.13"
  }
 },
 "nbformat": 4,
 "nbformat_minor": 5
}
