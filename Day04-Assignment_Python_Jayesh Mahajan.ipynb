{
 "cells": [
  {
   "cell_type": "markdown",
   "id": "6b66d624",
   "metadata": {},
   "source": [
    "# Q1.Write a Python program to iterate over dictionaries using for loops.\n",
    "\n",
    "Original Dictionary\n",
    "d = {'x': 10, 'y': 20, 'z': 30} \n",
    "\n",
    "Expected Output\n",
    "x - 10\n",
    "y - 20\n",
    "z - 30\n"
   ]
  },
  {
   "cell_type": "code",
   "execution_count": 5,
   "id": "69fb7be8",
   "metadata": {},
   "outputs": [
    {
     "name": "stdout",
     "output_type": "stream",
     "text": [
      "x - 10\n",
      "y - 20\n",
      "z - 30\n"
     ]
    }
   ],
   "source": [
    "d = {'x': 10, 'y': 20, 'z': 30}\n",
    "\n",
    "for key, value in d.items():\n",
    "    print(f\"{key} - {value}\")\n"
   ]
  },
  {
   "cell_type": "markdown",
   "id": "09c9a605",
   "metadata": {},
   "source": [
    "# Q2.  Write a Python program to sort (ascending and descending) a dictionary by value.\n",
    "\n",
    "Sample Output:\n",
    "\n",
    "Original dictionary :  {1: 2, 3: 4, 4: 3, 2: 1, 0: 0}\n",
    "\n",
    "Dictionary in ascending order by value :  {0: 0, 2: 1, 1: 2,  4: 3,  3: 4}\n",
    "\n",
    "Dictionary in descending order by value :  {3: 4, 4: 3, 1: 2, 2: 1, 0: 0}\n"
   ]
  },
  {
   "cell_type": "code",
   "execution_count": 6,
   "id": "0212659a",
   "metadata": {},
   "outputs": [
    {
     "name": "stdout",
     "output_type": "stream",
     "text": [
      "Original dictionary: {1: 2, 3: 4, 4: 3, 2: 1, 0: 0}\n",
      "Dictionary in ascending order by value: {0: 0, 2: 1, 1: 2, 4: 3, 3: 4}\n",
      "Dictionary in descending order by value: {3: 4, 4: 3, 1: 2, 2: 1, 0: 0}\n"
     ]
    }
   ],
   "source": [
    "# Define the original dictionary\n",
    "original_dict = {1: 2, 3: 4, 4: 3, 2: 1, 0: 0}\n",
    "\n",
    "# Sort the dictionary by value in ascending order\n",
    "sorted_dict_ascending = dict(sorted(original_dict.items(), key=lambda x: x[1]))\n",
    "\n",
    "# Sort the dictionary by value in descending order\n",
    "sorted_dict_descending = dict(sorted(original_dict.items(), key=lambda x: x[1], reverse=True))\n",
    "\n",
    "# Print out the original dictionary and the sorted dictionaries\n",
    "print(f\"Original dictionary: {original_dict}\")\n",
    "print(f\"Dictionary in ascending order by value: {sorted_dict_ascending}\")\n",
    "print(f\"Dictionary in descending order by value: {sorted_dict_descending}\")\n"
   ]
  },
  {
   "cell_type": "markdown",
   "id": "51a865e4",
   "metadata": {},
   "source": [
    "# Q3.Write a Python program to check whether a given key already exists in a dictionary. Ask the user to input a Key to be searched.\n",
    "\n",
    "d = {1: 10, 2: 20, 3: 30, 4: 40, 5: 50, 6: 60} \n",
    "\n",
    "Sample Output:\n",
    "\n",
    "Key is present in the dictionary                                                                              \n",
    "Key is not present in the dictionary\n",
    "\n"
   ]
  },
  {
   "cell_type": "code",
   "execution_count": 19,
   "id": "48c0b75c",
   "metadata": {},
   "outputs": [
    {
     "name": "stdout",
     "output_type": "stream",
     "text": [
      "Enter a key to search: 1\n",
      "Key is present in the dictionary\n"
     ]
    }
   ],
   "source": [
    "d = {1: 10, 2: 20, 3: 30, 4: 40, 5: 50, 6: 60}\n",
    "\n",
    "# Ask the user for a key to search\n",
    "key = int(input(\"Enter a key to search: \"))\n",
    "\n",
    "# Check if the key exists in the dictionary\n",
    "if key in d:\n",
    "    print(\"Key is present in the dictionary\")\n",
    "else:\n",
    "    print(\"Key is not present in the dictionary\")\n"
   ]
  },
  {
   "cell_type": "markdown",
   "id": "bea7eacb",
   "metadata": {},
   "source": [
    "# Q4. Write a Python program to remove item(s) from a given  set. \n",
    "\n",
    "Sample Output\n",
    "\n",
    "Original set:\n",
    "{0, 1, 3, 4, 5}\n",
    "\n",
    "After removing the first element from the said set:\n",
    "{1, 3, 4, 5}\n"
   ]
  },
  {
   "cell_type": "code",
   "execution_count": 21,
   "id": "f911ded8",
   "metadata": {},
   "outputs": [
    {
     "name": "stdout",
     "output_type": "stream",
     "text": [
      "0th index element is removed from Original set:  {1, 3, 4, 5}\n"
     ]
    }
   ],
   "source": [
    "original_set = {0, 1, 3, 4, 5}\n",
    "\n",
    "# remove an item from the set\n",
    "original_set.remove(0)\n",
    "\n",
    "# print the resulting set\n",
    "print(\"0th index element is removed from Original set: \", original_set)\n"
   ]
  },
  {
   "cell_type": "markdown",
   "id": "9eafa64e",
   "metadata": {},
   "source": [
    "# Q5.Check if a set is a subset of another set, using comparison operators and issubset():\n",
    "\n",
    "Sample Output:\n",
    "x:  {'mango', 'apple'}\n",
    "y:  {'mango', 'orange'}\n",
    "z:  {'mango'} \n",
    "\n",
    "\n",
    "If x is subset of y\n",
    "False\n",
    "False\n",
    "\n",
    "\n",
    "If y is subset of x\n",
    "False\n",
    "False\n",
    "\n",
    "\n",
    "If y is subset of z\n",
    "False\n",
    "False\n",
    "\n",
    "\n",
    "If z is subset of y\n",
    "True\n",
    "True\n"
   ]
  },
  {
   "cell_type": "code",
   "execution_count": 22,
   "id": "d7a984fc",
   "metadata": {},
   "outputs": [
    {
     "name": "stdout",
     "output_type": "stream",
     "text": [
      "If x is subset of y\n",
      "False\n",
      "False\n",
      "If y is subset of x\n",
      "False\n",
      "False\n",
      "If y is subset of z\n",
      "False\n",
      "False\n",
      "If z is subset of y\n",
      "True\n",
      "True\n"
     ]
    }
   ],
   "source": [
    "# define the sets\n",
    "x = {'mango', 'apple'}\n",
    "y = {'mango', 'orange'}\n",
    "z = {'mango'}\n",
    "\n",
    "# check if x is a subset of y\n",
    "print(\"If x is subset of y\")\n",
    "print(x <= y)    # using the <= operator\n",
    "print(x.issubset(y))    # using the issubset() method\n",
    "\n",
    "# check if y is a subset of x\n",
    "print(\"If y is subset of x\")\n",
    "print(y <= x)    # using the <= operator\n",
    "print(y.issubset(x))    # using the issubset() method\n",
    "\n",
    "# check if y is a subset of z\n",
    "print(\"If y is subset of z\")\n",
    "print(y <= z)    # using the <= operator\n",
    "print(y.issubset(z))    # using the issubset() method\n",
    "\n",
    "# check if z is a subset of y\n",
    "print(\"If z is subset of y\")\n",
    "print(z <= y)    # using the <= operator\n",
    "print(z.issubset(y))    # using the issubset() method\n"
   ]
  },
  {
   "cell_type": "markdown",
   "id": "bf144a5e",
   "metadata": {},
   "source": [
    "# Q6.Write a Python program to find the elements in a given set that are not in another set.\n"
   ]
  },
  {
   "cell_type": "code",
   "execution_count": 25,
   "id": "e18b998d",
   "metadata": {},
   "outputs": [
    {
     "name": "stdout",
     "output_type": "stream",
     "text": [
      "Elements in set1 that are not in set2 are : {1, 2}\n",
      "Elements in set2 that are not in set1 are:  {6, 7}\n"
     ]
    }
   ],
   "source": [
    "# define the sets\n",
    "set1 = {1, 2, 3, 4, 5}\n",
    "set2 = {3, 4, 5, 6, 7}\n",
    "\n",
    "# find the elements in set1 that are not in set2\n",
    "not_in_set2 = set1 - set2\n",
    "not_in_set1 = set2 - set1\n",
    "\n",
    "# print the resulting set\n",
    "print(\"Elements in set1 that are not in set2 are :\", not_in_set2)\n",
    "print(\"Elements in set2 that are not in set1 are: \",not_in_set1)\n"
   ]
  },
  {
   "cell_type": "markdown",
   "id": "fe2e40e5",
   "metadata": {},
   "source": [
    "# Q7.Write a Python program to find length of set, maximum and the minimum value in a set.\n"
   ]
  },
  {
   "cell_type": "code",
   "execution_count": 31,
   "id": "720d7bf6",
   "metadata": {},
   "outputs": [
    {
     "name": "stdout",
     "output_type": "stream",
     "text": [
      "Length of set is:  {1, 2, 3, 100, 5, 40, 10, 50, 20, 30}\n",
      "Maximum value in set is:  100\n",
      "Minimum value in set is:  1\n"
     ]
    }
   ],
   "source": [
    "s={1,2,3,10,20,30,40,50,100,5}\n",
    "\n",
    "length_of_set=len(s)\n",
    "print(\"Length of set is: \",s)\n",
    "max_of_set=max(s)\n",
    "print('Maximum value in set is: ', max_of_set)\n",
    "min_of_set=min(s)\n",
    "print(\"Minimum value in set is: \", min_of_set)"
   ]
  },
  {
   "cell_type": "markdown",
   "id": "6ddafa78",
   "metadata": {},
   "source": [
    "# Q8.Write a Python program to create an intersection and union of sets\n"
   ]
  },
  {
   "cell_type": "code",
   "execution_count": 32,
   "id": "cfdc7245",
   "metadata": {},
   "outputs": [
    {
     "name": "stdout",
     "output_type": "stream",
     "text": [
      "Intersection of sets:  {40, 50}\n",
      "Union of sets:  {6, 7, 40, 8, 11, 50, 20, 23}\n"
     ]
    }
   ],
   "source": [
    "# Define two sets\n",
    "set1 = {11, 20, 23, 40, 50}\n",
    "set2 = {40, 50, 6, 7, 8}\n",
    "\n",
    "# Find the intersection of the two sets\n",
    "intersection_set = set1.intersection(set2)\n",
    "print(\"Intersection of sets: \", intersection_set)\n",
    "\n",
    "# Find the union of the two sets\n",
    "union_set = set1.union(set2)\n",
    "print(\"Union of sets: \", union_set)\n"
   ]
  },
  {
   "cell_type": "markdown",
   "id": "c8c068bd",
   "metadata": {},
   "source": [
    "# Q9. Write a Python program to combine two dictionary adding values for common keys. \n",
    "\n",
    "d1 = {'a': 100, 'b': 200, 'c':300}\n",
    "\n",
    "d2 = {'a': 300, 'b': 200, 'd':400}\n",
    "\n",
    "Sample output: Counter({'a': 400, 'b': 400, 'd': 400, 'c': 300})\n"
   ]
  },
  {
   "cell_type": "code",
   "execution_count": 33,
   "id": "815a5422",
   "metadata": {},
   "outputs": [
    {
     "name": "stdout",
     "output_type": "stream",
     "text": [
      "Counter({'a': 400, 'b': 400, 'd': 400, 'c': 300})\n"
     ]
    }
   ],
   "source": [
    "from collections import Counter\n",
    "\n",
    "# Define two dictionaries\n",
    "d1 = {'a': 100, 'b': 200, 'c': 300}\n",
    "d2 = {'a': 300, 'b': 200, 'd': 400}\n",
    "\n",
    "# Combine the dictionaries and add the values for common keys\n",
    "result = Counter(d1) + Counter(d2)\n",
    "\n",
    "# Print the combined dictionary\n",
    "print(result)\n"
   ]
  },
  {
   "cell_type": "markdown",
   "id": "c7da22ca",
   "metadata": {},
   "source": [
    "# Q10.Write a Python program to find the highest of 3 values for corresponding keys in a dictionary. \n",
    "\n",
    "D ={‘a’:10,’b’:37,’c’:22,’d’:33,’e’:45,’f’:9,’g’:88,’h’:63,’i’:98,’j’:12}\n",
    "\n",
    "Input any 3 keys from given dictionary ex: a,b,c\n",
    "\n",
    "Then output should be b:37\n"
   ]
  },
  {
   "cell_type": "code",
   "execution_count": 35,
   "id": "16c9bb85",
   "metadata": {},
   "outputs": [
    {
     "name": "stdout",
     "output_type": "stream",
     "text": [
      "Enter first key: a\n",
      "Enter second key: b\n",
      "Enter third key: c\n",
      "max value is:  37\n",
      "b:37\n"
     ]
    }
   ],
   "source": [
    "# Define the dictionary\n",
    "D = {'a': 10, 'b': 37, 'c': 22, 'd': 33, 'e': 45, 'f': 9, 'g': 88, 'h': 63, 'i': 98, 'j': 12}\n",
    "\n",
    "# Get three keys from the user\n",
    "key1 = input(\"Enter first key: \")\n",
    "key2 = input(\"Enter second key: \")\n",
    "key3 = input(\"Enter third key: \")\n",
    "\n",
    "# Find the highest value among the three keys\n",
    "max_value = max(D[key1], D[key2], D[key3])\n",
    "\n",
    "# Find the key with the highest value\n",
    "for key, value in D.items():\n",
    "    if value == max_value:\n",
    "        max_key = key\n",
    "        break\n",
    "\n",
    "# Print the key with the highest value\n",
    "print(\"max value is: \",max_value)\n",
    "print(f\"{max_key}:{max_value}\")\n"
   ]
  },
  {
   "cell_type": "markdown",
   "id": "e3fa0025",
   "metadata": {},
   "source": [
    "Q11.WAP concatenate two different dictionaries into single dictionary\n"
   ]
  },
  {
   "cell_type": "code",
   "execution_count": 36,
   "id": "35eb8ea4",
   "metadata": {},
   "outputs": [
    {
     "name": "stdout",
     "output_type": "stream",
     "text": [
      "{'a': 10, 'b': 22, 'c': 30, 'd': 23, 'e': 25, 'f': 26}\n"
     ]
    }
   ],
   "source": [
    "# Define two dictionaries\n",
    "dict1 = {'a': 10, 'b': 22, 'c': 30}\n",
    "dict2 = {'d': 23, 'e': 25, 'f': 26}\n",
    "\n",
    "# Concatenate the two dictionaries\n",
    "dict1.update(dict2)\n",
    "\n",
    "# Print the concatenated dictionary\n",
    "print(dict1)\n"
   ]
  },
  {
   "cell_type": "markdown",
   "id": "b050a9ee",
   "metadata": {},
   "source": [
    "# Q12.WAP to remove duplicates values from a list\n",
    "\n"
   ]
  },
  {
   "cell_type": "code",
   "execution_count": 37,
   "id": "064114a5",
   "metadata": {},
   "outputs": [
    {
     "name": "stdout",
     "output_type": "stream",
     "text": [
      "Duplicate values are removed from list l1:  [1, 2, 3, 4, 5, 'Jayesh', 10]\n"
     ]
    }
   ],
   "source": [
    "l1=[1,2,3,\"Jayesh\",2,10,2,\"Jayesh\",4,5,2,3,4,5,1]\n",
    "l2=list(set(l1))\n",
    "print(\"Duplicate values are removed from list l1: \", l2)"
   ]
  },
  {
   "cell_type": "markdown",
   "id": "263fee71",
   "metadata": {},
   "source": [
    "# Q13.WAP to remove key value pair where value is greater than entered number from the dictionary\n",
    "\n",
    "D ={‘a’:10,’b’:37,’c’:22,’d’:33}\n",
    "\n",
    "Sample Output:\n",
    "\n",
    "Entered number: 30\n",
    "\n",
    "O/P: D ={‘a’:10,’c’:22}\n",
    "\n"
   ]
  },
  {
   "cell_type": "code",
   "execution_count": 38,
   "id": "c49c4b22",
   "metadata": {},
   "outputs": [
    {
     "name": "stdout",
     "output_type": "stream",
     "text": [
      "Enter the maximum value: 30\n",
      "Output:\n",
      "{'a': 10, 'c': 22}\n"
     ]
    }
   ],
   "source": [
    "# Define the dictionary\n",
    "D = {'a': 10, 'b': 37, 'c': 22, 'd': 33}\n",
    "\n",
    "# Get the maximum value from the user\n",
    "max_value = int(input(\"Enter the maximum value: \"))\n",
    "\n",
    "# Use a dictionary comprehension to remove key-value pairs where the value is greater than the maximum value\n",
    "D = {key: value for key, value in D.items() if value <= max_value}\n",
    "\n",
    "# Print the resulting dictionary\n",
    "print(\"Output:\")\n",
    "print(D)\n"
   ]
  },
  {
   "cell_type": "code",
   "execution_count": null,
   "id": "9dbeab8f",
   "metadata": {},
   "outputs": [],
   "source": []
  }
 ],
 "metadata": {
  "kernelspec": {
   "display_name": "Python 3 (ipykernel)",
   "language": "python",
   "name": "python3"
  },
  "language_info": {
   "codemirror_mode": {
    "name": "ipython",
    "version": 3
   },
   "file_extension": ".py",
   "mimetype": "text/x-python",
   "name": "python",
   "nbconvert_exporter": "python",
   "pygments_lexer": "ipython3",
   "version": "3.9.13"
  }
 },
 "nbformat": 4,
 "nbformat_minor": 5
}
